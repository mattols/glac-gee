{
 "cells": [
  {
   "cell_type": "markdown",
   "id": "a52fd850-eee3-4b7f-bcf6-e6064bbd6cb1",
   "metadata": {},
   "source": [
    "## Glacier surface process characterization with gee"
   ]
  },
  {
   "cell_type": "markdown",
   "id": "0cccbd9a-3685-45f0-889a-22f01a0bcac9",
   "metadata": {},
   "source": [
    "#### June 07 "
   ]
  },
  {
   "cell_type": "code",
   "execution_count": 1,
   "id": "02109cce-0d12-4a3a-b8db-0a56bf49c551",
   "metadata": {},
   "outputs": [],
   "source": [
    "import pandas as pd\n",
    "import geopandas as gpd\n",
    "from geopandas import GeoDataFrame\n",
    "import numpy as np\n",
    "from shapely.geometry import Point\n",
    "from matplotlib import pyplot as plt\n",
    "\n",
    "import ee\n",
    "\n",
    "import geemap #bless these people\n",
    "\n",
    "import json\n",
    "\n",
    "import os"
   ]
  },
  {
   "cell_type": "code",
   "execution_count": 2,
   "id": "148ed429-833c-41dc-bdfd-5546986e706e",
   "metadata": {},
   "outputs": [
    {
     "data": {
      "text/html": [
       "\n",
       "            <style>\n",
       "                .geemap-dark {\n",
       "                    --jp-widgets-color: white;\n",
       "                    --jp-widgets-label-color: white;\n",
       "                    --jp-ui-font-color1: white;\n",
       "                    --jp-layout-color2: #454545;\n",
       "                    background-color: #383838;\n",
       "                }\n",
       "\n",
       "                .geemap-dark .jupyter-button {\n",
       "                    --jp-layout-color3: #383838;\n",
       "                }\n",
       "\n",
       "                .geemap-colab {\n",
       "                    background-color: var(--colab-primary-surface-color, white);\n",
       "                }\n",
       "\n",
       "                .geemap-colab .jupyter-button {\n",
       "                    --jp-layout-color3: var(--colab-primary-surface-color, white);\n",
       "                }\n",
       "            </style>\n",
       "            "
      ],
      "text/plain": [
       "<IPython.core.display.HTML object>"
      ]
     },
     "metadata": {},
     "output_type": "display_data"
    },
    {
     "data": {
      "text/html": [
       "<p>To authorize access needed by Earth Engine, open the following\n",
       "        URL in a web browser and follow the instructions:</p>\n",
       "        <p><a href=https://code.earthengine.google.com/client-auth?scopes=https%3A//www.googleapis.com/auth/earthengine%20https%3A//www.googleapis.com/auth/cloud-platform%20https%3A//www.googleapis.com/auth/devstorage.full_control&request_id=Gqt-BB9FiKbYr7hN4lkRhTaazqSPn2M2DXkjXNK1hnw&tc=kcGNoTqZu2_V7BWznQPr7Wh98xurhj9eMN5_GlHMfXA&cc=FoLGelIBwvwmtsErxC-WprxgptZtGEQDAoqsfaB6Sgw>https://code.earthengine.google.com/client-auth?scopes=https%3A//www.googleapis.com/auth/earthengine%20https%3A//www.googleapis.com/auth/cloud-platform%20https%3A//www.googleapis.com/auth/devstorage.full_control&request_id=Gqt-BB9FiKbYr7hN4lkRhTaazqSPn2M2DXkjXNK1hnw&tc=kcGNoTqZu2_V7BWznQPr7Wh98xurhj9eMN5_GlHMfXA&cc=FoLGelIBwvwmtsErxC-WprxgptZtGEQDAoqsfaB6Sgw</a></p>\n",
       "        <p>The authorization workflow will generate a code, which you should paste in the box below.</p>\n",
       "        "
      ],
      "text/plain": [
       "<IPython.core.display.HTML object>"
      ]
     },
     "metadata": {},
     "output_type": "display_data"
    },
    {
     "name": "stdin",
     "output_type": "stream",
     "text": [
      "Enter verification code:  4/1ASVgi3LvhWHrZdRyyAE82rYkKMq3gL1EQi4g1tiB146RqzWHWzF6AoF7Q5o\n"
     ]
    },
    {
     "name": "stdout",
     "output_type": "stream",
     "text": [
      "\n",
      "Successfully saved authorization token.\n"
     ]
    }
   ],
   "source": [
    "ee.Authenticate()\n",
    "ee.Initialize()"
   ]
  },
  {
   "cell_type": "code",
   "execution_count": 3,
   "id": "c6cdfbed-0b26-402e-ba9e-05eaa5e7f838",
   "metadata": {},
   "outputs": [
    {
     "data": {
      "text/html": [
       "\n",
       "            <style>\n",
       "                .geemap-dark {\n",
       "                    --jp-widgets-color: white;\n",
       "                    --jp-widgets-label-color: white;\n",
       "                    --jp-ui-font-color1: white;\n",
       "                    --jp-layout-color2: #454545;\n",
       "                    background-color: #383838;\n",
       "                }\n",
       "\n",
       "                .geemap-dark .jupyter-button {\n",
       "                    --jp-layout-color3: #383838;\n",
       "                }\n",
       "\n",
       "                .geemap-colab {\n",
       "                    background-color: var(--colab-primary-surface-color, white);\n",
       "                }\n",
       "\n",
       "                .geemap-colab .jupyter-button {\n",
       "                    --jp-layout-color3: var(--colab-primary-surface-color, white);\n",
       "                }\n",
       "            </style>\n",
       "            "
      ],
      "text/plain": [
       "<IPython.core.display.HTML object>"
      ]
     },
     "metadata": {},
     "output_type": "display_data"
    }
   ],
   "source": [
    "# Define the region of interest (Everest)\n",
    "everest = ee.Geometry.Rectangle(86.5, 27.7, 87.3, 28.2)\n",
    "\n",
    "# Define the date range\n",
    "start_date = '2020-01-01'\n",
    "end_date = '2020-12-31'\n",
    "\n",
    "# Define the Landsat Collection 2 Level-2 collection\n",
    "landsat = ee.ImageCollection('LANDSAT/LC08/C02/T1_L2')\n",
    "\n",
    "# Filter the collection by date range and region\n",
    "landsat_filtered = landsat.filterDate(start_date, end_date).filterBounds(everest)"
   ]
  },
  {
   "cell_type": "code",
   "execution_count": 4,
   "id": "5e51c5a2-8f7f-4483-bbcf-74f5c23f0348",
   "metadata": {},
   "outputs": [
    {
     "data": {
      "text/html": [
       "\n",
       "            <style>\n",
       "                .geemap-dark {\n",
       "                    --jp-widgets-color: white;\n",
       "                    --jp-widgets-label-color: white;\n",
       "                    --jp-ui-font-color1: white;\n",
       "                    --jp-layout-color2: #454545;\n",
       "                    background-color: #383838;\n",
       "                }\n",
       "\n",
       "                .geemap-dark .jupyter-button {\n",
       "                    --jp-layout-color3: #383838;\n",
       "                }\n",
       "\n",
       "                .geemap-colab {\n",
       "                    background-color: var(--colab-primary-surface-color, white);\n",
       "                }\n",
       "\n",
       "                .geemap-colab .jupyter-button {\n",
       "                    --jp-layout-color3: var(--colab-primary-surface-color, white);\n",
       "                }\n",
       "            </style>\n",
       "            "
      ],
      "text/plain": [
       "<IPython.core.display.HTML object>"
      ]
     },
     "metadata": {},
     "output_type": "display_data"
    },
    {
     "name": "stdout",
     "output_type": "stream",
     "text": [
      "Number of images: 42\n"
     ]
    }
   ],
   "source": [
    "print(f\"Number of images: {landsat_filtered.size().getInfo()}\")"
   ]
  },
  {
   "cell_type": "code",
   "execution_count": 5,
   "id": "63bee9ba-7af2-4416-a0c2-0c26cb3ea740",
   "metadata": {
    "scrolled": true
   },
   "outputs": [
    {
     "data": {
      "text/html": [
       "\n",
       "            <style>\n",
       "                .geemap-dark {\n",
       "                    --jp-widgets-color: white;\n",
       "                    --jp-widgets-label-color: white;\n",
       "                    --jp-ui-font-color1: white;\n",
       "                    --jp-layout-color2: #454545;\n",
       "                    background-color: #383838;\n",
       "                }\n",
       "\n",
       "                .geemap-dark .jupyter-button {\n",
       "                    --jp-layout-color3: #383838;\n",
       "                }\n",
       "\n",
       "                .geemap-colab {\n",
       "                    background-color: var(--colab-primary-surface-color, white);\n",
       "                }\n",
       "\n",
       "                .geemap-colab .jupyter-button {\n",
       "                    --jp-layout-color3: var(--colab-primary-surface-color, white);\n",
       "                }\n",
       "            </style>\n",
       "            "
      ],
      "text/plain": [
       "<IPython.core.display.HTML object>"
      ]
     },
     "metadata": {},
     "output_type": "display_data"
    },
    {
     "data": {
      "application/vnd.jupyter.widget-view+json": {
       "model_id": "92a7a56cd6ec43358c39e5ad107c1a88",
       "version_major": 2,
       "version_minor": 0
      },
      "text/plain": [
       "Map(center=[27.9881, 86.925], controls=(WidgetControl(options=['position', 'transparent_bg'], widget=SearchDat…"
      ]
     },
     "execution_count": 5,
     "metadata": {},
     "output_type": "execute_result"
    }
   ],
   "source": [
    "# Define the visualization parameters\n",
    "vis_params = {\n",
    "    'min': 0,\n",
    "    'max': 65455,\n",
    "    'bands': ['SR_B4', 'SR_B3', 'SR_B2']\n",
    "}\n",
    "\n",
    "# Create a map to display the Landsat images\n",
    "Map = geemap.Map()\n",
    "Map.setCenter(86.9250,  27.9881, 9);\n",
    "\n",
    "# Add the Landsat images to the map (just first image)\n",
    "first_image = landsat_filtered.first()\n",
    "# print(\"Band names:\", first_image.bandNames().getInfo())\n",
    "\n",
    "Map.addLayer(first_image, vis_params, 'Landsat 8 over Everest')\n",
    "Map.addLayer(everest, {}, 'Polygon')\n",
    "Map"
   ]
  },
  {
   "cell_type": "markdown",
   "id": "b8fae196-4568-4b5c-a62d-06582616997e",
   "metadata": {},
   "source": [
    "#### We need to filter the image better"
   ]
  },
  {
   "cell_type": "markdown",
   "id": "c0662f80-7ae2-4e14-a846-4d6b72c4e3a9",
   "metadata": {},
   "source": [
    "Focus on Landsat Path/Row id's for the best coverage"
   ]
  },
  {
   "cell_type": "code",
   "execution_count": 6,
   "id": "73ea7a19-f985-4e8a-b6f1-1fb7d7e16e52",
   "metadata": {},
   "outputs": [
    {
     "data": {
      "text/html": [
       "\n",
       "            <style>\n",
       "                .geemap-dark {\n",
       "                    --jp-widgets-color: white;\n",
       "                    --jp-widgets-label-color: white;\n",
       "                    --jp-ui-font-color1: white;\n",
       "                    --jp-layout-color2: #454545;\n",
       "                    background-color: #383838;\n",
       "                }\n",
       "\n",
       "                .geemap-dark .jupyter-button {\n",
       "                    --jp-layout-color3: #383838;\n",
       "                }\n",
       "\n",
       "                .geemap-colab {\n",
       "                    background-color: var(--colab-primary-surface-color, white);\n",
       "                }\n",
       "\n",
       "                .geemap-colab .jupyter-button {\n",
       "                    --jp-layout-color3: var(--colab-primary-surface-color, white);\n",
       "                }\n",
       "            </style>\n",
       "            "
      ],
      "text/plain": [
       "<IPython.core.display.HTML object>"
      ]
     },
     "metadata": {},
     "output_type": "display_data"
    }
   ],
   "source": [
    "# Filter the collection by date range, region, cloud cover, and path/row\n",
    "path = 140\n",
    "row = 41\n",
    "landsat_filtered = landsat.filterDate(start_date, end_date) \\\n",
    "                           .filterBounds(everest) \\\n",
    "                           .filter(ee.Filter.lt('CLOUD_COVER', 50)) \\\n",
    "                           .filter(ee.Filter.eq('WRS_PATH', path)) \\\n",
    "                           .filter(ee.Filter.eq('WRS_ROW', row))"
   ]
  },
  {
   "cell_type": "code",
   "execution_count": 7,
   "id": "7044c0a1-3641-4176-b5db-60e29ba4841e",
   "metadata": {},
   "outputs": [
    {
     "data": {
      "text/html": [
       "\n",
       "            <style>\n",
       "                .geemap-dark {\n",
       "                    --jp-widgets-color: white;\n",
       "                    --jp-widgets-label-color: white;\n",
       "                    --jp-ui-font-color1: white;\n",
       "                    --jp-layout-color2: #454545;\n",
       "                    background-color: #383838;\n",
       "                }\n",
       "\n",
       "                .geemap-dark .jupyter-button {\n",
       "                    --jp-layout-color3: #383838;\n",
       "                }\n",
       "\n",
       "                .geemap-colab {\n",
       "                    background-color: var(--colab-primary-surface-color, white);\n",
       "                }\n",
       "\n",
       "                .geemap-colab .jupyter-button {\n",
       "                    --jp-layout-color3: var(--colab-primary-surface-color, white);\n",
       "                }\n",
       "            </style>\n",
       "            "
      ],
      "text/plain": [
       "<IPython.core.display.HTML object>"
      ]
     },
     "metadata": {},
     "output_type": "display_data"
    },
    {
     "data": {
      "application/vnd.jupyter.widget-view+json": {
       "model_id": "adf05a14859148f9bf15b910026f09de",
       "version_major": 2,
       "version_minor": 0
      },
      "text/plain": [
       "Map(center=[27.9881, 86.925], controls=(WidgetControl(options=['position', 'transparent_bg'], widget=SearchDat…"
      ]
     },
     "execution_count": 7,
     "metadata": {},
     "output_type": "execute_result"
    }
   ],
   "source": [
    "# Define a polygon geometry\n",
    "polygon = ee.Geometry.Polygon([[\n",
    "    [86.6, 27.8], [86.6, 28.2], [87.4, 28.2], [87.4, 27.8], [86.6, 27.8]\n",
    "]])\n",
    "# vis params for bounding xo to see image better\n",
    "vis_params = {\n",
    "    'color': 'red', \n",
    "    'pointSize': 3,\n",
    "    'pointShape': 'circle',\n",
    "    'width': 2,\n",
    "    'lineType': 'solid',\n",
    "    'fillColor': '00000000',\n",
    "}\n",
    "\n",
    "# Create a map to display the Landsat images\n",
    "Map = geemap.Map()\n",
    "Map.setCenter(86.9250,  27.9881, 10);\n",
    "\n",
    "# Add the Landsat images to the map (just first image)\n",
    "first_image = landsat_filtered.first()\n",
    "# print(\"Band names:\", first_image.bandNames().getInfo())\n",
    "\n",
    "Map.addLayer(first_image, vis_params, 'Landsat 8 over Everest')\n",
    "# Add the polygon to the map with transparent fill\n",
    "Map.addLayer(polygon, {'color': '00000000', 'fillColor': '00000030'}, 'Polygon')\n",
    "\n",
    "Map"
   ]
  },
  {
   "cell_type": "markdown",
   "id": "0eda1eb6-f92b-41d3-b785-ed6ed166c2e6",
   "metadata": {},
   "source": [
    "#### Clip to area and display date"
   ]
  },
  {
   "cell_type": "code",
   "execution_count": 8,
   "id": "2ff60cc6-c9db-44e3-a0f6-3c68e4e274cd",
   "metadata": {},
   "outputs": [
    {
     "data": {
      "text/html": [
       "\n",
       "            <style>\n",
       "                .geemap-dark {\n",
       "                    --jp-widgets-color: white;\n",
       "                    --jp-widgets-label-color: white;\n",
       "                    --jp-ui-font-color1: white;\n",
       "                    --jp-layout-color2: #454545;\n",
       "                    background-color: #383838;\n",
       "                }\n",
       "\n",
       "                .geemap-dark .jupyter-button {\n",
       "                    --jp-layout-color3: #383838;\n",
       "                }\n",
       "\n",
       "                .geemap-colab {\n",
       "                    background-color: var(--colab-primary-surface-color, white);\n",
       "                }\n",
       "\n",
       "                .geemap-colab .jupyter-button {\n",
       "                    --jp-layout-color3: var(--colab-primary-surface-color, white);\n",
       "                }\n",
       "            </style>\n",
       "            "
      ],
      "text/plain": [
       "<IPython.core.display.HTML object>"
      ]
     },
     "metadata": {},
     "output_type": "display_data"
    },
    {
     "data": {
      "application/vnd.jupyter.widget-view+json": {
       "model_id": "b70f141df57d49f59a0f86f1e08868bf",
       "version_major": 2,
       "version_minor": 0
      },
      "text/plain": [
       "Map(center=[27.9881, 86.925], controls=(WidgetControl(options=['position', 'transparent_bg'], widget=SearchDat…"
      ]
     },
     "execution_count": 8,
     "metadata": {},
     "output_type": "execute_result"
    }
   ],
   "source": [
    "# Create a map to display the Landsat images\n",
    "Map = geemap.Map()\n",
    "Map.setCenter(86.9250,  27.9881, 12);\n",
    "\n",
    "# Add the Landsat images to the map (just first image)\n",
    "first_image = landsat_filtered.first().clip(polygon)\n",
    "# print(\"Band names:\", first_image.bandNames().getInfo())\n",
    "\n",
    "Map.addLayer(first_image, vis_params, 'Landsat 8 over Everest')\n",
    "# Add the polygon to the map with transparent fill\n",
    "Map.addLayer(polygon, {'color': '00000000', 'fillColor': '00000030'}, 'Polygon')\n",
    "\n",
    "Map\n"
   ]
  },
  {
   "cell_type": "code",
   "execution_count": 9,
   "id": "dd0cbf2c-c272-486c-8cc0-bb2367969a33",
   "metadata": {},
   "outputs": [
    {
     "data": {
      "text/html": [
       "\n",
       "            <style>\n",
       "                .geemap-dark {\n",
       "                    --jp-widgets-color: white;\n",
       "                    --jp-widgets-label-color: white;\n",
       "                    --jp-ui-font-color1: white;\n",
       "                    --jp-layout-color2: #454545;\n",
       "                    background-color: #383838;\n",
       "                }\n",
       "\n",
       "                .geemap-dark .jupyter-button {\n",
       "                    --jp-layout-color3: #383838;\n",
       "                }\n",
       "\n",
       "                .geemap-colab {\n",
       "                    background-color: var(--colab-primary-surface-color, white);\n",
       "                }\n",
       "\n",
       "                .geemap-colab .jupyter-button {\n",
       "                    --jp-layout-color3: var(--colab-primary-surface-color, white);\n",
       "                }\n",
       "            </style>\n",
       "            "
      ],
      "text/plain": [
       "<IPython.core.display.HTML object>"
      ]
     },
     "metadata": {},
     "output_type": "display_data"
    },
    {
     "data": {
      "text/plain": [
       "[Timestamp('2020-01-15 04:42:20.589000'),\n",
       " Timestamp('2020-01-31 04:42:15.629000'),\n",
       " Timestamp('2020-02-16 04:42:11.851000'),\n",
       " Timestamp('2020-03-03 04:42:06.959000'),\n",
       " Timestamp('2020-03-19 04:41:59.560000'),\n",
       " Timestamp('2020-04-04 04:41:50.179000'),\n",
       " Timestamp('2020-04-20 04:41:43.815000'),\n",
       " Timestamp('2020-05-06 04:41:34.890000'),\n",
       " Timestamp('2020-06-07 04:41:44.012000'),\n",
       " Timestamp('2020-09-27 04:42:28.065000'),\n",
       " Timestamp('2020-10-13 04:42:30.156000'),\n",
       " Timestamp('2020-10-29 04:42:29.541000'),\n",
       " Timestamp('2020-11-14 04:42:26.752000'),\n",
       " Timestamp('2020-11-30 04:42:30.907000'),\n",
       " Timestamp('2020-12-16 04:42:30.723000')]"
      ]
     },
     "execution_count": 9,
     "metadata": {},
     "output_type": "execute_result"
    }
   ],
   "source": [
    "\n",
    "# Get dates\n",
    "dates = landsat_filtered.aggregate_array('system:time_start')\n",
    "# Convert milliseconds to datetime\n",
    "dates = [pd.to_datetime(date, unit='ms') for date in dates.getInfo()]\n",
    "dates"
   ]
  },
  {
   "cell_type": "code",
   "execution_count": 10,
   "id": "b59f7ba0-c68e-40a0-9be7-84c6bad28a27",
   "metadata": {},
   "outputs": [
    {
     "data": {
      "text/html": [
       "\n",
       "            <style>\n",
       "                .geemap-dark {\n",
       "                    --jp-widgets-color: white;\n",
       "                    --jp-widgets-label-color: white;\n",
       "                    --jp-ui-font-color1: white;\n",
       "                    --jp-layout-color2: #454545;\n",
       "                    background-color: #383838;\n",
       "                }\n",
       "\n",
       "                .geemap-dark .jupyter-button {\n",
       "                    --jp-layout-color3: #383838;\n",
       "                }\n",
       "\n",
       "                .geemap-colab {\n",
       "                    background-color: var(--colab-primary-surface-color, white);\n",
       "                }\n",
       "\n",
       "                .geemap-colab .jupyter-button {\n",
       "                    --jp-layout-color3: var(--colab-primary-surface-color, white);\n",
       "                }\n",
       "            </style>\n",
       "            "
      ],
      "text/plain": [
       "<IPython.core.display.HTML object>"
      ]
     },
     "metadata": {},
     "output_type": "display_data"
    },
    {
     "data": {
      "text/plain": [
       "['SR_B1',\n",
       " 'SR_B2',\n",
       " 'SR_B3',\n",
       " 'SR_B4',\n",
       " 'SR_B5',\n",
       " 'SR_B6',\n",
       " 'SR_B7',\n",
       " 'SR_QA_AEROSOL',\n",
       " 'ST_B10',\n",
       " 'ST_ATRAN',\n",
       " 'ST_CDIST',\n",
       " 'ST_DRAD',\n",
       " 'ST_EMIS',\n",
       " 'ST_EMSD',\n",
       " 'ST_QA',\n",
       " 'ST_TRAD',\n",
       " 'ST_URAD',\n",
       " 'QA_PIXEL',\n",
       " 'QA_RADSAT']"
      ]
     },
     "execution_count": 10,
     "metadata": {},
     "output_type": "execute_result"
    }
   ],
   "source": [
    "landsat_filtered.first().bandNames().getInfo()\n",
    "# print(\"Band names:\", first_image.bandNames().getInfo())"
   ]
  },
  {
   "cell_type": "code",
   "execution_count": 11,
   "id": "30d890a9-285e-40fe-8de5-3c6021148868",
   "metadata": {},
   "outputs": [
    {
     "data": {
      "text/html": [
       "\n",
       "            <style>\n",
       "                .geemap-dark {\n",
       "                    --jp-widgets-color: white;\n",
       "                    --jp-widgets-label-color: white;\n",
       "                    --jp-ui-font-color1: white;\n",
       "                    --jp-layout-color2: #454545;\n",
       "                    background-color: #383838;\n",
       "                }\n",
       "\n",
       "                .geemap-dark .jupyter-button {\n",
       "                    --jp-layout-color3: #383838;\n",
       "                }\n",
       "\n",
       "                .geemap-colab {\n",
       "                    background-color: var(--colab-primary-surface-color, white);\n",
       "                }\n",
       "\n",
       "                .geemap-colab .jupyter-button {\n",
       "                    --jp-layout-color3: var(--colab-primary-surface-color, white);\n",
       "                }\n",
       "            </style>\n",
       "            "
      ],
      "text/plain": [
       "<IPython.core.display.HTML object>"
      ]
     },
     "metadata": {},
     "output_type": "display_data"
    }
   ],
   "source": [
    "# to map several images\n",
    "def L08_NDSI (image):\n",
    "  index= image.normalizedDifference(['SR_B3','SR_B6']).rename('NDSI');\n",
    "  return image.addBands(index)"
   ]
  },
  {
   "cell_type": "code",
   "execution_count": 12,
   "id": "91b5f8ba-5883-4fc4-844f-2ccba6c7f623",
   "metadata": {
    "scrolled": true
   },
   "outputs": [
    {
     "data": {
      "text/html": [
       "\n",
       "            <style>\n",
       "                .geemap-dark {\n",
       "                    --jp-widgets-color: white;\n",
       "                    --jp-widgets-label-color: white;\n",
       "                    --jp-ui-font-color1: white;\n",
       "                    --jp-layout-color2: #454545;\n",
       "                    background-color: #383838;\n",
       "                }\n",
       "\n",
       "                .geemap-dark .jupyter-button {\n",
       "                    --jp-layout-color3: #383838;\n",
       "                }\n",
       "\n",
       "                .geemap-colab {\n",
       "                    background-color: var(--colab-primary-surface-color, white);\n",
       "                }\n",
       "\n",
       "                .geemap-colab .jupyter-button {\n",
       "                    --jp-layout-color3: var(--colab-primary-surface-color, white);\n",
       "                }\n",
       "            </style>\n",
       "            "
      ],
      "text/plain": [
       "<IPython.core.display.HTML object>"
      ]
     },
     "metadata": {},
     "output_type": "display_data"
    }
   ],
   "source": [
    "ndsi_all= landsat_filtered.filter(ee.Filter.date('2013-01-01', '2019-12-31')).map(L08_NDSI)"
   ]
  },
  {
   "cell_type": "code",
   "execution_count": 13,
   "id": "0f82c59e-6ab3-41b4-82bb-2e5c6fe2d50a",
   "metadata": {},
   "outputs": [
    {
     "data": {
      "text/html": [
       "\n",
       "            <style>\n",
       "                .geemap-dark {\n",
       "                    --jp-widgets-color: white;\n",
       "                    --jp-widgets-label-color: white;\n",
       "                    --jp-ui-font-color1: white;\n",
       "                    --jp-layout-color2: #454545;\n",
       "                    background-color: #383838;\n",
       "                }\n",
       "\n",
       "                .geemap-dark .jupyter-button {\n",
       "                    --jp-layout-color3: #383838;\n",
       "                }\n",
       "\n",
       "                .geemap-colab {\n",
       "                    background-color: var(--colab-primary-surface-color, white);\n",
       "                }\n",
       "\n",
       "                .geemap-colab .jupyter-button {\n",
       "                    --jp-layout-color3: var(--colab-primary-surface-color, white);\n",
       "                }\n",
       "            </style>\n",
       "            "
      ],
      "text/plain": [
       "<IPython.core.display.HTML object>"
      ]
     },
     "metadata": {},
     "output_type": "display_data"
    },
    {
     "data": {
      "application/vnd.jupyter.widget-view+json": {
       "model_id": "6d351859d52444d99990819e29f54ab4",
       "version_major": 2,
       "version_minor": 0
      },
      "text/plain": [
       "Map(center=[27.9881, 86.925], controls=(WidgetControl(options=['position', 'transparent_bg'], widget=SearchDat…"
      ]
     },
     "execution_count": 13,
     "metadata": {},
     "output_type": "execute_result"
    }
   ],
   "source": [
    "# pallete\n",
    "vis = {\n",
    "    'min': -1.0,\n",
    "    'max': 1.0,\n",
    "    'palette': ['#FFFF00', '#c7d270','#81B622', '#008631', '#3D550C']}\n",
    "\n",
    "# Create a map to display the Landsat images\n",
    "Map = geemap.Map()\n",
    "Map.setCenter(86.9250,  27.9881, 12);\n",
    "\n",
    "# Add the Landsat images to the map (just first image)\n",
    "first_image = landsat_filtered.first().clip(polygon)\n",
    "\n",
    "first_ndsi = landsat_filtered.first().normalizedDifference(['SR_B3','SR_B6']).rename('NDSI').clip(polygon)\n",
    "ndsi = first_ndsi.gt(0.2)\n",
    "\n",
    "Map.addLayer(first_image, vis_params, 'Landsat 8')\n",
    "Map.addLayer(first_ndsi, vis, 'NDSI')\n",
    "Map.addLayer(ndsi, {\"min\": 0, \"max\": 1, 'palette': [\"black\",\"cyan\"], 'opacity': 0.5}, 'NDSI mask')\n",
    "\n",
    "Map"
   ]
  },
  {
   "cell_type": "code",
   "execution_count": null,
   "id": "d0d9c72a-5c6a-4c68-8258-b4e302aba401",
   "metadata": {},
   "outputs": [],
   "source": []
  },
  {
   "cell_type": "code",
   "execution_count": 14,
   "id": "14343ee8-5cf8-49dc-b337-3448ac6be518",
   "metadata": {},
   "outputs": [
    {
     "data": {
      "text/html": [
       "\n",
       "            <style>\n",
       "                .geemap-dark {\n",
       "                    --jp-widgets-color: white;\n",
       "                    --jp-widgets-label-color: white;\n",
       "                    --jp-ui-font-color1: white;\n",
       "                    --jp-layout-color2: #454545;\n",
       "                    background-color: #383838;\n",
       "                }\n",
       "\n",
       "                .geemap-dark .jupyter-button {\n",
       "                    --jp-layout-color3: #383838;\n",
       "                }\n",
       "\n",
       "                .geemap-colab {\n",
       "                    background-color: var(--colab-primary-surface-color, white);\n",
       "                }\n",
       "\n",
       "                .geemap-colab .jupyter-button {\n",
       "                    --jp-layout-color3: var(--colab-primary-surface-color, white);\n",
       "                }\n",
       "            </style>\n",
       "            "
      ],
      "text/plain": [
       "<IPython.core.display.HTML object>"
      ]
     },
     "metadata": {},
     "output_type": "display_data"
    }
   ],
   "source": [
    "#Function from https://gis.stackexchange.com/q/360278\n",
    "# https://gis.stackexchange.com/questions/386715/getting-ndvi-values-from-ee-image-using-google-earth-engine-python-api\n",
    "def meanNDSICollection (img, aoi):\n",
    "  nir = img.select('SR_B6')\n",
    "  red = img.select('SR_B3')\n",
    "  ndviImage = nir.subtract(red).divide(nir.add(red)).rename('NDSI')\n",
    "\n",
    "  # Compute the mean of NDVI over the 'region'\n",
    "  ndviValue = ndviImage.reduceRegion(**{\n",
    "    'geometry': aoi.getInfo(),\n",
    "    'reducer': ee.Reducer.mean(),\n",
    "  }).get('NDSI');  # result of reduceRegion is always a dictionary, so get the element we want\n",
    "\n",
    "  newFeature = ee.Feature(None, {\n",
    "      # Adding computed NDVI value\n",
    "      'NDSI': ndviValue\n",
    "  }).copyProperties(img, [\n",
    "      # Picking properties from original image\n",
    "      'system:time_start'\n",
    "  ])\n",
    "\n",
    "  return newFeature"
   ]
  },
  {
   "cell_type": "code",
   "execution_count": 15,
   "id": "a2a2e31a-ee39-4fab-8975-bac1cbdb1e1d",
   "metadata": {},
   "outputs": [
    {
     "data": {
      "text/html": [
       "\n",
       "            <style>\n",
       "                .geemap-dark {\n",
       "                    --jp-widgets-color: white;\n",
       "                    --jp-widgets-label-color: white;\n",
       "                    --jp-ui-font-color1: white;\n",
       "                    --jp-layout-color2: #454545;\n",
       "                    background-color: #383838;\n",
       "                }\n",
       "\n",
       "                .geemap-dark .jupyter-button {\n",
       "                    --jp-layout-color3: #383838;\n",
       "                }\n",
       "\n",
       "                .geemap-colab {\n",
       "                    background-color: var(--colab-primary-surface-color, white);\n",
       "                }\n",
       "\n",
       "                .geemap-colab .jupyter-button {\n",
       "                    --jp-layout-color3: var(--colab-primary-surface-color, white);\n",
       "                }\n",
       "            </style>\n",
       "            "
      ],
      "text/plain": [
       "<IPython.core.display.HTML object>"
      ]
     },
     "metadata": {},
     "output_type": "display_data"
    },
    {
     "name": "stdout",
     "output_type": "stream",
     "text": [
      "-0.2754547928190087\n"
     ]
    }
   ],
   "source": [
    "ndsi_means = meanNDSICollection(landsat_filtered.first(),polygon)\n",
    "print(ndsi_means.get('NDSI').getInfo())"
   ]
  },
  {
   "cell_type": "code",
   "execution_count": 16,
   "id": "0497896f-1ae0-4465-ba45-8efa5b7c5783",
   "metadata": {},
   "outputs": [
    {
     "data": {
      "text/html": [
       "\n",
       "            <style>\n",
       "                .geemap-dark {\n",
       "                    --jp-widgets-color: white;\n",
       "                    --jp-widgets-label-color: white;\n",
       "                    --jp-ui-font-color1: white;\n",
       "                    --jp-layout-color2: #454545;\n",
       "                    background-color: #383838;\n",
       "                }\n",
       "\n",
       "                .geemap-dark .jupyter-button {\n",
       "                    --jp-layout-color3: #383838;\n",
       "                }\n",
       "\n",
       "                .geemap-colab {\n",
       "                    background-color: var(--colab-primary-surface-color, white);\n",
       "                }\n",
       "\n",
       "                .geemap-colab .jupyter-button {\n",
       "                    --jp-layout-color3: var(--colab-primary-surface-color, white);\n",
       "                }\n",
       "            </style>\n",
       "            "
      ],
      "text/plain": [
       "<IPython.core.display.HTML object>"
      ]
     },
     "metadata": {},
     "output_type": "display_data"
    },
    {
     "name": "stdout",
     "output_type": "stream",
     "text": [
      "[26040.24579973134, 28861.718502904263, 23353.497645611216, 33747.241981666106, 31739.50661806349, 27927.848922866287, 30031.426598571692, 33492.82618245496, 34178.008361299064, 28840.10996714588, 23080.69165302746, 20371.94864796834, 19727.683494094927, 21141.02887923136, 19011.83079133876]\n"
     ]
    }
   ],
   "source": [
    "# Define a polygon geometry\n",
    "polygon2 = ee.Geometry.Polygon([[\n",
    "    [87.0, 27.8], [87.0, 28.0], [87.2, 28.00], [87.0, 27.8], [86.8, 27.8]\n",
    "]])\n",
    "\n",
    "def setProperty(image):\n",
    "    dict = image.reduceRegion(ee.Reducer.mean(), polygon2)\n",
    "    return image.set(dict)\n",
    "\n",
    "withMean = landsat_filtered.map(setProperty)\n",
    "\n",
    "print(withMean.aggregate_array('SR_B3').getInfo())"
   ]
  },
  {
   "cell_type": "code",
   "execution_count": 17,
   "id": "d0a754f4-4911-454c-a614-08f55f6a7d3e",
   "metadata": {},
   "outputs": [
    {
     "data": {
      "text/html": [
       "\n",
       "            <style>\n",
       "                .geemap-dark {\n",
       "                    --jp-widgets-color: white;\n",
       "                    --jp-widgets-label-color: white;\n",
       "                    --jp-ui-font-color1: white;\n",
       "                    --jp-layout-color2: #454545;\n",
       "                    background-color: #383838;\n",
       "                }\n",
       "\n",
       "                .geemap-dark .jupyter-button {\n",
       "                    --jp-layout-color3: #383838;\n",
       "                }\n",
       "\n",
       "                .geemap-colab {\n",
       "                    background-color: var(--colab-primary-surface-color, white);\n",
       "                }\n",
       "\n",
       "                .geemap-colab .jupyter-button {\n",
       "                    --jp-layout-color3: var(--colab-primary-surface-color, white);\n",
       "                }\n",
       "            </style>\n",
       "            "
      ],
      "text/plain": [
       "<IPython.core.display.HTML object>"
      ]
     },
     "metadata": {},
     "output_type": "display_data"
    },
    {
     "name": "stdout",
     "output_type": "stream",
     "text": [
      "[0.2830310869490237, 0.3341926030216123, 0.25235620008428983, 0.46232910043430614, 0.36407508484174733, 0.335105541317788, 0.30841825880757895, 0.32911599390159585, 0.41754490546541234, 0.2925125952095502, 0.15086359648724848, 0.1454951834908574, 0.13384597215285862, 0.17676501308365866, 0.11603904834754791]\n"
     ]
    }
   ],
   "source": [
    "ndsi_all = landsat_filtered.map(L08_NDSI).map(setProperty)\n",
    "print(ndsi_all.aggregate_array('NDSI').getInfo())"
   ]
  },
  {
   "cell_type": "code",
   "execution_count": 18,
   "id": "4d5fa926-fae6-4e1c-992c-04ece76bdb3e",
   "metadata": {},
   "outputs": [
    {
     "data": {
      "text/html": [
       "\n",
       "            <style>\n",
       "                .geemap-dark {\n",
       "                    --jp-widgets-color: white;\n",
       "                    --jp-widgets-label-color: white;\n",
       "                    --jp-ui-font-color1: white;\n",
       "                    --jp-layout-color2: #454545;\n",
       "                    background-color: #383838;\n",
       "                }\n",
       "\n",
       "                .geemap-dark .jupyter-button {\n",
       "                    --jp-layout-color3: #383838;\n",
       "                }\n",
       "\n",
       "                .geemap-colab {\n",
       "                    background-color: var(--colab-primary-surface-color, white);\n",
       "                }\n",
       "\n",
       "                .geemap-colab .jupyter-button {\n",
       "                    --jp-layout-color3: var(--colab-primary-surface-color, white);\n",
       "                }\n",
       "            </style>\n",
       "            "
      ],
      "text/plain": [
       "<IPython.core.display.HTML object>"
      ]
     },
     "metadata": {},
     "output_type": "display_data"
    },
    {
     "data": {
      "text/html": [
       "<div>\n",
       "<style scoped>\n",
       "    .dataframe tbody tr th:only-of-type {\n",
       "        vertical-align: middle;\n",
       "    }\n",
       "\n",
       "    .dataframe tbody tr th {\n",
       "        vertical-align: top;\n",
       "    }\n",
       "\n",
       "    .dataframe thead th {\n",
       "        text-align: right;\n",
       "    }\n",
       "</style>\n",
       "<table border=\"1\" class=\"dataframe\">\n",
       "  <thead>\n",
       "    <tr style=\"text-align: right;\">\n",
       "      <th></th>\n",
       "      <th>date</th>\n",
       "      <th>ndsi</th>\n",
       "      <th>blue</th>\n",
       "      <th>clouds</th>\n",
       "    </tr>\n",
       "  </thead>\n",
       "  <tbody>\n",
       "    <tr>\n",
       "      <th>0</th>\n",
       "      <td>2020-01-15 04:42:20.589</td>\n",
       "      <td>0.283031</td>\n",
       "      <td>0.503780</td>\n",
       "      <td>0.0970</td>\n",
       "    </tr>\n",
       "    <tr>\n",
       "      <th>1</th>\n",
       "      <td>2020-01-31 04:42:15.629</td>\n",
       "      <td>0.334193</td>\n",
       "      <td>0.594046</td>\n",
       "      <td>0.0912</td>\n",
       "    </tr>\n",
       "    <tr>\n",
       "      <th>2</th>\n",
       "      <td>2020-02-16 04:42:11.851</td>\n",
       "      <td>0.252356</td>\n",
       "      <td>0.415439</td>\n",
       "      <td>0.0960</td>\n",
       "    </tr>\n",
       "    <tr>\n",
       "      <th>3</th>\n",
       "      <td>2020-03-03 04:42:06.959</td>\n",
       "      <td>0.462329</td>\n",
       "      <td>0.750071</td>\n",
       "      <td>0.1847</td>\n",
       "    </tr>\n",
       "    <tr>\n",
       "      <th>4</th>\n",
       "      <td>2020-03-19 04:41:59.560</td>\n",
       "      <td>0.364075</td>\n",
       "      <td>0.684152</td>\n",
       "      <td>0.2419</td>\n",
       "    </tr>\n",
       "    <tr>\n",
       "      <th>5</th>\n",
       "      <td>2020-04-04 04:41:50.179</td>\n",
       "      <td>0.335106</td>\n",
       "      <td>0.556396</td>\n",
       "      <td>0.1297</td>\n",
       "    </tr>\n",
       "    <tr>\n",
       "      <th>6</th>\n",
       "      <td>2020-04-20 04:41:43.815</td>\n",
       "      <td>0.308418</td>\n",
       "      <td>0.633838</td>\n",
       "      <td>0.3758</td>\n",
       "    </tr>\n",
       "    <tr>\n",
       "      <th>7</th>\n",
       "      <td>2020-05-06 04:41:34.890</td>\n",
       "      <td>0.329116</td>\n",
       "      <td>0.744037</td>\n",
       "      <td>0.4347</td>\n",
       "    </tr>\n",
       "    <tr>\n",
       "      <th>8</th>\n",
       "      <td>2020-06-07 04:41:44.012</td>\n",
       "      <td>0.417545</td>\n",
       "      <td>0.764945</td>\n",
       "      <td>0.4577</td>\n",
       "    </tr>\n",
       "    <tr>\n",
       "      <th>9</th>\n",
       "      <td>2020-09-27 04:42:28.065</td>\n",
       "      <td>0.292513</td>\n",
       "      <td>0.598787</td>\n",
       "      <td>0.3490</td>\n",
       "    </tr>\n",
       "    <tr>\n",
       "      <th>10</th>\n",
       "      <td>2020-10-13 04:42:30.156</td>\n",
       "      <td>0.150864</td>\n",
       "      <td>0.412458</td>\n",
       "      <td>0.2869</td>\n",
       "    </tr>\n",
       "    <tr>\n",
       "      <th>11</th>\n",
       "      <td>2020-10-29 04:42:29.541</td>\n",
       "      <td>0.145495</td>\n",
       "      <td>0.334407</td>\n",
       "      <td>0.0365</td>\n",
       "    </tr>\n",
       "    <tr>\n",
       "      <th>12</th>\n",
       "      <td>2020-11-14 04:42:26.752</td>\n",
       "      <td>0.133846</td>\n",
       "      <td>0.315817</td>\n",
       "      <td>0.0526</td>\n",
       "    </tr>\n",
       "    <tr>\n",
       "      <th>13</th>\n",
       "      <td>2020-11-30 04:42:30.907</td>\n",
       "      <td>0.176765</td>\n",
       "      <td>0.357303</td>\n",
       "      <td>0.0547</td>\n",
       "    </tr>\n",
       "    <tr>\n",
       "      <th>14</th>\n",
       "      <td>2020-12-16 04:42:30.723</td>\n",
       "      <td>0.116039</td>\n",
       "      <td>0.296956</td>\n",
       "      <td>0.0380</td>\n",
       "    </tr>\n",
       "  </tbody>\n",
       "</table>\n",
       "</div>"
      ],
      "text/plain": [
       "                      date      ndsi      blue  clouds\n",
       "0  2020-01-15 04:42:20.589  0.283031  0.503780  0.0970\n",
       "1  2020-01-31 04:42:15.629  0.334193  0.594046  0.0912\n",
       "2  2020-02-16 04:42:11.851  0.252356  0.415439  0.0960\n",
       "3  2020-03-03 04:42:06.959  0.462329  0.750071  0.1847\n",
       "4  2020-03-19 04:41:59.560  0.364075  0.684152  0.2419\n",
       "5  2020-04-04 04:41:50.179  0.335106  0.556396  0.1297\n",
       "6  2020-04-20 04:41:43.815  0.308418  0.633838  0.3758\n",
       "7  2020-05-06 04:41:34.890  0.329116  0.744037  0.4347\n",
       "8  2020-06-07 04:41:44.012  0.417545  0.764945  0.4577\n",
       "9  2020-09-27 04:42:28.065  0.292513  0.598787  0.3490\n",
       "10 2020-10-13 04:42:30.156  0.150864  0.412458  0.2869\n",
       "11 2020-10-29 04:42:29.541  0.145495  0.334407  0.0365\n",
       "12 2020-11-14 04:42:26.752  0.133846  0.315817  0.0526\n",
       "13 2020-11-30 04:42:30.907  0.176765  0.357303  0.0547\n",
       "14 2020-12-16 04:42:30.723  0.116039  0.296956  0.0380"
      ]
     },
     "execution_count": 18,
     "metadata": {},
     "output_type": "execute_result"
    }
   ],
   "source": [
    "ndsi_df = pd.DataFrame({\"date\" : dates})\n",
    "ndsi_df['ndsi'] = ndsi_all.aggregate_array('NDSI').getInfo()\n",
    "ndsi_df['blue'] = ndsi_all.aggregate_array('SR_B2').getInfo()\n",
    "ndsi_df['clouds'] = landsat_filtered.aggregate_array('CLOUD_COVER').getInfo()\n",
    "ndsi_df['blue'] = [x * 0.0000275 - 0.2 for x in ndsi_df['blue']] # apply scale factor\n",
    "ndsi_df['clouds'] = [x /100 for x in ndsi_df['clouds']] # make decimel\n",
    "ndsi_df"
   ]
  },
  {
   "cell_type": "code",
   "execution_count": 21,
   "id": "33c101fc-4a2e-452a-9f4d-d31f72c3f19c",
   "metadata": {},
   "outputs": [
    {
     "data": {
      "text/html": [
       "\n",
       "            <style>\n",
       "                .geemap-dark {\n",
       "                    --jp-widgets-color: white;\n",
       "                    --jp-widgets-label-color: white;\n",
       "                    --jp-ui-font-color1: white;\n",
       "                    --jp-layout-color2: #454545;\n",
       "                    background-color: #383838;\n",
       "                }\n",
       "\n",
       "                .geemap-dark .jupyter-button {\n",
       "                    --jp-layout-color3: #383838;\n",
       "                }\n",
       "\n",
       "                .geemap-colab {\n",
       "                    background-color: var(--colab-primary-surface-color, white);\n",
       "                }\n",
       "\n",
       "                .geemap-colab .jupyter-button {\n",
       "                    --jp-layout-color3: var(--colab-primary-surface-color, white);\n",
       "                }\n",
       "            </style>\n",
       "            "
      ],
      "text/plain": [
       "<IPython.core.display.HTML object>"
      ]
     },
     "metadata": {},
     "output_type": "display_data"
    },
    {
     "data": {
      "image/png": "[encoded data removed]",
      "text/plain": [
       "<Figure size 1000x600 with 1 Axes>"
      ]
     },
     "metadata": {},
     "output_type": "display_data"
    }
   ],
   "source": [
    "# Plot the data\n",
    "plt.figure(figsize=(10, 6))\n",
    "plt.plot(ndsi_df['date'], ndsi_df[['ndsi', 'blue', 'clouds']])\n",
    "plt.xlabel('Date')\n",
    "plt.ylabel('Value')\n",
    "plt.title('Image Mean NDSI and Blue Reflectance over time')\n",
    "plt.legend(['NDSI', 'Blue Band', \"Clouds\"])\n",
    "plt.xticks(rotation=45)\n",
    "plt.tight_layout()\n",
    "plt.show()"
   ]
  },
  {
   "cell_type": "code",
   "execution_count": 22,
   "id": "37892dd3-c41e-4c3c-aee1-ef1c72e3d645",
   "metadata": {},
   "outputs": [
    {
     "data": {
      "text/html": [
       "\n",
       "            <style>\n",
       "                .geemap-dark {\n",
       "                    --jp-widgets-color: white;\n",
       "                    --jp-widgets-label-color: white;\n",
       "                    --jp-ui-font-color1: white;\n",
       "                    --jp-layout-color2: #454545;\n",
       "                    background-color: #383838;\n",
       "                }\n",
       "\n",
       "                .geemap-dark .jupyter-button {\n",
       "                    --jp-layout-color3: #383838;\n",
       "                }\n",
       "\n",
       "                .geemap-colab {\n",
       "                    background-color: var(--colab-primary-surface-color, white);\n",
       "                }\n",
       "\n",
       "                .geemap-colab .jupyter-button {\n",
       "                    --jp-layout-color3: var(--colab-primary-surface-color, white);\n",
       "                }\n",
       "            </style>\n",
       "            "
      ],
      "text/plain": [
       "<IPython.core.display.HTML object>"
      ]
     },
     "metadata": {},
     "output_type": "display_data"
    },
    {
     "data": {
      "text/plain": [
       "float"
      ]
     },
     "execution_count": 22,
     "metadata": {},
     "output_type": "execute_result"
    }
   ],
   "source": [
    "type(ndsi_all.aggregate_array('SR_B2').getInfo()[0])"
   ]
  },
  {
   "cell_type": "code",
   "execution_count": 23,
   "id": "e0a165f8-5604-4b7d-a21e-a6845a9fe7dc",
   "metadata": {},
   "outputs": [
    {
     "data": {
      "text/html": [
       "\n",
       "            <style>\n",
       "                .geemap-dark {\n",
       "                    --jp-widgets-color: white;\n",
       "                    --jp-widgets-label-color: white;\n",
       "                    --jp-ui-font-color1: white;\n",
       "                    --jp-layout-color2: #454545;\n",
       "                    background-color: #383838;\n",
       "                }\n",
       "\n",
       "                .geemap-dark .jupyter-button {\n",
       "                    --jp-layout-color3: #383838;\n",
       "                }\n",
       "\n",
       "                .geemap-colab {\n",
       "                    background-color: var(--colab-primary-surface-color, white);\n",
       "                }\n",
       "\n",
       "                .geemap-colab .jupyter-button {\n",
       "                    --jp-layout-color3: var(--colab-primary-surface-color, white);\n",
       "                }\n",
       "            </style>\n",
       "            "
      ],
      "text/plain": [
       "<IPython.core.display.HTML object>"
      ]
     },
     "metadata": {},
     "output_type": "display_data"
    }
   ],
   "source": [
    " # landsat_filtered.getInfo()"
   ]
  },
  {
   "cell_type": "code",
   "execution_count": 24,
   "id": "bb3e84eb-bb07-4b72-a932-8bdbab483003",
   "metadata": {},
   "outputs": [
    {
     "data": {
      "text/html": [
       "\n",
       "            <style>\n",
       "                .geemap-dark {\n",
       "                    --jp-widgets-color: white;\n",
       "                    --jp-widgets-label-color: white;\n",
       "                    --jp-ui-font-color1: white;\n",
       "                    --jp-layout-color2: #454545;\n",
       "                    background-color: #383838;\n",
       "                }\n",
       "\n",
       "                .geemap-dark .jupyter-button {\n",
       "                    --jp-layout-color3: #383838;\n",
       "                }\n",
       "\n",
       "                .geemap-colab {\n",
       "                    background-color: var(--colab-primary-surface-color, white);\n",
       "                }\n",
       "\n",
       "                .geemap-colab .jupyter-button {\n",
       "                    --jp-layout-color3: var(--colab-primary-surface-color, white);\n",
       "                }\n",
       "            </style>\n",
       "            "
      ],
      "text/plain": [
       "<IPython.core.display.HTML object>"
      ]
     },
     "metadata": {},
     "output_type": "display_data"
    },
    {
     "data": {
      "text/plain": [
       "list"
      ]
     },
     "execution_count": 24,
     "metadata": {},
     "output_type": "execute_result"
    }
   ],
   "source": [
    "# landsat_filtered.getInfo()['properties'] \n",
    "# landsat_filtered.getInfo()['features']\n",
    "type(landsat_filtered.getInfo()['features'])"
   ]
  },
  {
   "cell_type": "code",
   "execution_count": 25,
   "id": "741bb277-623c-4b6d-8b36-6668e150200c",
   "metadata": {},
   "outputs": [
    {
     "data": {
      "text/html": [
       "\n",
       "            <style>\n",
       "                .geemap-dark {\n",
       "                    --jp-widgets-color: white;\n",
       "                    --jp-widgets-label-color: white;\n",
       "                    --jp-ui-font-color1: white;\n",
       "                    --jp-layout-color2: #454545;\n",
       "                    background-color: #383838;\n",
       "                }\n",
       "\n",
       "                .geemap-dark .jupyter-button {\n",
       "                    --jp-layout-color3: #383838;\n",
       "                }\n",
       "\n",
       "                .geemap-colab {\n",
       "                    background-color: var(--colab-primary-surface-color, white);\n",
       "                }\n",
       "\n",
       "                .geemap-colab .jupyter-button {\n",
       "                    --jp-layout-color3: var(--colab-primary-surface-color, white);\n",
       "                }\n",
       "            </style>\n",
       "            "
      ],
      "text/plain": [
       "<IPython.core.display.HTML object>"
      ]
     },
     "metadata": {},
     "output_type": "display_data"
    }
   ],
   "source": [
    "# cloud = ee.Image(landsat_filtered.first().getNumber(\"CLOUD_COVER_LAND\")).rename('CLOUD_COVER_LAND')\n",
    "\n",
    "# Map = geemap.Map()\n",
    "# Map.setCenter(86.9250,  27.9881, 8);\n",
    "\n",
    "\n",
    "# Map.addLayer(cloud, {}, 'Clouds over Everest')\n",
    "# Map"
   ]
  },
  {
   "cell_type": "code",
   "execution_count": 26,
   "id": "eb4c1e07-bc4e-498d-b673-365c1fb6c967",
   "metadata": {},
   "outputs": [
    {
     "data": {
      "text/html": [
       "\n",
       "            <style>\n",
       "                .geemap-dark {\n",
       "                    --jp-widgets-color: white;\n",
       "                    --jp-widgets-label-color: white;\n",
       "                    --jp-ui-font-color1: white;\n",
       "                    --jp-layout-color2: #454545;\n",
       "                    background-color: #383838;\n",
       "                }\n",
       "\n",
       "                .geemap-dark .jupyter-button {\n",
       "                    --jp-layout-color3: #383838;\n",
       "                }\n",
       "\n",
       "                .geemap-colab {\n",
       "                    background-color: var(--colab-primary-surface-color, white);\n",
       "                }\n",
       "\n",
       "                .geemap-colab .jupyter-button {\n",
       "                    --jp-layout-color3: var(--colab-primary-surface-color, white);\n",
       "                }\n",
       "            </style>\n",
       "            "
      ],
      "text/plain": [
       "<IPython.core.display.HTML object>"
      ]
     },
     "metadata": {},
     "output_type": "display_data"
    },
    {
     "data": {
      "text/plain": [
       "[9.7,\n",
       " 9.12,\n",
       " 9.6,\n",
       " 18.47,\n",
       " 24.19,\n",
       " 12.97,\n",
       " 37.58,\n",
       " 43.47,\n",
       " 45.77,\n",
       " 34.9,\n",
       " 28.69,\n",
       " 3.65,\n",
       " 5.26,\n",
       " 5.47,\n",
       " 3.8]"
      ]
     },
     "execution_count": 26,
     "metadata": {},
     "output_type": "execute_result"
    }
   ],
   "source": [
    "landsat_filtered.aggregate_array('CLOUD_COVER').getInfo()"
   ]
  },
  {
   "cell_type": "code",
   "execution_count": 27,
   "id": "f92e6b8d-7b71-48e7-a940-861a130e685e",
   "metadata": {},
   "outputs": [
    {
     "data": {
      "text/html": [
       "\n",
       "            <style>\n",
       "                .geemap-dark {\n",
       "                    --jp-widgets-color: white;\n",
       "                    --jp-widgets-label-color: white;\n",
       "                    --jp-ui-font-color1: white;\n",
       "                    --jp-layout-color2: #454545;\n",
       "                    background-color: #383838;\n",
       "                }\n",
       "\n",
       "                .geemap-dark .jupyter-button {\n",
       "                    --jp-layout-color3: #383838;\n",
       "                }\n",
       "\n",
       "                .geemap-colab {\n",
       "                    background-color: var(--colab-primary-surface-color, white);\n",
       "                }\n",
       "\n",
       "                .geemap-colab .jupyter-button {\n",
       "                    --jp-layout-color3: var(--colab-primary-surface-color, white);\n",
       "                }\n",
       "            </style>\n",
       "            "
      ],
      "text/plain": [
       "<IPython.core.display.HTML object>"
      ]
     },
     "metadata": {},
     "output_type": "display_data"
    }
   ],
   "source": [
    "# Define ColorBrewer palette manually\n",
    "color_palette = {\n",
    "    'Set1': ['#e41a1c', '#377eb8', '#4daf4a', '#984ea3', '#ff7f00', '#ffff33', '#a65628', '#f781bf', '#999999'],\n",
    "    'Set2': ['#66c2a5', '#fc8d62', '#8da0cb', '#e78ac3', '#a6d854', '#ffd92f', '#e5c494', '#b3b3b3'],\n",
    "    'Set3': ['#8dd3c7', '#ffffb3', '#bebada', '#fb8072', '#80b1d3', '#fdb462', '#b3de69', '#fccde5', '#d9d9d9']\n",
    "}\n",
    "\n",
    "# Example usage\n",
    "palette_name = 'Set1'\n",
    "palette = color_palette[palette_name]"
   ]
  },
  {
   "cell_type": "code",
   "execution_count": 28,
   "id": "0d11b574-8c99-4fd3-9757-adc40e2fdb2b",
   "metadata": {},
   "outputs": [
    {
     "data": {
      "text/html": [
       "\n",
       "            <style>\n",
       "                .geemap-dark {\n",
       "                    --jp-widgets-color: white;\n",
       "                    --jp-widgets-label-color: white;\n",
       "                    --jp-ui-font-color1: white;\n",
       "                    --jp-layout-color2: #454545;\n",
       "                    background-color: #383838;\n",
       "                }\n",
       "\n",
       "                .geemap-dark .jupyter-button {\n",
       "                    --jp-layout-color3: #383838;\n",
       "                }\n",
       "\n",
       "                .geemap-colab {\n",
       "                    background-color: var(--colab-primary-surface-color, white);\n",
       "                }\n",
       "\n",
       "                .geemap-colab .jupyter-button {\n",
       "                    --jp-layout-color3: var(--colab-primary-surface-color, white);\n",
       "                }\n",
       "            </style>\n",
       "            "
      ],
      "text/plain": [
       "<IPython.core.display.HTML object>"
      ]
     },
     "metadata": {},
     "output_type": "display_data"
    },
    {
     "data": {
      "application/vnd.jupyter.widget-view+json": {
       "model_id": "ec789aea039045eb8a8c222cc2a34a88",
       "version_major": 2,
       "version_minor": 0
      },
      "text/plain": [
       "Map(center=[27.9881, 86.925], controls=(WidgetControl(options=['position', 'transparent_bg'], widget=SearchDat…"
      ]
     },
     "execution_count": 28,
     "metadata": {},
     "output_type": "execute_result"
    }
   ],
   "source": [
    "# Create a map to display the Landsat images\n",
    "Map = geemap.Map()\n",
    "Map.setCenter(86.9250,  27.9881, 12);\n",
    "\n",
    "# Add the Landsat images to the map (just first image)\n",
    "first_image = landsat_filtered.first().clip(polygon)\n",
    "\n",
    "clouds = landsat_filtered.first().select('QA_PIXEL').clip(polygon)\n",
    "\n",
    "Map.addLayer(first_image, vis_params, 'Landsat 8')\n",
    "Map.addLayer(clouds, {'palette': palette, 'opacity': 0.3}, 'cloud mask')\n",
    "\n",
    "Map"
   ]
  },
  {
   "cell_type": "code",
   "execution_count": 19,
   "id": "b31cfd30-ef02-4763-82ba-73679a71db53",
   "metadata": {},
   "outputs": [
    {
     "data": {
      "text/html": [
       "\n",
       "            <style>\n",
       "                .geemap-dark {\n",
       "                    --jp-widgets-color: white;\n",
       "                    --jp-widgets-label-color: white;\n",
       "                    --jp-ui-font-color1: white;\n",
       "                    --jp-layout-color2: #454545;\n",
       "                    background-color: #383838;\n",
       "                }\n",
       "\n",
       "                .geemap-dark .jupyter-button {\n",
       "                    --jp-layout-color3: #383838;\n",
       "                }\n",
       "\n",
       "                .geemap-colab {\n",
       "                    background-color: var(--colab-primary-surface-color, white);\n",
       "                }\n",
       "\n",
       "                .geemap-colab .jupyter-button {\n",
       "                    --jp-layout-color3: var(--colab-primary-surface-color, white);\n",
       "                }\n",
       "            </style>\n",
       "            "
      ],
      "text/plain": [
       "<IPython.core.display.HTML object>"
      ]
     },
     "metadata": {},
     "output_type": "display_data"
    },
    {
     "data": {
      "application/vnd.jupyter.widget-view+json": {
       "model_id": "9badfb5581f749b98b804bd68027a8b1",
       "version_major": 2,
       "version_minor": 0
      },
      "text/plain": [
       "Map(center=[27.9881, 86.925], controls=(WidgetControl(options=['position', 'transparent_bg'], widget=SearchDat…"
      ]
     },
     "execution_count": 19,
     "metadata": {},
     "output_type": "execute_result"
    }
   ],
   "source": [
    "# Create a map to display the Landsat images\n",
    "Map = geemap.Map()\n",
    "Map.setCenter(86.9250, 27.9881, 12)\n",
    "\n",
    "# Add the Landsat images to the map (just first image)\n",
    "first_image = landsat_filtered.first().clip(polygon)\n",
    "\n",
    "# Add cloud mask\n",
    "clouds = landsat_filtered.first().select('QA_PIXEL').clip(polygon)\n",
    "\n",
    "# Define a palette for the cloud mask\n",
    "palette = ['white', 'blue']\n",
    "\n",
    "# Add layers to the map\n",
    "Map.addLayer(first_image, vis_params, 'Landsat 8')\n",
    "Map.addLayer(clouds, {'palette': palette, 'opacity': 0.6}, 'cloud mask')\n",
    "\n",
    "# Add legend\n",
    "legend_keys = ['Landsat 8', 'Cloud Mask']\n",
    "legend_colors = ['#0000FF', '#FFFFFF']\n",
    "Map.add_legend(legend_keys=legend_keys, legend_colors=legend_colors, position='bottomright')\n",
    "\n",
    "# Display the map\n",
    "Map\n"
   ]
  },
  {
   "cell_type": "code",
   "execution_count": 29,
   "id": "b4303a7c-c877-4bc9-9877-0df4864f180b",
   "metadata": {},
   "outputs": [
    {
     "data": {
      "text/html": [
       "\n",
       "            <style>\n",
       "                .geemap-dark {\n",
       "                    --jp-widgets-color: white;\n",
       "                    --jp-widgets-label-color: white;\n",
       "                    --jp-ui-font-color1: white;\n",
       "                    --jp-layout-color2: #454545;\n",
       "                    background-color: #383838;\n",
       "                }\n",
       "\n",
       "                .geemap-dark .jupyter-button {\n",
       "                    --jp-layout-color3: #383838;\n",
       "                }\n",
       "\n",
       "                .geemap-colab {\n",
       "                    background-color: var(--colab-primary-surface-color, white);\n",
       "                }\n",
       "\n",
       "                .geemap-colab .jupyter-button {\n",
       "                    --jp-layout-color3: var(--colab-primary-surface-color, white);\n",
       "                }\n",
       "            </style>\n",
       "            "
      ],
      "text/plain": [
       "<IPython.core.display.HTML object>"
      ]
     },
     "metadata": {},
     "output_type": "display_data"
    },
    {
     "data": {
      "text/html": [
       "<div><style>:root {\n",
       "  --font-color-primary: var(--jp-content-font-color0, rgba(0, 0, 0, 1));\n",
       "  --font-color-secondary: var(--jp-content-font-color2, rgba(0, 0, 0, 0.6));\n",
       "  --font-color-accent: rgba(123, 31, 162, 1);\n",
       "  --border-color: var(--jp-border-color2, #e0e0e0);\n",
       "  --background-color: var(--jp-layout-color0, white);\n",
       "  --background-color-row-even: var(--jp-layout-color1, white);\n",
       "  --background-color-row-odd: var(--jp-layout-color2, #eeeeee);\n",
       "}\n",
       "\n",
       "html[theme=\"dark\"],\n",
       "body[data-theme=\"dark\"],\n",
       "body.vscode-dark {\n",
       "  --font-color-primary: rgba(255, 255, 255, 1);\n",
       "  --font-color-secondary: rgba(255, 255, 255, 0.6);\n",
       "  --font-color-accent: rgb(173, 132, 190);\n",
       "  --border-color: #2e2e2e;\n",
       "  --background-color: #111111;\n",
       "  --background-color-row-even: #111111;\n",
       "  --background-color-row-odd: #313131;\n",
       "}\n",
       "\n",
       ".ee {\n",
       "  padding: 1em;\n",
       "  line-height: 1.5em;\n",
       "  min-width: 300px;\n",
       "  max-width: 1200px;\n",
       "  overflow-y: scroll;\n",
       "  max-height: 600px;\n",
       "  border: 1px solid var(--border-color);\n",
       "  font-family: monospace;\n",
       "}\n",
       "\n",
       ".ee li {\n",
       "  list-style-type: none;\n",
       "}\n",
       "\n",
       ".ee ul {\n",
       "  padding-left: 1.5em !important;\n",
       "  margin: 0;\n",
       "}\n",
       "\n",
       ".ee > ul {\n",
       "  padding-left: 0 !important;\n",
       "}\n",
       "\n",
       ".ee-open,\n",
       ".ee-shut {\n",
       "  color: var(--font-color-secondary);\n",
       "  cursor: pointer;\n",
       "  margin: 0;\n",
       "}\n",
       "\n",
       ".ee-open:hover,\n",
       ".ee-shut:hover {\n",
       "  color: var(--font-color-primary);\n",
       "}\n",
       "\n",
       ".ee-k {\n",
       "  color: var(--font-color-accent);\n",
       "  margin-right: 6px;\n",
       "}\n",
       "\n",
       ".ee-v {\n",
       "  color: var(--font-color-primary);\n",
       "}\n",
       "\n",
       ".ee-toggle {\n",
       "  display: none;\n",
       "}\n",
       "\n",
       ".ee-shut + ul {\n",
       "  display: none;\n",
       "}\n",
       "\n",
       ".ee-open + ul {\n",
       "  display: block;\n",
       "}\n",
       "\n",
       ".ee-shut::before {\n",
       "  display: inline-block;\n",
       "  content: \"▼\";\n",
       "  margin-right: 6px;\n",
       "  transform: rotate(-90deg);\n",
       "  transition: transform 0.2s;\n",
       "}\n",
       "\n",
       ".ee-open::before {\n",
       "  transform: rotate(0deg);\n",
       "  display: inline-block;\n",
       "  content: \"▼\";\n",
       "  margin-right: 6px;\n",
       "  transition: transform 0.2s;\n",
       "}\n",
       "</style><div class='ee'><ul><li><span class='ee-v'>9.7</span></li></ul></div><script>function toggleHeader() {\n",
       "    const parent = this.parentElement;\n",
       "    parent.className = parent.className === \"ee-open\" ? \"ee-shut\" : \"ee-open\";\n",
       "}\n",
       "\n",
       "for (let c of document.getElementsByClassName(\"ee-toggle\")) {\n",
       "    c.onclick = toggleHeader;\n",
       "}</script></div>"
      ],
      "text/plain": [
       "<ee.computedobject.ComputedObject at 0x111c9d5b0>"
      ]
     },
     "execution_count": 29,
     "metadata": {},
     "output_type": "execute_result"
    }
   ],
   "source": [
    "landsat_filtered.first().get('CLOUD_COVER')"
   ]
  },
  {
   "cell_type": "markdown",
   "id": "042ed571-7346-44af-b9e6-d3533a4bbda7",
   "metadata": {},
   "source": [
    "### More on the cloud mask"
   ]
  },
  {
   "cell_type": "code",
   "execution_count": 30,
   "id": "96d782aa-2f05-4571-a538-592b370f7d7e",
   "metadata": {},
   "outputs": [
    {
     "data": {
      "text/html": [
       "\n",
       "            <style>\n",
       "                .geemap-dark {\n",
       "                    --jp-widgets-color: white;\n",
       "                    --jp-widgets-label-color: white;\n",
       "                    --jp-ui-font-color1: white;\n",
       "                    --jp-layout-color2: #454545;\n",
       "                    background-color: #383838;\n",
       "                }\n",
       "\n",
       "                .geemap-dark .jupyter-button {\n",
       "                    --jp-layout-color3: #383838;\n",
       "                }\n",
       "\n",
       "                .geemap-colab {\n",
       "                    background-color: var(--colab-primary-surface-color, white);\n",
       "                }\n",
       "\n",
       "                .geemap-colab .jupyter-button {\n",
       "                    --jp-layout-color3: var(--colab-primary-surface-color, white);\n",
       "                }\n",
       "            </style>\n",
       "            "
      ],
      "text/plain": [
       "<IPython.core.display.HTML object>"
      ]
     },
     "metadata": {},
     "output_type": "display_data"
    }
   ],
   "source": [
    "# https://github.com/gee-community/geemap/issues/1095\n",
    "\n",
    "def fmask(image):\n",
    "        # see https://developers.google.com/earth-engine/datasets/catalog/LANDSAT_LC09_C02_T1_L2\n",
    "        # Bit 0 - Fill\n",
    "        # Bit 1 - Dilated Cloud\n",
    "        # Bit 2 - Cirrus\n",
    "        # Bit 3 - Cloud\n",
    "        # Bit 4 - Cloud Shadow\n",
    "        qaMask = image.select('QA_PIXEL').bitwiseAnd(int('11111', 2)).eq(0)\n",
    "\n",
    "        # Apply the scaling factors to the appropriate bands.\n",
    "        opticalBands = image.select('SR_B.').multiply(0.0000275).add(-0.2)\n",
    "\n",
    "        # Replace the original bands with the scaled ones and apply the masks.\n",
    "        return image.addBands(opticalBands, None, True).updateMask(qaMask)"
   ]
  },
  {
   "cell_type": "code",
   "execution_count": 31,
   "id": "f732902c-cb47-4028-a77b-379b1a56bf88",
   "metadata": {},
   "outputs": [
    {
     "data": {
      "text/html": [
       "\n",
       "            <style>\n",
       "                .geemap-dark {\n",
       "                    --jp-widgets-color: white;\n",
       "                    --jp-widgets-label-color: white;\n",
       "                    --jp-ui-font-color1: white;\n",
       "                    --jp-layout-color2: #454545;\n",
       "                    background-color: #383838;\n",
       "                }\n",
       "\n",
       "                .geemap-dark .jupyter-button {\n",
       "                    --jp-layout-color3: #383838;\n",
       "                }\n",
       "\n",
       "                .geemap-colab {\n",
       "                    background-color: var(--colab-primary-surface-color, white);\n",
       "                }\n",
       "\n",
       "                .geemap-colab .jupyter-button {\n",
       "                    --jp-layout-color3: var(--colab-primary-surface-color, white);\n",
       "                }\n",
       "            </style>\n",
       "            "
      ],
      "text/plain": [
       "<IPython.core.display.HTML object>"
      ]
     },
     "metadata": {},
     "output_type": "display_data"
    },
    {
     "name": "stdout",
     "output_type": "stream",
     "text": [
      "Number of images: 4\n"
     ]
    }
   ],
   "source": [
    "# Map the function over one year of data.\n",
    "new_collection = ee.ImageCollection('LANDSAT/LC08/C02/T1_L2') \\\n",
    "                    .filterDate('2023-06-10','2023-10-31') \\\n",
    "                    .filterBounds(polygon) \\\n",
    "                    .filter(ee.Filter.lt('CLOUD_COVER', 50)) \\\n",
    "                    .filter(ee.Filter.eq('WRS_PATH', path)) \\\n",
    "                    .filter(ee.Filter.eq('WRS_ROW', row))\n",
    "\n",
    "collection_masked = ee.ImageCollection('LANDSAT/LC08/C02/T1_L2') \\\n",
    "                    .filterDate('2023-06-10','2023-10-31') \\\n",
    "                    .filterBounds(polygon) \\\n",
    "                    .filter(ee.Filter.lt('CLOUD_COVER', 50)) \\\n",
    "                    .filter(ee.Filter.eq('WRS_PATH', path)) \\\n",
    "                    .filter(ee.Filter.eq('WRS_ROW', row)) \\\n",
    "                    .map(fmask)\n",
    "\n",
    "print(f\"Number of images: {new_collection.size().getInfo()}\")"
   ]
  },
  {
   "cell_type": "code",
   "execution_count": 32,
   "id": "629bb5c9-de9b-426e-802e-e47444e7cfb9",
   "metadata": {},
   "outputs": [
    {
     "data": {
      "text/html": [
       "\n",
       "            <style>\n",
       "                .geemap-dark {\n",
       "                    --jp-widgets-color: white;\n",
       "                    --jp-widgets-label-color: white;\n",
       "                    --jp-ui-font-color1: white;\n",
       "                    --jp-layout-color2: #454545;\n",
       "                    background-color: #383838;\n",
       "                }\n",
       "\n",
       "                .geemap-dark .jupyter-button {\n",
       "                    --jp-layout-color3: #383838;\n",
       "                }\n",
       "\n",
       "                .geemap-colab {\n",
       "                    background-color: var(--colab-primary-surface-color, white);\n",
       "                }\n",
       "\n",
       "                .geemap-colab .jupyter-button {\n",
       "                    --jp-layout-color3: var(--colab-primary-surface-color, white);\n",
       "                }\n",
       "            </style>\n",
       "            "
      ],
      "text/plain": [
       "<IPython.core.display.HTML object>"
      ]
     },
     "metadata": {},
     "output_type": "display_data"
    },
    {
     "data": {
      "application/vnd.jupyter.widget-view+json": {
       "model_id": "0b225da4117847c4814b56fd5618d5f6",
       "version_major": 2,
       "version_minor": 0
      },
      "text/plain": [
       "Map(center=[27.9881, 86.925], controls=(WidgetControl(options=['position', 'transparent_bg'], widget=SearchDat…"
      ]
     },
     "execution_count": 32,
     "metadata": {},
     "output_type": "execute_result"
    }
   ],
   "source": [
    "# Create a map to display the Landsat images\n",
    "Map = geemap.Map()\n",
    "Map.setCenter(86.9250, 27.9881, 9)\n",
    "\n",
    "# Add the Landsat images to the map (just first image)\n",
    "\n",
    "\n",
    "# Add layers to the map\n",
    "Map.addLayer(new_collection.first(), vis_params, 'Landsat 8 image')\n",
    "Map.addLayer(collection_masked.first(), {}, 'Landsat 8 - fmask applied')\n",
    "\n",
    "# Display the map\n",
    "Map"
   ]
  },
  {
   "cell_type": "code",
   "execution_count": 133,
   "id": "8b038d9b-fee8-4b80-940e-6194d64b2fbd",
   "metadata": {},
   "outputs": [
    {
     "data": {
      "text/html": [
       "\n",
       "            <style>\n",
       "                .geemap-dark {\n",
       "                    --jp-widgets-color: white;\n",
       "                    --jp-widgets-label-color: white;\n",
       "                    --jp-ui-font-color1: white;\n",
       "                    --jp-layout-color2: #454545;\n",
       "                    background-color: #383838;\n",
       "                }\n",
       "\n",
       "                .geemap-dark .jupyter-button {\n",
       "                    --jp-layout-color3: #383838;\n",
       "                }\n",
       "\n",
       "                .geemap-colab {\n",
       "                    background-color: var(--colab-primary-surface-color, white);\n",
       "                }\n",
       "\n",
       "                .geemap-colab .jupyter-button {\n",
       "                    --jp-layout-color3: var(--colab-primary-surface-color, white);\n",
       "                }\n",
       "            </style>\n",
       "            "
      ],
      "text/plain": [
       "<IPython.core.display.HTML object>"
      ]
     },
     "metadata": {},
     "output_type": "display_data"
    }
   ],
   "source": [
    "# https://github.com/gee-community/geemap/blob/ca365d23a10dbbbb29ff3ff5cd29acc89f42d10f/geemap/timelapse.py#L1740\n",
    "# geemap.landsat_timelapse(polygon)\n"
   ]
  },
  {
   "cell_type": "code",
   "execution_count": 82,
   "id": "cdc3b6ce-e5eb-47af-a9f6-3d1b3a2f068f",
   "metadata": {},
   "outputs": [
    {
     "data": {
      "text/html": [
       "\n",
       "            <style>\n",
       "                .geemap-dark {\n",
       "                    --jp-widgets-color: white;\n",
       "                    --jp-widgets-label-color: white;\n",
       "                    --jp-ui-font-color1: white;\n",
       "                    --jp-layout-color2: #454545;\n",
       "                    background-color: #383838;\n",
       "                }\n",
       "\n",
       "                .geemap-dark .jupyter-button {\n",
       "                    --jp-layout-color3: #383838;\n",
       "                }\n",
       "\n",
       "                .geemap-colab {\n",
       "                    background-color: var(--colab-primary-surface-color, white);\n",
       "                }\n",
       "\n",
       "                .geemap-colab .jupyter-button {\n",
       "                    --jp-layout-color3: var(--colab-primary-surface-color, white);\n",
       "                }\n",
       "            </style>\n",
       "            "
      ],
      "text/plain": [
       "<IPython.core.display.HTML object>"
      ]
     },
     "metadata": {},
     "output_type": "display_data"
    },
    {
     "data": {
      "text/plain": [
       "['SUN_AZIMUTH',\n",
       " 'SUN_ELEVATION',\n",
       " 'UTM_ZONE',\n",
       " 'DATE_ACQUIRED',\n",
       " 'system:time_end',\n",
       " 'CLOUD_COVER',\n",
       " 'CLOUD_COVER_LAND',\n",
       " 'REFLECTANCE_ADD_BAND_2',\n",
       " 'REFLECTANCE_ADD_BAND_3',\n",
       " 'REFLECTANCE_ADD_BAND_4',\n",
       " 'REFLECTANCE_ADD_BAND_5',\n",
       " 'REFLECTANCE_ADD_BAND_6',\n",
       " 'REFLECTANCE_ADD_BAND_7',\n",
       " 'REFLECTANCE_MULT_BAND_2',\n",
       " 'REFLECTANCE_MULT_BAND_3',\n",
       " 'REFLECTANCE_MULT_BAND_4',\n",
       " 'REFLECTANCE_MULT_BAND_5',\n",
       " 'REFLECTANCE_MULT_BAND_6',\n",
       " 'REFLECTANCE_MULT_BAND_7']"
      ]
     },
     "execution_count": 82,
     "metadata": {},
     "output_type": "execute_result"
    }
   ],
   "source": [
    "keep_properties = ['SUN_AZIMUTH',\n",
    "'SUN_ELEVATION',\n",
    " 'UTM_ZONE',\n",
    " 'DATE_ACQUIRED',\n",
    " 'system:time_end',\n",
    "'CLOUD_COVER',\n",
    " 'CLOUD_COVER_LAND',\n",
    "'REFLECTANCE_ADD_BAND_2',\n",
    "'REFLECTANCE_ADD_BAND_3',\n",
    " 'REFLECTANCE_ADD_BAND_4',\n",
    " 'REFLECTANCE_ADD_BAND_5',\n",
    "'REFLECTANCE_ADD_BAND_6',\n",
    "'REFLECTANCE_ADD_BAND_7',\n",
    "'REFLECTANCE_MULT_BAND_2',\n",
    "'REFLECTANCE_MULT_BAND_3',\n",
    "'REFLECTANCE_MULT_BAND_4',\n",
    " 'REFLECTANCE_MULT_BAND_5',\n",
    "'REFLECTANCE_MULT_BAND_6',\n",
    "'REFLECTANCE_MULT_BAND_7']\n",
    "keep_properties"
   ]
  },
  {
   "cell_type": "code",
   "execution_count": 80,
   "id": "680cfd5e-a7be-48ee-b725-030b0b7d5676",
   "metadata": {},
   "outputs": [
    {
     "data": {
      "text/html": [
       "\n",
       "            <style>\n",
       "                .geemap-dark {\n",
       "                    --jp-widgets-color: white;\n",
       "                    --jp-widgets-label-color: white;\n",
       "                    --jp-ui-font-color1: white;\n",
       "                    --jp-layout-color2: #454545;\n",
       "                    background-color: #383838;\n",
       "                }\n",
       "\n",
       "                .geemap-dark .jupyter-button {\n",
       "                    --jp-layout-color3: #383838;\n",
       "                }\n",
       "\n",
       "                .geemap-colab {\n",
       "                    background-color: var(--colab-primary-surface-color, white);\n",
       "                }\n",
       "\n",
       "                .geemap-colab .jupyter-button {\n",
       "                    --jp-layout-color3: var(--colab-primary-surface-color, white);\n",
       "                }\n",
       "            </style>\n",
       "            "
      ],
      "text/plain": [
       "<IPython.core.display.HTML object>"
      ]
     },
     "metadata": {},
     "output_type": "display_data"
    },
    {
     "data": {
      "text/plain": [
       "[151.14149705,\n",
       " 147.8205597,\n",
       " 144.19048491,\n",
       " 140.19208453,\n",
       " 135.56218978,\n",
       " 129.7812287,\n",
       " 122.36004724,\n",
       " 113.36814854,\n",
       " 97.86630528,\n",
       " 142.98819729,\n",
       " 149.65983708,\n",
       " 154.06800993,\n",
       " 156.35617154,\n",
       " 156.79128165,\n",
       " 155.72027658]"
      ]
     },
     "execution_count": 80,
     "metadata": {},
     "output_type": "execute_result"
    }
   ],
   "source": [
    "landsat_filtered.aggregate_array('SUN_AZIMUTH').getInfo()"
   ]
  },
  {
   "cell_type": "code",
   "execution_count": 88,
   "id": "7f7fe42b-6b2f-44c7-9034-63ef092f1152",
   "metadata": {},
   "outputs": [
    {
     "data": {
      "text/html": [
       "\n",
       "            <style>\n",
       "                .geemap-dark {\n",
       "                    --jp-widgets-color: white;\n",
       "                    --jp-widgets-label-color: white;\n",
       "                    --jp-ui-font-color1: white;\n",
       "                    --jp-layout-color2: #454545;\n",
       "                    background-color: #383838;\n",
       "                }\n",
       "\n",
       "                .geemap-dark .jupyter-button {\n",
       "                    --jp-layout-color3: #383838;\n",
       "                }\n",
       "\n",
       "                .geemap-colab {\n",
       "                    background-color: var(--colab-primary-surface-color, white);\n",
       "                }\n",
       "\n",
       "                .geemap-colab .jupyter-button {\n",
       "                    --jp-layout-color3: var(--colab-primary-surface-color, white);\n",
       "                }\n",
       "            </style>\n",
       "            "
      ],
      "text/plain": [
       "<IPython.core.display.HTML object>"
      ]
     },
     "metadata": {},
     "output_type": "display_data"
    },
    {
     "data": {
      "text/plain": [
       "[]"
      ]
     },
     "execution_count": 88,
     "metadata": {},
     "output_type": "execute_result"
    }
   ],
   "source": [
    "# ALL FEATURES\n",
    "landsat_filtered.getInfo()['features']"
   ]
  },
  {
   "cell_type": "code",
   "execution_count": 140,
   "id": "79e07dc9-61ef-44b0-96d6-6b02a87fe041",
   "metadata": {},
   "outputs": [
    {
     "data": {
      "text/html": [
       "\n",
       "            <style>\n",
       "                .geemap-dark {\n",
       "                    --jp-widgets-color: white;\n",
       "                    --jp-widgets-label-color: white;\n",
       "                    --jp-ui-font-color1: white;\n",
       "                    --jp-layout-color2: #454545;\n",
       "                    background-color: #383838;\n",
       "                }\n",
       "\n",
       "                .geemap-dark .jupyter-button {\n",
       "                    --jp-layout-color3: #383838;\n",
       "                }\n",
       "\n",
       "                .geemap-colab {\n",
       "                    background-color: var(--colab-primary-surface-color, white);\n",
       "                }\n",
       "\n",
       "                .geemap-colab .jupyter-button {\n",
       "                    --jp-layout-color3: var(--colab-primary-surface-color, white);\n",
       "                }\n",
       "            </style>\n",
       "            "
      ],
      "text/plain": [
       "<IPython.core.display.HTML object>"
      ]
     },
     "metadata": {},
     "output_type": "display_data"
    },
    {
     "data": {
      "text/plain": [
       "[9.7,\n",
       " 9.12,\n",
       " 9.6,\n",
       " 18.47,\n",
       " 24.19,\n",
       " 12.97,\n",
       " 37.58,\n",
       " 43.47,\n",
       " 45.77,\n",
       " 34.9,\n",
       " 28.69,\n",
       " 3.65,\n",
       " 5.26,\n",
       " 5.47,\n",
       " 3.8]"
      ]
     },
     "execution_count": 140,
     "metadata": {},
     "output_type": "execute_result"
    }
   ],
   "source": [
    "landsat_filtered.aggregate_array(\"CLOUD_COVER\").getInfo()"
   ]
  },
  {
   "cell_type": "code",
   "execution_count": 141,
   "id": "ecec1878-da17-4833-928b-f77754eee00f",
   "metadata": {},
   "outputs": [
    {
     "data": {
      "text/html": [
       "\n",
       "            <style>\n",
       "                .geemap-dark {\n",
       "                    --jp-widgets-color: white;\n",
       "                    --jp-widgets-label-color: white;\n",
       "                    --jp-ui-font-color1: white;\n",
       "                    --jp-layout-color2: #454545;\n",
       "                    background-color: #383838;\n",
       "                }\n",
       "\n",
       "                .geemap-dark .jupyter-button {\n",
       "                    --jp-layout-color3: #383838;\n",
       "                }\n",
       "\n",
       "                .geemap-colab {\n",
       "                    background-color: var(--colab-primary-surface-color, white);\n",
       "                }\n",
       "\n",
       "                .geemap-colab .jupyter-button {\n",
       "                    --jp-layout-color3: var(--colab-primary-surface-color, white);\n",
       "                }\n",
       "            </style>\n",
       "            "
      ],
      "text/plain": [
       "<IPython.core.display.HTML object>"
      ]
     },
     "metadata": {},
     "output_type": "display_data"
    }
   ],
   "source": [
    "# image = landsat_filtered.getInfo()['features']\n",
    "# image"
   ]
  },
  {
   "cell_type": "markdown",
   "id": "cbd662d0-849b-4499-8ff3-e8aa20255113",
   "metadata": {},
   "source": [
    "#### ISSUES with getting properties"
   ]
  },
  {
   "cell_type": "code",
   "execution_count": null,
   "id": "f7f29eb9-bbbb-4e50-8d76-9be34cf7e93d",
   "metadata": {},
   "outputs": [],
   "source": []
  },
  {
   "cell_type": "code",
   "execution_count": 81,
   "id": "299266f1-b8da-4cea-a99c-9b4b58070314",
   "metadata": {
    "scrolled": true
   },
   "outputs": [
    {
     "data": {
      "text/html": [
       "\n",
       "            <style>\n",
       "                .geemap-dark {\n",
       "                    --jp-widgets-color: white;\n",
       "                    --jp-widgets-label-color: white;\n",
       "                    --jp-ui-font-color1: white;\n",
       "                    --jp-layout-color2: #454545;\n",
       "                    background-color: #383838;\n",
       "                }\n",
       "\n",
       "                .geemap-dark .jupyter-button {\n",
       "                    --jp-layout-color3: #383838;\n",
       "                }\n",
       "\n",
       "                .geemap-colab {\n",
       "                    background-color: var(--colab-primary-surface-color, white);\n",
       "                }\n",
       "\n",
       "                .geemap-colab .jupyter-button {\n",
       "                    --jp-layout-color3: var(--colab-primary-surface-color, white);\n",
       "                }\n",
       "            </style>\n",
       "            "
      ],
      "text/plain": [
       "<IPython.core.display.HTML object>"
      ]
     },
     "metadata": {},
     "output_type": "display_data"
    },
    {
     "ename": "EEException",
     "evalue": "A mapped function's arguments cannot be used in client-side operations",
     "output_type": "error",
     "traceback": [
      "\u001b[0;31m---------------------------------------------------------------------------\u001b[0m",
      "\u001b[0;31mEEException\u001b[0m                               Traceback (most recent call last)",
      "Cell \u001b[0;32mIn[81], line 23\u001b[0m\n\u001b[1;32m     20\u001b[0m     \u001b[38;5;28;01mreturn\u001b[39;00m stats\n\u001b[1;32m     22\u001b[0m \u001b[38;5;66;03m# Map the function over the image collection\u001b[39;00m\n\u001b[0;32m---> 23\u001b[0m image_stats \u001b[38;5;241m=\u001b[39m \u001b[43mlandsat\u001b[49m\u001b[38;5;241;43m.\u001b[39;49m\u001b[43mmap\u001b[49m\u001b[43m(\u001b[49m\u001b[43mcalculate_stats\u001b[49m\u001b[43m)\u001b[49m\n\u001b[1;32m     25\u001b[0m \u001b[38;5;66;03m# Convert the resulting image collection to a list\u001b[39;00m\n\u001b[1;32m     26\u001b[0m image_stats_list \u001b[38;5;241m=\u001b[39m image_stats\u001b[38;5;241m.\u001b[39mgetInfo()\n",
      "File \u001b[0;32m~/miniconda3/envs/ears33/lib/python3.12/site-packages/ee/_utils.py:38\u001b[0m, in \u001b[0;36maccept_opt_prefix.<locals>.opt_fixed.<locals>.wrapper\u001b[0;34m(*args, **kwargs)\u001b[0m\n\u001b[1;32m     36\u001b[0m     \u001b[38;5;28;01mif\u001b[39;00m new_key \u001b[38;5;129;01mnot\u001b[39;00m \u001b[38;5;129;01min\u001b[39;00m kwargs:\n\u001b[1;32m     37\u001b[0m       kwargs[new_key] \u001b[38;5;241m=\u001b[39m old_key_val\n\u001b[0;32m---> 38\u001b[0m \u001b[38;5;28;01mreturn\u001b[39;00m \u001b[43mfunc\u001b[49m\u001b[43m(\u001b[49m\u001b[38;5;241;43m*\u001b[39;49m\u001b[43margs\u001b[49m\u001b[43m,\u001b[49m\u001b[43m \u001b[49m\u001b[38;5;241;43m*\u001b[39;49m\u001b[38;5;241;43m*\u001b[39;49m\u001b[43mkwargs\u001b[49m\u001b[43m)\u001b[49m\n",
      "File \u001b[0;32m~/miniconda3/envs/ears33/lib/python3.12/site-packages/ee/collection.py:245\u001b[0m, in \u001b[0;36mCollection.map\u001b[0;34m(self, algorithm, dropNulls)\u001b[0m\n\u001b[1;32m    242\u001b[0m element_type \u001b[38;5;241m=\u001b[39m \u001b[38;5;28mself\u001b[39m\u001b[38;5;241m.\u001b[39melementType()\n\u001b[1;32m    243\u001b[0m with_cast \u001b[38;5;241m=\u001b[39m \u001b[38;5;28;01mlambda\u001b[39;00m e: algorithm(element_type(e, \u001b[38;5;28;01mNone\u001b[39;00m))\n\u001b[1;32m    244\u001b[0m \u001b[38;5;28;01mreturn\u001b[39;00m \u001b[38;5;28mself\u001b[39m\u001b[38;5;241m.\u001b[39m_cast(\n\u001b[0;32m--> 245\u001b[0m     \u001b[43mapifunction\u001b[49m\u001b[38;5;241;43m.\u001b[39;49m\u001b[43mApiFunction\u001b[49m\u001b[38;5;241;43m.\u001b[39;49m\u001b[43mcall_\u001b[49m\u001b[43m(\u001b[49m\n\u001b[1;32m    246\u001b[0m \u001b[43m        \u001b[49m\u001b[38;5;124;43m'\u001b[39;49m\u001b[38;5;124;43mCollection.map\u001b[39;49m\u001b[38;5;124;43m'\u001b[39;49m\u001b[43m,\u001b[49m\u001b[43m \u001b[49m\u001b[38;5;28;43mself\u001b[39;49m\u001b[43m,\u001b[49m\u001b[43m \u001b[49m\u001b[43mwith_cast\u001b[49m\u001b[43m,\u001b[49m\u001b[43m \u001b[49m\u001b[43mdropNulls\u001b[49m\n\u001b[1;32m    247\u001b[0m \u001b[43m    \u001b[49m\u001b[43m)\u001b[49m\n\u001b[1;32m    248\u001b[0m )\n",
      "File \u001b[0;32m~/miniconda3/envs/ears33/lib/python3.12/site-packages/ee/apifunction.py:84\u001b[0m, in \u001b[0;36mApiFunction.call_\u001b[0;34m(cls, name, *args, **kwargs)\u001b[0m\n\u001b[1;32m     71\u001b[0m \u001b[38;5;129m@classmethod\u001b[39m\n\u001b[1;32m     72\u001b[0m \u001b[38;5;28;01mdef\u001b[39;00m \u001b[38;5;21mcall_\u001b[39m(\u001b[38;5;28mcls\u001b[39m, name: \u001b[38;5;28mstr\u001b[39m, \u001b[38;5;241m*\u001b[39margs: Any, \u001b[38;5;241m*\u001b[39m\u001b[38;5;241m*\u001b[39mkwargs: Any) \u001b[38;5;241m-\u001b[39m\u001b[38;5;241m>\u001b[39m Any:\n\u001b[1;32m     73\u001b[0m \u001b[38;5;250m  \u001b[39m\u001b[38;5;124;03m\"\"\"Call a named API function with positional and keyword arguments.\u001b[39;00m\n\u001b[1;32m     74\u001b[0m \n\u001b[1;32m     75\u001b[0m \u001b[38;5;124;03m  Args:\u001b[39;00m\n\u001b[0;32m   (...)\u001b[0m\n\u001b[1;32m     82\u001b[0m \u001b[38;5;124;03m    a recognized return type, the returned value will be cast to that type.\u001b[39;00m\n\u001b[1;32m     83\u001b[0m \u001b[38;5;124;03m  \"\"\"\u001b[39;00m\n\u001b[0;32m---> 84\u001b[0m   \u001b[38;5;28;01mreturn\u001b[39;00m \u001b[38;5;28;43mcls\u001b[39;49m\u001b[38;5;241;43m.\u001b[39;49m\u001b[43mlookup\u001b[49m\u001b[43m(\u001b[49m\u001b[43mname\u001b[49m\u001b[43m)\u001b[49m\u001b[38;5;241;43m.\u001b[39;49m\u001b[43mcall\u001b[49m\u001b[43m(\u001b[49m\u001b[38;5;241;43m*\u001b[39;49m\u001b[43margs\u001b[49m\u001b[43m,\u001b[49m\u001b[43m \u001b[49m\u001b[38;5;241;43m*\u001b[39;49m\u001b[38;5;241;43m*\u001b[39;49m\u001b[43mkwargs\u001b[49m\u001b[43m)\u001b[49m\n",
      "File \u001b[0;32m~/miniconda3/envs/ears33/lib/python3.12/site-packages/ee/function.py:62\u001b[0m, in \u001b[0;36mFunction.call\u001b[0;34m(self, *args, **kwargs)\u001b[0m\n\u001b[1;32m     50\u001b[0m \u001b[38;5;28;01mdef\u001b[39;00m \u001b[38;5;21mcall\u001b[39m(\u001b[38;5;28mself\u001b[39m, \u001b[38;5;241m*\u001b[39margs, \u001b[38;5;241m*\u001b[39m\u001b[38;5;241m*\u001b[39mkwargs):\n\u001b[1;32m     51\u001b[0m \u001b[38;5;250m  \u001b[39m\u001b[38;5;124;03m\"\"\"Calls the function with the given positional and keyword arguments.\u001b[39;00m\n\u001b[1;32m     52\u001b[0m \n\u001b[1;32m     53\u001b[0m \u001b[38;5;124;03m  Args:\u001b[39;00m\n\u001b[0;32m   (...)\u001b[0m\n\u001b[1;32m     60\u001b[0m \u001b[38;5;124;03m    to that type.\u001b[39;00m\n\u001b[1;32m     61\u001b[0m \u001b[38;5;124;03m  \"\"\"\u001b[39;00m\n\u001b[0;32m---> 62\u001b[0m   \u001b[38;5;28;01mreturn\u001b[39;00m \u001b[38;5;28;43mself\u001b[39;49m\u001b[38;5;241;43m.\u001b[39;49m\u001b[43mapply\u001b[49m\u001b[43m(\u001b[49m\u001b[38;5;28;43mself\u001b[39;49m\u001b[38;5;241;43m.\u001b[39;49m\u001b[43mnameArgs\u001b[49m\u001b[43m(\u001b[49m\u001b[43margs\u001b[49m\u001b[43m,\u001b[49m\u001b[43m \u001b[49m\u001b[43mkwargs\u001b[49m\u001b[43m)\u001b[49m\u001b[43m)\u001b[49m\n",
      "File \u001b[0;32m~/miniconda3/envs/ears33/lib/python3.12/site-packages/ee/function.py:75\u001b[0m, in \u001b[0;36mFunction.apply\u001b[0;34m(self, named_args)\u001b[0m\n\u001b[1;32m     64\u001b[0m \u001b[38;5;28;01mdef\u001b[39;00m \u001b[38;5;21mapply\u001b[39m(\u001b[38;5;28mself\u001b[39m, named_args):\n\u001b[1;32m     65\u001b[0m \u001b[38;5;250m  \u001b[39m\u001b[38;5;124;03m\"\"\"Calls the function with a dictionary of named arguments.\u001b[39;00m\n\u001b[1;32m     66\u001b[0m \n\u001b[1;32m     67\u001b[0m \u001b[38;5;124;03m  Args:\u001b[39;00m\n\u001b[0;32m   (...)\u001b[0m\n\u001b[1;32m     73\u001b[0m \u001b[38;5;124;03m    to that type.\u001b[39;00m\n\u001b[1;32m     74\u001b[0m \u001b[38;5;124;03m  \"\"\"\u001b[39;00m\n\u001b[0;32m---> 75\u001b[0m   result \u001b[38;5;241m=\u001b[39m computedobject\u001b[38;5;241m.\u001b[39mComputedObject(\u001b[38;5;28mself\u001b[39m, \u001b[38;5;28;43mself\u001b[39;49m\u001b[38;5;241;43m.\u001b[39;49m\u001b[43mpromoteArgs\u001b[49m\u001b[43m(\u001b[49m\u001b[43mnamed_args\u001b[49m\u001b[43m)\u001b[49m)\n\u001b[1;32m     76\u001b[0m   \u001b[38;5;28;01mreturn\u001b[39;00m Function\u001b[38;5;241m.\u001b[39m_promoter(result, \u001b[38;5;28mself\u001b[39m\u001b[38;5;241m.\u001b[39mgetReturnType())\n",
      "File \u001b[0;32m~/miniconda3/envs/ears33/lib/python3.12/site-packages/ee/function.py:103\u001b[0m, in \u001b[0;36mFunction.promoteArgs\u001b[0;34m(self, args)\u001b[0m\n\u001b[1;32m    101\u001b[0m name \u001b[38;5;241m=\u001b[39m arg_spec[\u001b[38;5;124m'\u001b[39m\u001b[38;5;124mname\u001b[39m\u001b[38;5;124m'\u001b[39m]\n\u001b[1;32m    102\u001b[0m \u001b[38;5;28;01mif\u001b[39;00m name \u001b[38;5;129;01min\u001b[39;00m args:\n\u001b[0;32m--> 103\u001b[0m   promoted_args[name] \u001b[38;5;241m=\u001b[39m \u001b[43mFunction\u001b[49m\u001b[38;5;241;43m.\u001b[39;49m\u001b[43m_promoter\u001b[49m\u001b[43m(\u001b[49m\u001b[43margs\u001b[49m\u001b[43m[\u001b[49m\u001b[43mname\u001b[49m\u001b[43m]\u001b[49m\u001b[43m,\u001b[49m\u001b[43m \u001b[49m\u001b[43marg_spec\u001b[49m\u001b[43m[\u001b[49m\u001b[38;5;124;43m'\u001b[39;49m\u001b[38;5;124;43mtype\u001b[39;49m\u001b[38;5;124;43m'\u001b[39;49m\u001b[43m]\u001b[49m\u001b[43m)\u001b[49m\n\u001b[1;32m    104\u001b[0m \u001b[38;5;28;01melif\u001b[39;00m \u001b[38;5;129;01mnot\u001b[39;00m arg_spec\u001b[38;5;241m.\u001b[39mget(\u001b[38;5;124m'\u001b[39m\u001b[38;5;124moptional\u001b[39m\u001b[38;5;124m'\u001b[39m):\n\u001b[1;32m    105\u001b[0m   \u001b[38;5;28;01mraise\u001b[39;00m ee_exception\u001b[38;5;241m.\u001b[39mEEException(\n\u001b[1;32m    106\u001b[0m       \u001b[38;5;124m'\u001b[39m\u001b[38;5;124mRequired argument (\u001b[39m\u001b[38;5;132;01m%s\u001b[39;00m\u001b[38;5;124m) missing to function: \u001b[39m\u001b[38;5;132;01m%s\u001b[39;00m\u001b[38;5;124m'\u001b[39m\n\u001b[1;32m    107\u001b[0m       \u001b[38;5;241m%\u001b[39m (name, signature\u001b[38;5;241m.\u001b[39mget(\u001b[38;5;124m'\u001b[39m\u001b[38;5;124mname\u001b[39m\u001b[38;5;124m'\u001b[39m)))\n",
      "File \u001b[0;32m~/miniconda3/envs/ears33/lib/python3.12/site-packages/ee/__init__.py:335\u001b[0m, in \u001b[0;36m_Promote\u001b[0;34m(arg, a_class)\u001b[0m\n\u001b[1;32m    332\u001b[0m \u001b[38;5;28;01melif\u001b[39;00m \u001b[38;5;28mcallable\u001b[39m(arg):\n\u001b[1;32m    333\u001b[0m   \u001b[38;5;66;03m# A native function that needs to be wrapped.\u001b[39;00m\n\u001b[1;32m    334\u001b[0m   args_count \u001b[38;5;241m=\u001b[39m \u001b[38;5;28mlen\u001b[39m(inspect\u001b[38;5;241m.\u001b[39mgetfullargspec(arg)\u001b[38;5;241m.\u001b[39margs)\n\u001b[0;32m--> 335\u001b[0m   \u001b[38;5;28;01mreturn\u001b[39;00m \u001b[43mCustomFunction\u001b[49m\u001b[38;5;241;43m.\u001b[39;49m\u001b[43mcreate\u001b[49m\u001b[43m(\u001b[49m\u001b[43marg\u001b[49m\u001b[43m,\u001b[49m\u001b[43m \u001b[49m\u001b[38;5;124;43m'\u001b[39;49m\u001b[38;5;124;43mObject\u001b[39;49m\u001b[38;5;124;43m'\u001b[39;49m\u001b[43m,\u001b[49m\u001b[43m \u001b[49m\u001b[43m[\u001b[49m\u001b[38;5;124;43m'\u001b[39;49m\u001b[38;5;124;43mObject\u001b[39;49m\u001b[38;5;124;43m'\u001b[39;49m\u001b[43m]\u001b[49m\u001b[43m \u001b[49m\u001b[38;5;241;43m*\u001b[39;49m\u001b[43m \u001b[49m\u001b[43margs_count\u001b[49m\u001b[43m)\u001b[49m\n\u001b[1;32m    336\u001b[0m \u001b[38;5;28;01melif\u001b[39;00m \u001b[38;5;28misinstance\u001b[39m(arg, Encodable):\n\u001b[1;32m    337\u001b[0m   \u001b[38;5;66;03m# An ee.Function or a computed function like the return value of\u001b[39;00m\n\u001b[1;32m    338\u001b[0m   \u001b[38;5;66;03m# Image.parseExpression().\u001b[39;00m\n\u001b[1;32m    339\u001b[0m   \u001b[38;5;28;01mreturn\u001b[39;00m arg\n",
      "File \u001b[0;32m~/miniconda3/envs/ears33/lib/python3.12/site-packages/ee/customfunction.py:126\u001b[0m, in \u001b[0;36mCustomFunction.create\u001b[0;34m(func, return_type, arg_types)\u001b[0m\n\u001b[1;32m    120\u001b[0m args \u001b[38;5;241m=\u001b[39m [{\u001b[38;5;124m'\u001b[39m\u001b[38;5;124mname\u001b[39m\u001b[38;5;124m'\u001b[39m: \u001b[38;5;28;01mNone\u001b[39;00m, \u001b[38;5;124m'\u001b[39m\u001b[38;5;124mtype\u001b[39m\u001b[38;5;124m'\u001b[39m: StringifyType(i)} \u001b[38;5;28;01mfor\u001b[39;00m i \u001b[38;5;129;01min\u001b[39;00m arg_types]\n\u001b[1;32m    121\u001b[0m signature \u001b[38;5;241m=\u001b[39m {\n\u001b[1;32m    122\u001b[0m     \u001b[38;5;124m'\u001b[39m\u001b[38;5;124mname\u001b[39m\u001b[38;5;124m'\u001b[39m: \u001b[38;5;124m'\u001b[39m\u001b[38;5;124m'\u001b[39m,\n\u001b[1;32m    123\u001b[0m     \u001b[38;5;124m'\u001b[39m\u001b[38;5;124mreturns\u001b[39m\u001b[38;5;124m'\u001b[39m: StringifyType(return_type),\n\u001b[1;32m    124\u001b[0m     \u001b[38;5;124m'\u001b[39m\u001b[38;5;124margs\u001b[39m\u001b[38;5;124m'\u001b[39m: args\n\u001b[1;32m    125\u001b[0m }\n\u001b[0;32m--> 126\u001b[0m \u001b[38;5;28;01mreturn\u001b[39;00m \u001b[43mCustomFunction\u001b[49m\u001b[43m(\u001b[49m\u001b[43msignature\u001b[49m\u001b[43m,\u001b[49m\u001b[43m \u001b[49m\u001b[43mfunc\u001b[49m\u001b[43m)\u001b[49m\n",
      "File \u001b[0;32m~/miniconda3/envs/ears33/lib/python3.12/site-packages/ee/customfunction.py:40\u001b[0m, in \u001b[0;36mCustomFunction.__init__\u001b[0;34m(self, signature, body)\u001b[0m\n\u001b[1;32m     26\u001b[0m \u001b[38;5;250m\u001b[39m\u001b[38;5;124;03m\"\"\"Creates a function defined by a given expression with unbound variables.\u001b[39;00m\n\u001b[1;32m     27\u001b[0m \n\u001b[1;32m     28\u001b[0m \u001b[38;5;124;03mThe expression is created by evaluating the given function\u001b[39;00m\n\u001b[0;32m   (...)\u001b[0m\n\u001b[1;32m     35\u001b[0m \u001b[38;5;124;03m  body: The Python function to evaluate.\u001b[39;00m\n\u001b[1;32m     36\u001b[0m \u001b[38;5;124;03m\"\"\"\u001b[39;00m\n\u001b[1;32m     37\u001b[0m variables \u001b[38;5;241m=\u001b[39m [CustomFunction\u001b[38;5;241m.\u001b[39mvariable(arg[\u001b[38;5;124m'\u001b[39m\u001b[38;5;124mtype\u001b[39m\u001b[38;5;124m'\u001b[39m], arg[\u001b[38;5;124m'\u001b[39m\u001b[38;5;124mname\u001b[39m\u001b[38;5;124m'\u001b[39m])\n\u001b[1;32m     38\u001b[0m              \u001b[38;5;28;01mfor\u001b[39;00m arg \u001b[38;5;129;01min\u001b[39;00m signature[\u001b[38;5;124m'\u001b[39m\u001b[38;5;124margs\u001b[39m\u001b[38;5;124m'\u001b[39m]]\n\u001b[0;32m---> 40\u001b[0m \u001b[38;5;28;01mif\u001b[39;00m \u001b[43mbody\u001b[49m\u001b[43m(\u001b[49m\u001b[38;5;241;43m*\u001b[39;49m\u001b[43mvariables\u001b[49m\u001b[43m)\u001b[49m \u001b[38;5;129;01mis\u001b[39;00m \u001b[38;5;28;01mNone\u001b[39;00m:\n\u001b[1;32m     41\u001b[0m   \u001b[38;5;28;01mraise\u001b[39;00m ee_exception\u001b[38;5;241m.\u001b[39mEEException(\u001b[38;5;124m'\u001b[39m\u001b[38;5;124mUser-defined methods must return a value\u001b[39m\u001b[38;5;124m'\u001b[39m)\n\u001b[1;32m     43\u001b[0m \u001b[38;5;66;03m# The signature of the function.\u001b[39;00m\n",
      "File \u001b[0;32m~/miniconda3/envs/ears33/lib/python3.12/site-packages/ee/collection.py:243\u001b[0m, in \u001b[0;36mCollection.map.<locals>.<lambda>\u001b[0;34m(e)\u001b[0m\n\u001b[1;32m    225\u001b[0m \u001b[38;5;250m\u001b[39m\u001b[38;5;124;03m\"\"\"Maps an algorithm over a collection.\u001b[39;00m\n\u001b[1;32m    226\u001b[0m \n\u001b[1;32m    227\u001b[0m \u001b[38;5;124;03mArgs:\u001b[39;00m\n\u001b[0;32m   (...)\u001b[0m\n\u001b[1;32m    240\u001b[0m \u001b[38;5;124;03m  ee_exception.EEException: if algorithm is not a function.\u001b[39;00m\n\u001b[1;32m    241\u001b[0m \u001b[38;5;124;03m\"\"\"\u001b[39;00m\n\u001b[1;32m    242\u001b[0m element_type \u001b[38;5;241m=\u001b[39m \u001b[38;5;28mself\u001b[39m\u001b[38;5;241m.\u001b[39melementType()\n\u001b[0;32m--> 243\u001b[0m with_cast \u001b[38;5;241m=\u001b[39m \u001b[38;5;28;01mlambda\u001b[39;00m e: \u001b[43malgorithm\u001b[49m\u001b[43m(\u001b[49m\u001b[43melement_type\u001b[49m\u001b[43m(\u001b[49m\u001b[43me\u001b[49m\u001b[43m,\u001b[49m\u001b[43m \u001b[49m\u001b[38;5;28;43;01mNone\u001b[39;49;00m\u001b[43m)\u001b[49m\u001b[43m)\u001b[49m\n\u001b[1;32m    244\u001b[0m \u001b[38;5;28;01mreturn\u001b[39;00m \u001b[38;5;28mself\u001b[39m\u001b[38;5;241m.\u001b[39m_cast(\n\u001b[1;32m    245\u001b[0m     apifunction\u001b[38;5;241m.\u001b[39mApiFunction\u001b[38;5;241m.\u001b[39mcall_(\n\u001b[1;32m    246\u001b[0m         \u001b[38;5;124m'\u001b[39m\u001b[38;5;124mCollection.map\u001b[39m\u001b[38;5;124m'\u001b[39m, \u001b[38;5;28mself\u001b[39m, with_cast, dropNulls\n\u001b[1;32m    247\u001b[0m     )\n\u001b[1;32m    248\u001b[0m )\n",
      "Cell \u001b[0;32mIn[81], line 6\u001b[0m, in \u001b[0;36mcalculate_stats\u001b[0;34m(image)\u001b[0m\n\u001b[1;32m      5\u001b[0m \u001b[38;5;28;01mdef\u001b[39;00m \u001b[38;5;21mcalculate_stats\u001b[39m(image):\n\u001b[0;32m----> 6\u001b[0m     date_acquired \u001b[38;5;241m=\u001b[39m \u001b[43mee\u001b[49m\u001b[38;5;241;43m.\u001b[39;49m\u001b[43mDate\u001b[49m\u001b[43m(\u001b[49m\u001b[43mimage\u001b[49m\u001b[38;5;241;43m.\u001b[39;49m\u001b[43mget\u001b[49m\u001b[43m(\u001b[49m\u001b[38;5;124;43m'\u001b[39;49m\u001b[38;5;124;43mDATE_ACQUIRED\u001b[39;49m\u001b[38;5;124;43m'\u001b[39;49m\u001b[43m)\u001b[49m\u001b[43m)\u001b[49m\u001b[38;5;241;43m.\u001b[39;49m\u001b[43mformat\u001b[49m\u001b[43m(\u001b[49m\u001b[38;5;124;43m'\u001b[39;49m\u001b[38;5;124;43mYYYY-MM-dd\u001b[39;49m\u001b[38;5;124;43m'\u001b[39;49m\u001b[43m)\u001b[49m\u001b[38;5;241;43m.\u001b[39;49m\u001b[43mgetInfo\u001b[49m\u001b[43m(\u001b[49m\u001b[43m)\u001b[49m\n\u001b[1;32m      7\u001b[0m     stats \u001b[38;5;241m=\u001b[39m {\u001b[38;5;124m'\u001b[39m\u001b[38;5;124mDATE_ACQUIRED\u001b[39m\u001b[38;5;124m'\u001b[39m: date_acquired}\n\u001b[1;32m      8\u001b[0m     \u001b[38;5;28;01mfor\u001b[39;00m band \u001b[38;5;129;01min\u001b[39;00m bands:\n",
      "File \u001b[0;32m~/miniconda3/envs/ears33/lib/python3.12/site-packages/ee/computedobject.py:107\u001b[0m, in \u001b[0;36mComputedObject.getInfo\u001b[0;34m(self)\u001b[0m\n\u001b[1;32m    101\u001b[0m \u001b[38;5;28;01mdef\u001b[39;00m \u001b[38;5;21mgetInfo\u001b[39m(\u001b[38;5;28mself\u001b[39m) \u001b[38;5;241m-\u001b[39m\u001b[38;5;241m>\u001b[39m Optional[Any]:\n\u001b[1;32m    102\u001b[0m \u001b[38;5;250m  \u001b[39m\u001b[38;5;124;03m\"\"\"Fetch and return information about this object.\u001b[39;00m\n\u001b[1;32m    103\u001b[0m \n\u001b[1;32m    104\u001b[0m \u001b[38;5;124;03m  Returns:\u001b[39;00m\n\u001b[1;32m    105\u001b[0m \u001b[38;5;124;03m    The object can evaluate to anything.\u001b[39;00m\n\u001b[1;32m    106\u001b[0m \u001b[38;5;124;03m  \"\"\"\u001b[39;00m\n\u001b[0;32m--> 107\u001b[0m   \u001b[38;5;28;01mreturn\u001b[39;00m \u001b[43mdata\u001b[49m\u001b[38;5;241;43m.\u001b[39;49m\u001b[43mcomputeValue\u001b[49m\u001b[43m(\u001b[49m\u001b[38;5;28;43mself\u001b[39;49m\u001b[43m)\u001b[49m\n",
      "File \u001b[0;32m~/miniconda3/envs/ears33/lib/python3.12/site-packages/ee/data.py:1104\u001b[0m, in \u001b[0;36mcomputeValue\u001b[0;34m(obj)\u001b[0m\n\u001b[1;32m   1095\u001b[0m \u001b[38;5;28;01mdef\u001b[39;00m \u001b[38;5;21mcomputeValue\u001b[39m(obj: computedobject\u001b[38;5;241m.\u001b[39mComputedObject) \u001b[38;5;241m-\u001b[39m\u001b[38;5;241m>\u001b[39m Any:\n\u001b[1;32m   1096\u001b[0m \u001b[38;5;250m  \u001b[39m\u001b[38;5;124;03m\"\"\"Sends a request to compute a value.\u001b[39;00m\n\u001b[1;32m   1097\u001b[0m \n\u001b[1;32m   1098\u001b[0m \u001b[38;5;124;03m  Args:\u001b[39;00m\n\u001b[0;32m   (...)\u001b[0m\n\u001b[1;32m   1102\u001b[0m \u001b[38;5;124;03m    The result of evaluating that object on the server.\u001b[39;00m\n\u001b[1;32m   1103\u001b[0m \u001b[38;5;124;03m  \"\"\"\u001b[39;00m\n\u001b[0;32m-> 1104\u001b[0m   body \u001b[38;5;241m=\u001b[39m {\u001b[38;5;124m'\u001b[39m\u001b[38;5;124mexpression\u001b[39m\u001b[38;5;124m'\u001b[39m: \u001b[43mserializer\u001b[49m\u001b[38;5;241;43m.\u001b[39;49m\u001b[43mencode\u001b[49m\u001b[43m(\u001b[49m\u001b[43mobj\u001b[49m\u001b[43m,\u001b[49m\u001b[43m \u001b[49m\u001b[43mfor_cloud_api\u001b[49m\u001b[38;5;241;43m=\u001b[39;49m\u001b[38;5;28;43;01mTrue\u001b[39;49;00m\u001b[43m)\u001b[49m}\n\u001b[1;32m   1105\u001b[0m   _maybe_populate_workload_tag(body)\n\u001b[1;32m   1107\u001b[0m   \u001b[38;5;28;01mreturn\u001b[39;00m _execute_cloud_call(\n\u001b[1;32m   1108\u001b[0m       _get_cloud_projects()\n\u001b[1;32m   1109\u001b[0m       \u001b[38;5;241m.\u001b[39mvalue()\n\u001b[1;32m   1110\u001b[0m       \u001b[38;5;241m.\u001b[39mcompute(body\u001b[38;5;241m=\u001b[39mbody, project\u001b[38;5;241m=\u001b[39m_get_projects_path(), prettyPrint\u001b[38;5;241m=\u001b[39m\u001b[38;5;28;01mFalse\u001b[39;00m)\n\u001b[1;32m   1111\u001b[0m   )[\u001b[38;5;124m'\u001b[39m\u001b[38;5;124mresult\u001b[39m\u001b[38;5;124m'\u001b[39m]\n",
      "File \u001b[0;32m~/miniconda3/envs/ears33/lib/python3.12/site-packages/ee/serializer.py:301\u001b[0m, in \u001b[0;36mencode\u001b[0;34m(obj, is_compound, for_cloud_api, unbound_name)\u001b[0m\n\u001b[1;32m    285\u001b[0m \u001b[38;5;250m\u001b[39m\u001b[38;5;124;03m\"\"\"Serialize an object to a JSON-compatible structure for API calls.\u001b[39;00m\n\u001b[1;32m    286\u001b[0m \n\u001b[1;32m    287\u001b[0m \u001b[38;5;124;03mArgs:\u001b[39;00m\n\u001b[0;32m   (...)\u001b[0m\n\u001b[1;32m    297\u001b[0m \u001b[38;5;124;03m  A JSON-compatible structure representing the input.\u001b[39;00m\n\u001b[1;32m    298\u001b[0m \u001b[38;5;124;03m\"\"\"\u001b[39;00m\n\u001b[1;32m    299\u001b[0m serializer \u001b[38;5;241m=\u001b[39m Serializer(\n\u001b[1;32m    300\u001b[0m     is_compound, for_cloud_api\u001b[38;5;241m=\u001b[39mfor_cloud_api, unbound_name\u001b[38;5;241m=\u001b[39munbound_name)\n\u001b[0;32m--> 301\u001b[0m \u001b[38;5;28;01mreturn\u001b[39;00m \u001b[43mserializer\u001b[49m\u001b[38;5;241;43m.\u001b[39;49m\u001b[43m_encode\u001b[49m\u001b[43m(\u001b[49m\u001b[43mobj\u001b[49m\u001b[43m)\u001b[49m\n",
      "File \u001b[0;32m~/miniconda3/envs/ears33/lib/python3.12/site-packages/ee/serializer.py:79\u001b[0m, in \u001b[0;36mSerializer._encode\u001b[0;34m(self, obj)\u001b[0m\n\u001b[1;32m     70\u001b[0m \u001b[38;5;250m\u001b[39m\u001b[38;5;124;03m\"\"\"Encodes a top level object to be executed server-side.\u001b[39;00m\n\u001b[1;32m     71\u001b[0m \n\u001b[1;32m     72\u001b[0m \u001b[38;5;124;03mArgs:\u001b[39;00m\n\u001b[0;32m   (...)\u001b[0m\n\u001b[1;32m     76\u001b[0m \u001b[38;5;124;03m  An encoded object ready for JSON serialization.\u001b[39;00m\n\u001b[1;32m     77\u001b[0m \u001b[38;5;124;03m\"\"\"\u001b[39;00m\n\u001b[1;32m     78\u001b[0m \u001b[38;5;28;01mif\u001b[39;00m \u001b[38;5;28mself\u001b[39m\u001b[38;5;241m.\u001b[39m_for_cloud_api:\n\u001b[0;32m---> 79\u001b[0m   \u001b[38;5;28;01mreturn\u001b[39;00m \u001b[38;5;28;43mself\u001b[39;49m\u001b[38;5;241;43m.\u001b[39;49m\u001b[43m_encode_for_cloud_api\u001b[49m\u001b[43m(\u001b[49m\u001b[43mobj\u001b[49m\u001b[43m)\u001b[49m\n\u001b[1;32m     80\u001b[0m value \u001b[38;5;241m=\u001b[39m \u001b[38;5;28mself\u001b[39m\u001b[38;5;241m.\u001b[39m_encode_value(obj)\n\u001b[1;32m     81\u001b[0m \u001b[38;5;28;01mif\u001b[39;00m \u001b[38;5;28mself\u001b[39m\u001b[38;5;241m.\u001b[39m_is_compound:\n",
      "File \u001b[0;32m~/miniconda3/envs/ears33/lib/python3.12/site-packages/ee/serializer.py:97\u001b[0m, in \u001b[0;36mSerializer._encode_for_cloud_api\u001b[0;34m(self, obj)\u001b[0m\n\u001b[1;32m     95\u001b[0m \u001b[38;5;28;01mdef\u001b[39;00m \u001b[38;5;21m_encode_for_cloud_api\u001b[39m(\u001b[38;5;28mself\u001b[39m, obj: Any) \u001b[38;5;241m-\u001b[39m\u001b[38;5;241m>\u001b[39m Any:\n\u001b[1;32m     96\u001b[0m \u001b[38;5;250m  \u001b[39m\u001b[38;5;124;03m\"\"\"Encodes an object as an Expression or quasi-Expression.\"\"\"\u001b[39;00m\n\u001b[0;32m---> 97\u001b[0m   value \u001b[38;5;241m=\u001b[39m \u001b[38;5;28;43mself\u001b[39;49m\u001b[38;5;241;43m.\u001b[39;49m\u001b[43m_encode_cloud_object\u001b[49m\u001b[43m(\u001b[49m\u001b[43mobj\u001b[49m\u001b[43m)\u001b[49m\n\u001b[1;32m     98\u001b[0m   \u001b[38;5;28;01mif\u001b[39;00m \u001b[38;5;28mself\u001b[39m\u001b[38;5;241m.\u001b[39m_is_compound:\n\u001b[1;32m     99\u001b[0m     \u001b[38;5;66;03m# Wrap the scopes and final value into an Expression.\u001b[39;00m\n\u001b[1;32m    100\u001b[0m     value \u001b[38;5;241m=\u001b[39m _ExpressionOptimizer(value, \u001b[38;5;28mself\u001b[39m\u001b[38;5;241m.\u001b[39m_scope)\u001b[38;5;241m.\u001b[39moptimize()\n",
      "File \u001b[0;32m~/miniconda3/envs/ears33/lib/python3.12/site-packages/ee/serializer.py:219\u001b[0m, in \u001b[0;36mSerializer._encode_cloud_object\u001b[0;34m(self, obj)\u001b[0m\n\u001b[1;32m    207\u001b[0m   result \u001b[38;5;241m=\u001b[39m {\n\u001b[1;32m    208\u001b[0m       \u001b[38;5;124m'\u001b[39m\u001b[38;5;124mfunctionInvocationValue\u001b[39m\u001b[38;5;124m'\u001b[39m: {\n\u001b[1;32m    209\u001b[0m           \u001b[38;5;124m'\u001b[39m\u001b[38;5;124mfunctionName\u001b[39m\u001b[38;5;124m'\u001b[39m: \u001b[38;5;124m'\u001b[39m\u001b[38;5;124mDate\u001b[39m\u001b[38;5;124m'\u001b[39m,\n\u001b[0;32m   (...)\u001b[0m\n\u001b[1;32m    215\u001b[0m       }\n\u001b[1;32m    216\u001b[0m   }\n\u001b[1;32m    217\u001b[0m \u001b[38;5;28;01melif\u001b[39;00m \u001b[38;5;28misinstance\u001b[39m(obj, encodable\u001b[38;5;241m.\u001b[39mEncodable):\n\u001b[1;32m    218\u001b[0m   \u001b[38;5;66;03m# Some objects know how to encode themselves.\u001b[39;00m\n\u001b[0;32m--> 219\u001b[0m   result \u001b[38;5;241m=\u001b[39m \u001b[43mobj\u001b[49m\u001b[38;5;241;43m.\u001b[39;49m\u001b[43mencode_cloud_value\u001b[49m\u001b[43m(\u001b[49m\u001b[38;5;28;43mself\u001b[39;49m\u001b[38;5;241;43m.\u001b[39;49m\u001b[43m_encode_cloud_object\u001b[49m\u001b[43m)\u001b[49m\n\u001b[1;32m    220\u001b[0m \u001b[38;5;28;01melif\u001b[39;00m \u001b[38;5;28misinstance\u001b[39m(obj, (\u001b[38;5;28mlist\u001b[39m, \u001b[38;5;28mtuple\u001b[39m)):\n\u001b[1;32m    221\u001b[0m   \u001b[38;5;66;03m# Lists are encoded recursively.\u001b[39;00m\n\u001b[1;32m    222\u001b[0m   \u001b[38;5;28;01mif\u001b[39;00m \u001b[38;5;28mself\u001b[39m\u001b[38;5;241m.\u001b[39m_is_compound:\n",
      "File \u001b[0;32m~/miniconda3/envs/ears33/lib/python3.12/site-packages/ee/_utils.py:38\u001b[0m, in \u001b[0;36maccept_opt_prefix.<locals>.opt_fixed.<locals>.wrapper\u001b[0;34m(*args, **kwargs)\u001b[0m\n\u001b[1;32m     36\u001b[0m     \u001b[38;5;28;01mif\u001b[39;00m new_key \u001b[38;5;129;01mnot\u001b[39;00m \u001b[38;5;129;01min\u001b[39;00m kwargs:\n\u001b[1;32m     37\u001b[0m       kwargs[new_key] \u001b[38;5;241m=\u001b[39m old_key_val\n\u001b[0;32m---> 38\u001b[0m \u001b[38;5;28;01mreturn\u001b[39;00m \u001b[43mfunc\u001b[49m\u001b[43m(\u001b[49m\u001b[38;5;241;43m*\u001b[39;49m\u001b[43margs\u001b[49m\u001b[43m,\u001b[49m\u001b[43m \u001b[49m\u001b[38;5;241;43m*\u001b[39;49m\u001b[38;5;241;43m*\u001b[39;49m\u001b[43mkwargs\u001b[49m\u001b[43m)\u001b[49m\n",
      "File \u001b[0;32m~/miniconda3/envs/ears33/lib/python3.12/site-packages/ee/ee_string.py:85\u001b[0m, in \u001b[0;36mString.encode_cloud_value\u001b[0;34m(self, encoder)\u001b[0m\n\u001b[1;32m     83\u001b[0m   \u001b[38;5;28;01mreturn\u001b[39;00m {\u001b[38;5;124m'\u001b[39m\u001b[38;5;124mconstantValue\u001b[39m\u001b[38;5;124m'\u001b[39m: \u001b[38;5;28mself\u001b[39m\u001b[38;5;241m.\u001b[39m_string}\n\u001b[1;32m     84\u001b[0m \u001b[38;5;28;01melse\u001b[39;00m:\n\u001b[0;32m---> 85\u001b[0m   \u001b[38;5;28;01mreturn\u001b[39;00m \u001b[38;5;28;43msuper\u001b[39;49m\u001b[43m(\u001b[49m\u001b[43m)\u001b[49m\u001b[38;5;241;43m.\u001b[39;49m\u001b[43mencode_cloud_value\u001b[49m\u001b[43m(\u001b[49m\u001b[43mencoder\u001b[49m\u001b[43m)\u001b[49m\n",
      "File \u001b[0;32m~/miniconda3/envs/ears33/lib/python3.12/site-packages/ee/computedobject.py:167\u001b[0m, in \u001b[0;36mComputedObject.encode_cloud_value\u001b[0;34m(self, encoder)\u001b[0m\n\u001b[1;32m    165\u001b[0m   value \u001b[38;5;241m=\u001b[39m \u001b[38;5;28mself\u001b[39m\u001b[38;5;241m.\u001b[39margs[name]\n\u001b[1;32m    166\u001b[0m   \u001b[38;5;28;01mif\u001b[39;00m value \u001b[38;5;129;01mis\u001b[39;00m \u001b[38;5;129;01mnot\u001b[39;00m \u001b[38;5;28;01mNone\u001b[39;00m:\n\u001b[0;32m--> 167\u001b[0m     encoded_args[name] \u001b[38;5;241m=\u001b[39m {\u001b[38;5;124m'\u001b[39m\u001b[38;5;124mvalueReference\u001b[39m\u001b[38;5;124m'\u001b[39m: \u001b[43mencoder\u001b[49m\u001b[43m(\u001b[49m\u001b[43mvalue\u001b[49m\u001b[43m)\u001b[49m}\n\u001b[1;32m    168\u001b[0m invocation[\u001b[38;5;124m'\u001b[39m\u001b[38;5;124marguments\u001b[39m\u001b[38;5;124m'\u001b[39m] \u001b[38;5;241m=\u001b[39m encoded_args\n\u001b[1;32m    169\u001b[0m \u001b[38;5;28;01mreturn\u001b[39;00m {\u001b[38;5;124m'\u001b[39m\u001b[38;5;124mfunctionInvocationValue\u001b[39m\u001b[38;5;124m'\u001b[39m: invocation}\n",
      "File \u001b[0;32m~/miniconda3/envs/ears33/lib/python3.12/site-packages/ee/serializer.py:219\u001b[0m, in \u001b[0;36mSerializer._encode_cloud_object\u001b[0;34m(self, obj)\u001b[0m\n\u001b[1;32m    207\u001b[0m   result \u001b[38;5;241m=\u001b[39m {\n\u001b[1;32m    208\u001b[0m       \u001b[38;5;124m'\u001b[39m\u001b[38;5;124mfunctionInvocationValue\u001b[39m\u001b[38;5;124m'\u001b[39m: {\n\u001b[1;32m    209\u001b[0m           \u001b[38;5;124m'\u001b[39m\u001b[38;5;124mfunctionName\u001b[39m\u001b[38;5;124m'\u001b[39m: \u001b[38;5;124m'\u001b[39m\u001b[38;5;124mDate\u001b[39m\u001b[38;5;124m'\u001b[39m,\n\u001b[0;32m   (...)\u001b[0m\n\u001b[1;32m    215\u001b[0m       }\n\u001b[1;32m    216\u001b[0m   }\n\u001b[1;32m    217\u001b[0m \u001b[38;5;28;01melif\u001b[39;00m \u001b[38;5;28misinstance\u001b[39m(obj, encodable\u001b[38;5;241m.\u001b[39mEncodable):\n\u001b[1;32m    218\u001b[0m   \u001b[38;5;66;03m# Some objects know how to encode themselves.\u001b[39;00m\n\u001b[0;32m--> 219\u001b[0m   result \u001b[38;5;241m=\u001b[39m \u001b[43mobj\u001b[49m\u001b[38;5;241;43m.\u001b[39;49m\u001b[43mencode_cloud_value\u001b[49m\u001b[43m(\u001b[49m\u001b[38;5;28;43mself\u001b[39;49m\u001b[38;5;241;43m.\u001b[39;49m\u001b[43m_encode_cloud_object\u001b[49m\u001b[43m)\u001b[49m\n\u001b[1;32m    220\u001b[0m \u001b[38;5;28;01melif\u001b[39;00m \u001b[38;5;28misinstance\u001b[39m(obj, (\u001b[38;5;28mlist\u001b[39m, \u001b[38;5;28mtuple\u001b[39m)):\n\u001b[1;32m    221\u001b[0m   \u001b[38;5;66;03m# Lists are encoded recursively.\u001b[39;00m\n\u001b[1;32m    222\u001b[0m   \u001b[38;5;28;01mif\u001b[39;00m \u001b[38;5;28mself\u001b[39m\u001b[38;5;241m.\u001b[39m_is_compound:\n",
      "File \u001b[0;32m~/miniconda3/envs/ears33/lib/python3.12/site-packages/ee/computedobject.py:167\u001b[0m, in \u001b[0;36mComputedObject.encode_cloud_value\u001b[0;34m(self, encoder)\u001b[0m\n\u001b[1;32m    165\u001b[0m   value \u001b[38;5;241m=\u001b[39m \u001b[38;5;28mself\u001b[39m\u001b[38;5;241m.\u001b[39margs[name]\n\u001b[1;32m    166\u001b[0m   \u001b[38;5;28;01mif\u001b[39;00m value \u001b[38;5;129;01mis\u001b[39;00m \u001b[38;5;129;01mnot\u001b[39;00m \u001b[38;5;28;01mNone\u001b[39;00m:\n\u001b[0;32m--> 167\u001b[0m     encoded_args[name] \u001b[38;5;241m=\u001b[39m {\u001b[38;5;124m'\u001b[39m\u001b[38;5;124mvalueReference\u001b[39m\u001b[38;5;124m'\u001b[39m: \u001b[43mencoder\u001b[49m\u001b[43m(\u001b[49m\u001b[43mvalue\u001b[49m\u001b[43m)\u001b[49m}\n\u001b[1;32m    168\u001b[0m invocation[\u001b[38;5;124m'\u001b[39m\u001b[38;5;124marguments\u001b[39m\u001b[38;5;124m'\u001b[39m] \u001b[38;5;241m=\u001b[39m encoded_args\n\u001b[1;32m    169\u001b[0m \u001b[38;5;28;01mreturn\u001b[39;00m {\u001b[38;5;124m'\u001b[39m\u001b[38;5;124mfunctionInvocationValue\u001b[39m\u001b[38;5;124m'\u001b[39m: invocation}\n",
      "File \u001b[0;32m~/miniconda3/envs/ears33/lib/python3.12/site-packages/ee/serializer.py:219\u001b[0m, in \u001b[0;36mSerializer._encode_cloud_object\u001b[0;34m(self, obj)\u001b[0m\n\u001b[1;32m    207\u001b[0m   result \u001b[38;5;241m=\u001b[39m {\n\u001b[1;32m    208\u001b[0m       \u001b[38;5;124m'\u001b[39m\u001b[38;5;124mfunctionInvocationValue\u001b[39m\u001b[38;5;124m'\u001b[39m: {\n\u001b[1;32m    209\u001b[0m           \u001b[38;5;124m'\u001b[39m\u001b[38;5;124mfunctionName\u001b[39m\u001b[38;5;124m'\u001b[39m: \u001b[38;5;124m'\u001b[39m\u001b[38;5;124mDate\u001b[39m\u001b[38;5;124m'\u001b[39m,\n\u001b[0;32m   (...)\u001b[0m\n\u001b[1;32m    215\u001b[0m       }\n\u001b[1;32m    216\u001b[0m   }\n\u001b[1;32m    217\u001b[0m \u001b[38;5;28;01melif\u001b[39;00m \u001b[38;5;28misinstance\u001b[39m(obj, encodable\u001b[38;5;241m.\u001b[39mEncodable):\n\u001b[1;32m    218\u001b[0m   \u001b[38;5;66;03m# Some objects know how to encode themselves.\u001b[39;00m\n\u001b[0;32m--> 219\u001b[0m   result \u001b[38;5;241m=\u001b[39m \u001b[43mobj\u001b[49m\u001b[38;5;241;43m.\u001b[39;49m\u001b[43mencode_cloud_value\u001b[49m\u001b[43m(\u001b[49m\u001b[38;5;28;43mself\u001b[39;49m\u001b[38;5;241;43m.\u001b[39;49m\u001b[43m_encode_cloud_object\u001b[49m\u001b[43m)\u001b[49m\n\u001b[1;32m    220\u001b[0m \u001b[38;5;28;01melif\u001b[39;00m \u001b[38;5;28misinstance\u001b[39m(obj, (\u001b[38;5;28mlist\u001b[39m, \u001b[38;5;28mtuple\u001b[39m)):\n\u001b[1;32m    221\u001b[0m   \u001b[38;5;66;03m# Lists are encoded recursively.\u001b[39;00m\n\u001b[1;32m    222\u001b[0m   \u001b[38;5;28;01mif\u001b[39;00m \u001b[38;5;28mself\u001b[39m\u001b[38;5;241m.\u001b[39m_is_compound:\n",
      "File \u001b[0;32m~/miniconda3/envs/ears33/lib/python3.12/site-packages/ee/computedobject.py:167\u001b[0m, in \u001b[0;36mComputedObject.encode_cloud_value\u001b[0;34m(self, encoder)\u001b[0m\n\u001b[1;32m    165\u001b[0m   value \u001b[38;5;241m=\u001b[39m \u001b[38;5;28mself\u001b[39m\u001b[38;5;241m.\u001b[39margs[name]\n\u001b[1;32m    166\u001b[0m   \u001b[38;5;28;01mif\u001b[39;00m value \u001b[38;5;129;01mis\u001b[39;00m \u001b[38;5;129;01mnot\u001b[39;00m \u001b[38;5;28;01mNone\u001b[39;00m:\n\u001b[0;32m--> 167\u001b[0m     encoded_args[name] \u001b[38;5;241m=\u001b[39m {\u001b[38;5;124m'\u001b[39m\u001b[38;5;124mvalueReference\u001b[39m\u001b[38;5;124m'\u001b[39m: \u001b[43mencoder\u001b[49m\u001b[43m(\u001b[49m\u001b[43mvalue\u001b[49m\u001b[43m)\u001b[49m}\n\u001b[1;32m    168\u001b[0m invocation[\u001b[38;5;124m'\u001b[39m\u001b[38;5;124marguments\u001b[39m\u001b[38;5;124m'\u001b[39m] \u001b[38;5;241m=\u001b[39m encoded_args\n\u001b[1;32m    169\u001b[0m \u001b[38;5;28;01mreturn\u001b[39;00m {\u001b[38;5;124m'\u001b[39m\u001b[38;5;124mfunctionInvocationValue\u001b[39m\u001b[38;5;124m'\u001b[39m: invocation}\n",
      "File \u001b[0;32m~/miniconda3/envs/ears33/lib/python3.12/site-packages/ee/serializer.py:219\u001b[0m, in \u001b[0;36mSerializer._encode_cloud_object\u001b[0;34m(self, obj)\u001b[0m\n\u001b[1;32m    207\u001b[0m   result \u001b[38;5;241m=\u001b[39m {\n\u001b[1;32m    208\u001b[0m       \u001b[38;5;124m'\u001b[39m\u001b[38;5;124mfunctionInvocationValue\u001b[39m\u001b[38;5;124m'\u001b[39m: {\n\u001b[1;32m    209\u001b[0m           \u001b[38;5;124m'\u001b[39m\u001b[38;5;124mfunctionName\u001b[39m\u001b[38;5;124m'\u001b[39m: \u001b[38;5;124m'\u001b[39m\u001b[38;5;124mDate\u001b[39m\u001b[38;5;124m'\u001b[39m,\n\u001b[0;32m   (...)\u001b[0m\n\u001b[1;32m    215\u001b[0m       }\n\u001b[1;32m    216\u001b[0m   }\n\u001b[1;32m    217\u001b[0m \u001b[38;5;28;01melif\u001b[39;00m \u001b[38;5;28misinstance\u001b[39m(obj, encodable\u001b[38;5;241m.\u001b[39mEncodable):\n\u001b[1;32m    218\u001b[0m   \u001b[38;5;66;03m# Some objects know how to encode themselves.\u001b[39;00m\n\u001b[0;32m--> 219\u001b[0m   result \u001b[38;5;241m=\u001b[39m \u001b[43mobj\u001b[49m\u001b[38;5;241;43m.\u001b[39;49m\u001b[43mencode_cloud_value\u001b[49m\u001b[43m(\u001b[49m\u001b[38;5;28;43mself\u001b[39;49m\u001b[38;5;241;43m.\u001b[39;49m\u001b[43m_encode_cloud_object\u001b[49m\u001b[43m)\u001b[49m\n\u001b[1;32m    220\u001b[0m \u001b[38;5;28;01melif\u001b[39;00m \u001b[38;5;28misinstance\u001b[39m(obj, (\u001b[38;5;28mlist\u001b[39m, \u001b[38;5;28mtuple\u001b[39m)):\n\u001b[1;32m    221\u001b[0m   \u001b[38;5;66;03m# Lists are encoded recursively.\u001b[39;00m\n\u001b[1;32m    222\u001b[0m   \u001b[38;5;28;01mif\u001b[39;00m \u001b[38;5;28mself\u001b[39m\u001b[38;5;241m.\u001b[39m_is_compound:\n",
      "File \u001b[0;32m~/miniconda3/envs/ears33/lib/python3.12/site-packages/ee/computedobject.py:150\u001b[0m, in \u001b[0;36mComputedObject.encode_cloud_value\u001b[0;34m(self, encoder)\u001b[0m\n\u001b[1;32m    143\u001b[0m     ref \u001b[38;5;241m=\u001b[39m encoder\u001b[38;5;241m.\u001b[39m\u001b[38;5;18m__self__\u001b[39m\u001b[38;5;241m.\u001b[39munbound_name\n\u001b[1;32m    144\u001b[0m   \u001b[38;5;28;01mif\u001b[39;00m ref \u001b[38;5;129;01mis\u001b[39;00m \u001b[38;5;28;01mNone\u001b[39;00m:\n\u001b[1;32m    145\u001b[0m     \u001b[38;5;66;03m# We are trying to call getInfo() or make some other server call inside\u001b[39;00m\n\u001b[1;32m    146\u001b[0m     \u001b[38;5;66;03m# a function passed to collection.map() or .iterate(), and the call uses\u001b[39;00m\n\u001b[1;32m    147\u001b[0m     \u001b[38;5;66;03m# one of the function arguments. The argument will be unbound outside of\u001b[39;00m\n\u001b[1;32m    148\u001b[0m     \u001b[38;5;66;03m# the map operation and cannot be evaluated. See the Count Functions\u001b[39;00m\n\u001b[1;32m    149\u001b[0m     \u001b[38;5;66;03m# case in customfunction.py for details on the unbound_name mechanism.\u001b[39;00m\n\u001b[0;32m--> 150\u001b[0m     \u001b[38;5;28;01mraise\u001b[39;00m ee_exception\u001b[38;5;241m.\u001b[39mEEException(\n\u001b[1;32m    151\u001b[0m         \u001b[38;5;124m\"\u001b[39m\u001b[38;5;124mA mapped function\u001b[39m\u001b[38;5;124m'\u001b[39m\u001b[38;5;124ms arguments cannot be used in \u001b[39m\u001b[38;5;124m\"\u001b[39m\n\u001b[1;32m    152\u001b[0m         \u001b[38;5;124m'\u001b[39m\u001b[38;5;124mclient-side operations\u001b[39m\u001b[38;5;124m'\u001b[39m\n\u001b[1;32m    153\u001b[0m     )\n\u001b[1;32m    154\u001b[0m   \u001b[38;5;28;01mreturn\u001b[39;00m {\u001b[38;5;124m'\u001b[39m\u001b[38;5;124margumentReference\u001b[39m\u001b[38;5;124m'\u001b[39m: ref}\n\u001b[1;32m    155\u001b[0m \u001b[38;5;28;01melse\u001b[39;00m:\n",
      "\u001b[0;31mEEException\u001b[0m: A mapped function's arguments cannot be used in client-side operations"
     ]
    }
   ],
   "source": [
    "# Define the list of bands to analyze\n",
    "bands = ['B2', 'B3', 'B4', 'B5', 'B6']\n",
    "\n",
    "# Create a function to calculate statistics for each image\n",
    "def calculate_stats(image):\n",
    "    date_acquired = ee.Date(image.get('DATE_ACQUIRED')).format('YYYY-MM-dd').getInfo()\n",
    "    stats = {'DATE_ACQUIRED': date_acquired}\n",
    "    for band in bands:\n",
    "        band_image = image.select(band)\n",
    "        band_stats = band_image.reduceRegion(\n",
    "            reducer=ee.Reducer.mean().combine(ee.Reducer.stdDev(), '', True),\n",
    "            geometry=image.geometry(),\n",
    "            scale=30\n",
    "        ).getInfo()\n",
    "        stats[f'{band}_mean'] = band_stats[f'{band}_mean']\n",
    "        stats[f'{band}_std_dev'] = band_stats[f'{band}_stdDev']\n",
    "        stats[f'{band}_max'] = band_stats[f'{band}_mean'] + band_stats[f'{band}_stdDev']\n",
    "        stats[f'{band}_min'] = band_stats[f'{band}_mean'] - band_stats[f'{band}_stdDev']\n",
    "        stats[f'{band}_median'] = band_stats[f'{band}_median']\n",
    "    return stats\n",
    "\n",
    "# Map the function over the image collection\n",
    "image_stats = landsat.map(calculate_stats)\n",
    "\n",
    "# Convert the resulting image collection to a list\n",
    "image_stats_list = image_stats.getInfo()\n",
    "\n",
    "# Convert the list of dictionaries to a pandas DataFrame\n",
    "df = pd.DataFrame(image_stats_list)\n",
    "\n",
    "# Print the DataFrame\n",
    "print(df)\n"
   ]
  },
  {
   "cell_type": "markdown",
   "id": "4a2df04d-1b5f-45b8-ab63-6501af846cba",
   "metadata": {},
   "source": [
    "#### "
   ]
  },
  {
   "cell_type": "markdown",
   "id": "919a9473-d7e6-44ee-a852-ceb4c2fd5c7b",
   "metadata": {},
   "source": [
    "#### "
   ]
  },
  {
   "cell_type": "code",
   "execution_count": null,
   "id": "2093ccc0-089d-4eec-a5f6-041ab7e273d5",
   "metadata": {},
   "outputs": [],
   "source": []
  }
 ],
 "metadata": {
  "kernelspec": {
   "display_name": "Python 3 (ipykernel)",
   "language": "python",
   "name": "python3"
  },
  "language_info": {
   "codemirror_mode": {
    "name": "ipython",
    "version": 3
   },
   "file_extension": ".py",
   "mimetype": "text/x-python",
   "name": "python",
   "nbconvert_exporter": "python",
   "pygments_lexer": "ipython3",
   "version": "3.12.3"
  }
 },
 "nbformat": 4,
 "nbformat_minor": 5
}
