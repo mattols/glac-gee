{
 "cells": [
  {
   "cell_type": "markdown",
   "id": "8e7c567a-7413-48ac-9165-c6d3e648f34b",
   "metadata": {},
   "source": [
    "# Glacier debris change - Everest"
   ]
  },
  {
   "cell_type": "markdown",
   "id": "346980b9-e298-4b37-8243-8f8b649940e6",
   "metadata": {},
   "source": [
    "## June 2025"
   ]
  },
  {
   "cell_type": "code",
   "execution_count": 1,
   "id": "d7560c85-ad16-49bd-8258-551b4f2c26fe",
   "metadata": {},
   "outputs": [],
   "source": [
    "import pandas as pd\n",
    "import geopandas as gpd\n",
    "from geopandas import GeoDataFrame\n",
    "import numpy as np\n",
    "from shapely.geometry import Point\n",
    "from matplotlib import pyplot as plt\n",
    "\n",
    "import ee\n",
    "\n",
    "import geemap #bless these people\n",
    "\n",
    "import json\n",
    "from datetime import datetime\n",
    "import os"
   ]
  },
  {
   "cell_type": "code",
   "execution_count": null,
   "id": "0a63b118-ab8e-4464-a0c3-98a190f21da0",
   "metadata": {},
   "outputs": [
    {
     "data": {
      "text/html": [
       "\n",
       "            <style>\n",
       "                .geemap-dark {\n",
       "                    --jp-widgets-color: white;\n",
       "                    --jp-widgets-label-color: white;\n",
       "                    --jp-ui-font-color1: white;\n",
       "                    --jp-layout-color2: #454545;\n",
       "                    background-color: #383838;\n",
       "                }\n",
       "\n",
       "                .geemap-dark .jupyter-button {\n",
       "                    --jp-layout-color3: #383838;\n",
       "                }\n",
       "\n",
       "                .geemap-colab {\n",
       "                    background-color: var(--colab-primary-surface-color, white);\n",
       "                }\n",
       "\n",
       "                .geemap-colab .jupyter-button {\n",
       "                    --jp-layout-color3: var(--colab-primary-surface-color, white);\n",
       "                }\n",
       "            </style>\n",
       "            "
      ],
      "text/plain": [
       "<IPython.core.display.HTML object>"
      ]
     },
     "metadata": {},
     "output_type": "display_data"
    }
   ],
   "source": [
    "ee.Authenticate()\n",
    "ee.Initialize()\n",
    "# ee.Authenticate(auth_mode='localhost')\n",
    "# ee.Initialize()"
   ]
  },
  {
   "cell_type": "code",
   "execution_count": null,
   "id": "d62d8360-bc1b-4baa-beef-d11a0c97e42e",
   "metadata": {},
   "outputs": [],
   "source": [
    "# custom functions\n",
    "# apply threshold to ndsi values (0.2 and 0.4 options)\n",
    "def ls_threshold02(image):\n",
    "    return image.gte(0.2).selfMask() # greater than or equal to (gte)\n",
    "def ls_threshold04(image):\n",
    "    return image.gte(0.4).selfMask()\n",
    "\n",
    "# scale values, clip, and run NDSI\n",
    "def ls8_ndsi_clip(image):\n",
    "    image = image.multiply(0.0000275).add(-0.2).clip(rg) # scale and clip\n",
    "    index = image.normalizedDifference(['SR_B3','SR_B6']).rename('ndsi');\n",
    "    return image.addBands(index)\n",
    "def ls8_scale_clip(image):\n",
    "    image = image.multiply(0.0000275).add(-0.2).clip(rg) # scale and clip\n",
    "    return image\n",
    "def ls5_ndsi_clip(image):\n",
    "    image = image.multiply(0.0000275).add(-0.2).clip(rg) # scale and clip\n",
    "    index = image.normalizedDifference(['SR_B2','SR_B5']).rename('ndsi');\n",
    "    return image.addBands(index)\n",
    "def ls5_scale_clip(image):\n",
    "    image = image.multiply(0.0000275).add(-0.2).clip(rg) # scale and clip\n",
    "    return image"
   ]
  },
  {
   "cell_type": "code",
   "execution_count": null,
   "id": "6492e99a-628b-43fe-a6a1-61beaaab5d12",
   "metadata": {},
   "outputs": [],
   "source": [
    "# FUNCTIONS 2 - cloud masking\n",
    "def fmask(image):\n",
    "    # see https://developers.google.com/earth-engine/datasets/catalog/LANDSAT_LC09_C02_T1_L2\n",
    "    # Bit 0 - Fill\n",
    "    # Bit 1 - Dilated Cloud\n",
    "    # Bit 2 - Cirrus\n",
    "    # Bit 3 - Cloud\n",
    "    # Bit 4 - Cloud Shadow\n",
    "    qaMask = image.select('QA_PIXEL').bitwiseAnd(int('11111', 2)).eq(0)\n",
    "\n",
    "    # Apply the scaling factors to the appropriate bands.\n",
    "    opticalBands = image.select('SR_B.').multiply(0.0000275).add(-0.2)\n",
    "\n",
    "    # Replace the original bands with the scaled ones and apply the masks.\n",
    "    return image.addBands(opticalBands, None, True).updateMask(qaMask)\n",
    "\n",
    "# Function to extract the cloud mask from a Landsat 8 image\n",
    "def get_cloud_mask(image):\n",
    "    # Get the QA band (cloud mask band)\n",
    "    cloud_mask = image.select('QA_PIXEL').bitwiseAnd(int('11111', 2)).neq(0)\n",
    "\n",
    "    # Apply the cloud mask to the image (so that clouds are masked out)\n",
    "    return image.updateMask(cloud_mask).set('cloud_mask', cloud_mask)\n",
    "\n",
    "\n",
    "# Function to calculate cloud coverage within the region of interest (rg)\n",
    "def calculate_cloud_coverage(image, roi):\n",
    "    # Get the cloud mask for the image\n",
    "    cloud_mask = image.get('cloud_mask')\n",
    "    \n",
    "    # Calculate the area of each pixel\n",
    "    pixel_area = ee.Image.pixelArea()\n",
    "    \n",
    "    # Mask the pixel area by the cloud mask\n",
    "    cloud_area = pixel_area.updateMask(cloud_mask).clip(roi)\n",
    "    \n",
    "    # Calculate the total area of the region of interest (based on number of pixels in roi)\n",
    "    total_area = pixel_area.clip(roi).reduceRegion(\n",
    "        reducer=ee.Reducer.sum(),\n",
    "        geometry=roi,\n",
    "        scale=30,\n",
    "        maxPixels=1e8\n",
    "    ).get('area')\n",
    "    \n",
    "    # Calculate the cloud area within the region of interest\n",
    "    cloud_area_sum = cloud_area.reduceRegion(\n",
    "        reducer=ee.Reducer.sum(),\n",
    "        geometry=roi,\n",
    "        scale=30,\n",
    "        maxPixels=1e8\n",
    "    ).get('area')\n",
    "    \n",
    "    # Calculate the percentage of cloud coverage\n",
    "    cloud_coverage = ee.Number(cloud_area_sum).divide(total_area).multiply(100)\n",
    "    \n",
    "    # Set the cloud coverage as a property\n",
    "    return image.set('cloud_coverage', cloud_coverage)\n",
    "\n",
    "# Function to convert the image collection into a DataFrame with image names and cloud coverage\n",
    "def collection_to_dataframe(image_collection, roi):\n",
    "    # Function to extract the cloud coverage for each image in the collection\n",
    "    def extract_cloud_coverage(image):\n",
    "        # Calculate cloud coverage for each image\n",
    "        image_with_coverage = calculate_cloud_coverage(image, roi)\n",
    "        \n",
    "        # Return image as a feature with cloud coverage\n",
    "        return ee.Feature(None, {\n",
    "            'image_name': image.id(),\n",
    "            'cloud_coverage': image_with_coverage.get('cloud_coverage')\n",
    "        })\n",
    "    \n",
    "    # Apply the function to each image in the collection\n",
    "    features = image_collection.map(extract_cloud_coverage)\n",
    "    \n",
    "    # Convert the FeatureCollection to a pandas DataFrame\n",
    "    feature_list = features.getInfo()\n",
    "    cloud_coverage_list = [{'image_name': feature['properties']['image_name'],\n",
    "                            'cloud_coverage': feature['properties']['cloud_coverage']}\n",
    "                           for feature in feature_list['features']]\n",
    "    \n",
    "    # Convert the list to a DataFrame\n",
    "    df = pd.DataFrame(cloud_coverage_list)\n",
    "    \n",
    "    return df"
   ]
  },
  {
   "cell_type": "code",
   "execution_count": null,
   "id": "9f2aa33f-a626-4d24-a944-0f853a572498",
   "metadata": {},
   "outputs": [],
   "source": [
    "# Define the region of interest (Everest)\n",
    "everest = ee.Geometry.Rectangle(86.5, 27.5, 87.3, 28.2)\n",
    "\n",
    "# Define the date range\n",
    "# start_date = '2020-01-01'\n",
    "# end_date = '2020-12-31'\n",
    "\n",
    "# Define the Landsat Collection 2 Level-2 collection\n",
    "# landsat = ee.ImageCollection('LANDSAT/LC08/C02/T1_L2')\n",
    "\n",
    "# Filter the collection by date range and region\n",
    "# landsat_filtered = landsat.filterDate(start_date, end_date).filterBounds(everest)"
   ]
  },
  {
   "cell_type": "code",
   "execution_count": null,
   "id": "fe5bf2c1-b7fd-40d4-ad50-0e939b42e6c2",
   "metadata": {},
   "outputs": [],
   "source": [
    "# path = 140\n",
    "# row = 41\n",
    "# landsat_filtered = landsat.filterDate(start_date, end_date) \\\n",
    "#                            .filterBounds(everest) \\\n",
    "#                            .filter(ee.Filter.lt('CLOUD_COVER', 50)) \\\n",
    "#                            .filter(ee.Filter.eq('WRS_PATH', path)) \\\n",
    "#                            .filter(ee.Filter.eq('WRS_ROW', row))"
   ]
  },
  {
   "cell_type": "code",
   "execution_count": null,
   "id": "61c63ec2-e42d-4378-b45e-2aedb93069a6",
   "metadata": {},
   "outputs": [],
   "source": [
    "path = 140\n",
    "row = 41\n",
    "start_date = '2013-08-01'\n",
    "end_date = '2024-10-31'\n",
    "\n",
    "landsat_filtered = ee.ImageCollection(\"LANDSAT/LC08/C02/T1_L2\") \\\n",
    "    .filter(ee.Filter.eq('WRS_PATH', path)) \\\n",
    "    .filter(ee.Filter.eq('WRS_ROW', row)) \\\n",
    "    .filterDate(start_date, end_date) \\\n",
    "    .filter(ee.Filter.lt('CLOUD_COVER', 40)) \\\n",
    "    .filter(ee.Filter.calendarRange(8, 10, 'month'))  \n",
    "    # .filterBounds(everest) \\"
   ]
  },
  {
   "cell_type": "code",
   "execution_count": null,
   "id": "0c662df2-b5c6-4c2a-bbf9-929a89fc45d5",
   "metadata": {},
   "outputs": [],
   "source": [
    "print(f\"Number of images: {landsat_filtered.size().getInfo()}\")"
   ]
  },
  {
   "cell_type": "code",
   "execution_count": 17,
   "id": "78d03c98-883a-438c-86c0-eb2798a863d2",
   "metadata": {},
   "outputs": [
    {
     "data": {
      "text/html": [
       "\n",
       "            <style>\n",
       "                .geemap-dark {\n",
       "                    --jp-widgets-color: white;\n",
       "                    --jp-widgets-label-color: white;\n",
       "                    --jp-ui-font-color1: white;\n",
       "                    --jp-layout-color2: #454545;\n",
       "                    background-color: #383838;\n",
       "                }\n",
       "\n",
       "                .geemap-dark .jupyter-button {\n",
       "                    --jp-layout-color3: #383838;\n",
       "                }\n",
       "\n",
       "                .geemap-colab {\n",
       "                    background-color: var(--colab-primary-surface-color, white);\n",
       "                }\n",
       "\n",
       "                .geemap-colab .jupyter-button {\n",
       "                    --jp-layout-color3: var(--colab-primary-surface-color, white);\n",
       "                }\n",
       "            </style>\n",
       "            "
      ],
      "text/plain": [
       "<IPython.core.display.HTML object>"
      ]
     },
     "metadata": {},
     "output_type": "display_data"
    },
    {
     "data": {
      "application/vnd.jupyter.widget-view+json": {
       "model_id": "4fe2aae079454857b7dbf9b31a0f9a4f",
       "version_major": 2,
       "version_minor": 0
      },
      "text/plain": [
       "Map(center=[27.9881, 86.925], controls=(WidgetControl(options=['position', 'transparent_bg'], widget=SearchDat…"
      ]
     },
     "execution_count": 17,
     "metadata": {},
     "output_type": "execute_result"
    }
   ],
   "source": [
    "# Define a polygon geometry\n",
    "polygon = ee.Geometry.Polygon([[\n",
    "    [86.6, 27.8], [86.6, 28.2], [87.4, 28.2], [87.4, 27.8], [86.6, 27.8]\n",
    "]])\n",
    "# vis params for bounding xo to see image better\n",
    "vis_params = {\n",
    "    'color': 'red', \n",
    "    'pointSize': 3,\n",
    "    'pointShape': 'circle',\n",
    "    'width': 2,\n",
    "    'lineType': 'solid',\n",
    "    'fillColor': '00000000',\n",
    "}\n",
    "\n",
    "# Create a map to display the Landsat images\n",
    "Map = geemap.Map()\n",
    "Map.setCenter(86.9250,  27.9881, 10);\n",
    "\n",
    "# Add the Landsat images to the map (just first image)\n",
    "first_image = landsat_filtered.first()\n",
    "# print(\"Band names:\", first_image.bandNames().getInfo())\n",
    "\n",
    "Map.addLayer(first_image, vis_params, 'Landsat 8 over Everest')\n",
    "# Add the polygon to the map with transparent fill\n",
    "Map.addLayer(polygon, {'color': '00000000', 'fillColor': '00000030'}, 'Polygon')\n",
    "\n",
    "Map"
   ]
  },
  {
   "cell_type": "markdown",
   "id": "dde1ad86-954a-4551-8ac2-16b4aac8591a",
   "metadata": {},
   "source": [
    "### Cloud mask"
   ]
  },
  {
   "cell_type": "code",
   "execution_count": null,
   "id": "fcd98c78-b686-48cd-90c5-956b3e9f2bfb",
   "metadata": {},
   "outputs": [],
   "source": []
  },
  {
   "cell_type": "code",
   "execution_count": 25,
   "id": "60157103-666c-47a6-bf52-de33b6723535",
   "metadata": {},
   "outputs": [
    {
     "data": {
      "text/html": [
       "\n",
       "            <style>\n",
       "                .geemap-dark {\n",
       "                    --jp-widgets-color: white;\n",
       "                    --jp-widgets-label-color: white;\n",
       "                    --jp-ui-font-color1: white;\n",
       "                    --jp-layout-color2: #454545;\n",
       "                    background-color: #383838;\n",
       "                }\n",
       "\n",
       "                .geemap-dark .jupyter-button {\n",
       "                    --jp-layout-color3: #383838;\n",
       "                }\n",
       "\n",
       "                .geemap-colab {\n",
       "                    background-color: var(--colab-primary-surface-color, white);\n",
       "                }\n",
       "\n",
       "                .geemap-colab .jupyter-button {\n",
       "                    --jp-layout-color3: var(--colab-primary-surface-color, white);\n",
       "                }\n",
       "            </style>\n",
       "            "
      ],
      "text/plain": [
       "<IPython.core.display.HTML object>"
      ]
     },
     "metadata": {},
     "output_type": "display_data"
    }
   ],
   "source": [
    "ls8_fmask = landsat_filtered.map(fmask)\n",
    "\n",
    "ls8_cloud = landsat_filtered.map(get_cloud_mask)"
   ]
  },
  {
   "cell_type": "code",
   "execution_count": 26,
   "id": "7aa126a8-30bb-4d87-9689-974fabe97463",
   "metadata": {},
   "outputs": [
    {
     "data": {
      "text/html": [
       "\n",
       "            <style>\n",
       "                .geemap-dark {\n",
       "                    --jp-widgets-color: white;\n",
       "                    --jp-widgets-label-color: white;\n",
       "                    --jp-ui-font-color1: white;\n",
       "                    --jp-layout-color2: #454545;\n",
       "                    background-color: #383838;\n",
       "                }\n",
       "\n",
       "                .geemap-dark .jupyter-button {\n",
       "                    --jp-layout-color3: #383838;\n",
       "                }\n",
       "\n",
       "                .geemap-colab {\n",
       "                    background-color: var(--colab-primary-surface-color, white);\n",
       "                }\n",
       "\n",
       "                .geemap-colab .jupyter-button {\n",
       "                    --jp-layout-color3: var(--colab-primary-surface-color, white);\n",
       "                }\n",
       "            </style>\n",
       "            "
      ],
      "text/plain": [
       "<IPython.core.display.HTML object>"
      ]
     },
     "metadata": {},
     "output_type": "display_data"
    },
    {
     "data": {
      "application/vnd.jupyter.widget-view+json": {
       "model_id": "7c7f212cbcba46e8a78649422129794d",
       "version_major": 2,
       "version_minor": 0
      },
      "text/plain": [
       "Map(center=[27.85020014208199, 86.89999999999944], controls=(WidgetControl(options=['position', 'transparent_b…"
      ]
     },
     "execution_count": 26,
     "metadata": {},
     "output_type": "execute_result"
    }
   ],
   "source": [
    "# observe and compare cloud mask\n",
    "Map = geemap.Map()\n",
    "Map.centerObject(everest, 12)\n",
    "\n",
    "# images\n",
    "image = landsat_filtered.first()\n",
    "cloud_mask = image.select('QA_PIXEL').bitwiseAnd(int('11111', 2)).neq(0)\n",
    "cloud_mask = cloud_mask.updateMask(cloud_mask)\n",
    "\n",
    "# map layers\n",
    "Map.addLayer(image.multiply(0.0000275).add(-0.2), {'min': 0, 'max': 0.45, 'bands': ['SR_B4', 'SR_B3', 'SR_B2']}, 'RGB')\n",
    "Map.addLayer(cloud_mask, {'min': 0, 'max': 1,'palette': ['000000', 'blue']}, 'Cloud Mask')\n",
    "\n",
    "Map"
   ]
  },
  {
   "cell_type": "code",
   "execution_count": 32,
   "id": "b1c344d1-590e-499b-8e30-e8294965af04",
   "metadata": {},
   "outputs": [
    {
     "data": {
      "text/html": [
       "\n",
       "            <style>\n",
       "                .geemap-dark {\n",
       "                    --jp-widgets-color: white;\n",
       "                    --jp-widgets-label-color: white;\n",
       "                    --jp-ui-font-color1: white;\n",
       "                    --jp-layout-color2: #454545;\n",
       "                    background-color: #383838;\n",
       "                }\n",
       "\n",
       "                .geemap-dark .jupyter-button {\n",
       "                    --jp-layout-color3: #383838;\n",
       "                }\n",
       "\n",
       "                .geemap-colab {\n",
       "                    background-color: var(--colab-primary-surface-color, white);\n",
       "                }\n",
       "\n",
       "                .geemap-colab .jupyter-button {\n",
       "                    --jp-layout-color3: var(--colab-primary-surface-color, white);\n",
       "                }\n",
       "            </style>\n",
       "            "
      ],
      "text/plain": [
       "<IPython.core.display.HTML object>"
      ]
     },
     "metadata": {},
     "output_type": "display_data"
    },
    {
     "data": {
      "text/plain": [
       "'20171021'"
      ]
     },
     "execution_count": 32,
     "metadata": {},
     "output_type": "execute_result"
    }
   ],
   "source": [
    "ls8_fmask\n",
    "image_id[-8:]"
   ]
  },
  {
   "cell_type": "code",
   "execution_count": 33,
   "id": "6a0d9338-9194-4c04-8e81-2ea2160ad275",
   "metadata": {},
   "outputs": [
    {
     "data": {
      "text/html": [
       "\n",
       "            <style>\n",
       "                .geemap-dark {\n",
       "                    --jp-widgets-color: white;\n",
       "                    --jp-widgets-label-color: white;\n",
       "                    --jp-ui-font-color1: white;\n",
       "                    --jp-layout-color2: #454545;\n",
       "                    background-color: #383838;\n",
       "                }\n",
       "\n",
       "                .geemap-dark .jupyter-button {\n",
       "                    --jp-layout-color3: #383838;\n",
       "                }\n",
       "\n",
       "                .geemap-colab {\n",
       "                    background-color: var(--colab-primary-surface-color, white);\n",
       "                }\n",
       "\n",
       "                .geemap-colab .jupyter-button {\n",
       "                    --jp-layout-color3: var(--colab-primary-surface-color, white);\n",
       "                }\n",
       "            </style>\n",
       "            "
      ],
      "text/plain": [
       "<IPython.core.display.HTML object>"
      ]
     },
     "metadata": {},
     "output_type": "display_data"
    },
    {
     "name": "stdout",
     "output_type": "stream",
     "text": [
      "Scene aquisition 10-26-2013\n"
     ]
    },
    {
     "data": {
      "application/vnd.jupyter.widget-view+json": {
       "model_id": "492059f8322141598d0cc6806f2a049b",
       "version_major": 2,
       "version_minor": 0
      },
      "text/plain": [
       "Map(center=[27.85020014208199, 86.89999999999944], controls=(WidgetControl(options=['position', 'transparent_b…"
      ]
     },
     "execution_count": 33,
     "metadata": {},
     "output_type": "execute_result"
    }
   ],
   "source": [
    "# show other scenes\n",
    "Map = geemap.Map()\n",
    "\n",
    "# first 10 scenes only\n",
    "scene_number = 2\n",
    "\n",
    "# get date\n",
    "image_id = ee.Image(landsat_filtered.toList(10).get(scene_number)).get('system:index').getInfo()\n",
    "date_part = image_id[-8:]\n",
    "date_obj = datetime.strptime(date_part, '%Y%m%d')\n",
    "formatted_date = date_obj.strftime('%m-%d-%Y')\n",
    "print(\"Scene aquisition \" + formatted_date)\n",
    "\n",
    "# select images\n",
    "image = ee.Image(landsat_filtered.toList(10).get(scene_number))\n",
    "image_cloudless = ee.Image(ls8_fmask.toList(10).get(scene_number))\n",
    "cloud_mask = image.select('QA_PIXEL').bitwiseAnd(int('11111', 2)).neq(0)\n",
    "\n",
    "rg_poly_params = {'color': '000000', 'pointSize': 3,'width': 2,'lineType': 'solid','fillColor': '00000000'}\n",
    "Map.centerObject(everest, 12)\n",
    "# add original image, clouds (blue), rglacier outline (black)\n",
    "Map.addLayer(image.multiply(0.0000275).add(-0.2), {'min': 0, 'max': 0.45, 'bands': ['SR_B4', 'SR_B3', 'SR_B2']}, \\\n",
    "             'RGB '  + formatted_date)\n",
    "Map.addLayer(image_cloudless, {'min': 0, 'max': 0.45, 'bands': ['SR_B4', 'SR_B3', 'SR_B2']}, \\\n",
    "             'RGB cloud mask')\n",
    "Map.addLayer(cloud_mask.updateMask(cloud_mask), \\\n",
    "             {'min': 0, 'max': 1, 'palette': ['000000', 'blue']}, 'Clouds')\n",
    "# Map.addLayer(rg.style(**rg_poly_params), {}, \"Rock glacier outline\")\n",
    "\n",
    "Map"
   ]
  },
  {
   "cell_type": "code",
   "execution_count": null,
   "id": "8e4000d7-1be2-42e9-b228-19d664691545",
   "metadata": {},
   "outputs": [],
   "source": []
  },
  {
   "cell_type": "code",
   "execution_count": null,
   "id": "63f7e41c-5eb0-4a84-bd9e-c5aec53985eb",
   "metadata": {},
   "outputs": [],
   "source": [
    "# Function to scale and compute NDSI\n",
    "def process_image(image):\n",
    "    # Apply scale factors for SR data\n",
    "    scale = 0.0000275\n",
    "    offset = -0.2\n",
    "\n",
    "    green = image.select('SR_B3').multiply(scale).add(offset)\n",
    "    swir1 = image.select('SR_B6').multiply(scale).add(offset)\n",
    "\n",
    "    ndsi = green.subtract(swir1).divide(green.add(swir1)).rename('NDSI')\n",
    "\n",
    "    return image.addBands(ndsi)"
   ]
  },
  {
   "cell_type": "code",
   "execution_count": null,
   "id": "836c93b8-c02a-406f-91c4-f8d83cc495f4",
   "metadata": {},
   "outputs": [],
   "source": []
  },
  {
   "cell_type": "code",
   "execution_count": 5,
   "id": "c37d4ae5-c486-4b79-a958-86d106a6a3ac",
   "metadata": {},
   "outputs": [
    {
     "data": {
      "text/html": [
       "\n",
       "            <style>\n",
       "                .geemap-dark {\n",
       "                    --jp-widgets-color: white;\n",
       "                    --jp-widgets-label-color: white;\n",
       "                    --jp-ui-font-color1: white;\n",
       "                    --jp-layout-color2: #454545;\n",
       "                    background-color: #383838;\n",
       "                }\n",
       "\n",
       "                .geemap-dark .jupyter-button {\n",
       "                    --jp-layout-color3: #383838;\n",
       "                }\n",
       "\n",
       "                .geemap-colab {\n",
       "                    background-color: var(--colab-primary-surface-color, white);\n",
       "                }\n",
       "\n",
       "                .geemap-colab .jupyter-button {\n",
       "                    --jp-layout-color3: var(--colab-primary-surface-color, white);\n",
       "                }\n",
       "            </style>\n",
       "            "
      ],
      "text/plain": [
       "<IPython.core.display.HTML object>"
      ]
     },
     "metadata": {},
     "output_type": "display_data"
    }
   ],
   "source": [
    "\n",
    "# Define constants\n",
    "path = 140\n",
    "row = 41\n",
    "start_year = 2013  # Landsat 8 launched in 2013\n",
    "end_year = datetime.datetime.now().year\n",
    "start_date = '-08-01'\n",
    "end_date = '-10-01'\n",
    "\n",
    "# Function to scale and compute NDSI\n",
    "def process_image(image):\n",
    "    # Apply scale factors for SR data\n",
    "    scale = 0.0000275\n",
    "    offset = -0.2\n",
    "\n",
    "    green = image.select('SR_B3').multiply(scale).add(offset)\n",
    "    swir1 = image.select('SR_B6').multiply(scale).add(offset)\n",
    "\n",
    "    ndsi = green.subtract(swir1).divide(green.add(swir1)).rename('NDSI')\n",
    "\n",
    "    return image.addBands(ndsi)\n",
    "\n",
    "# Function to get the least cloudy image for a given year\n",
    "def get_least_cloudy_image(year):\n",
    "    date_start = ee.Date(str(year) + start_date)\n",
    "    date_end = ee.Date(str(year) + end_date)\n",
    "\n",
    "    # Filter collection\n",
    "    collection = (ee.ImageCollection('LANDSAT/LC08/C02/T1_L2')\n",
    "                  .filter(ee.Filter.eq('WRS_PATH', path))\n",
    "                  .filter(ee.Filter.eq('WRS_ROW', row))\n",
    "                  .filterDate(date_start, date_end)\n",
    "                  .filter(ee.Filter.lt('CLOUD_COVER', 80))\n",
    "                  .map(process_image))\n",
    "\n",
    "    # Sort by cloud cover and select the least cloudy\n",
    "    image = ee.Image(collection.sort('CLOUD_COVER').first())\n",
    "\n",
    "    # Mask NDSI < 0.4\n",
    "    ndsi_mask = image.select('NDSI').gte(0.4)\n",
    "\n",
    "    return ndsi_mask\n",
    "\n",
    "# Loop over years and get binary mask images\n",
    "years = list(range(start_year, end_year + 1))\n",
    "\n",
    "ndsi_masks = [get_least_cloudy_image(year).rename('NDSI_{}'.format(year)) for year in years]\n",
    "\n",
    "# Stack and sum to count pixels with NDSI >= 0.4\n",
    "stacked = ee.ImageCollection(ndsi_masks).toBands()\n",
    "ndsi_count = stacked.reduce(ee.Reducer.sum()).rename('NDSI_count')\n",
    "\n",
    "\n"
   ]
  },
  {
   "cell_type": "code",
   "execution_count": 6,
   "id": "5a4ebd5a-808d-4068-ae15-15a0174d0044",
   "metadata": {},
   "outputs": [
    {
     "data": {
      "text/html": [
       "\n",
       "            <style>\n",
       "                .geemap-dark {\n",
       "                    --jp-widgets-color: white;\n",
       "                    --jp-widgets-label-color: white;\n",
       "                    --jp-ui-font-color1: white;\n",
       "                    --jp-layout-color2: #454545;\n",
       "                    background-color: #383838;\n",
       "                }\n",
       "\n",
       "                .geemap-dark .jupyter-button {\n",
       "                    --jp-layout-color3: #383838;\n",
       "                }\n",
       "\n",
       "                .geemap-colab {\n",
       "                    background-color: var(--colab-primary-surface-color, white);\n",
       "                }\n",
       "\n",
       "                .geemap-colab .jupyter-button {\n",
       "                    --jp-layout-color3: var(--colab-primary-surface-color, white);\n",
       "                }\n",
       "            </style>\n",
       "            "
      ],
      "text/plain": [
       "<IPython.core.display.HTML object>"
      ]
     },
     "metadata": {},
     "output_type": "display_data"
    },
    {
     "ename": "EEException",
     "evalue": "Image.select: Parameter 'input' is required and may not be null.",
     "output_type": "error",
     "traceback": [
      "\u001b[0;31m---------------------------------------------------------------------------\u001b[0m",
      "\u001b[0;31mHttpError\u001b[0m                                 Traceback (most recent call last)",
      "File \u001b[0;32m~/miniconda3/envs/ears33/lib/python3.12/site-packages/ee/data.py:402\u001b[0m, in \u001b[0;36m_execute_cloud_call\u001b[0;34m(call, num_retries)\u001b[0m\n\u001b[1;32m    401\u001b[0m \u001b[38;5;28;01mtry\u001b[39;00m:\n\u001b[0;32m--> 402\u001b[0m   \u001b[38;5;28;01mreturn\u001b[39;00m \u001b[43mcall\u001b[49m\u001b[38;5;241;43m.\u001b[39;49m\u001b[43mexecute\u001b[49m\u001b[43m(\u001b[49m\u001b[43mnum_retries\u001b[49m\u001b[38;5;241;43m=\u001b[39;49m\u001b[43mnum_retries\u001b[49m\u001b[43m)\u001b[49m\n\u001b[1;32m    403\u001b[0m \u001b[38;5;28;01mexcept\u001b[39;00m googleapiclient\u001b[38;5;241m.\u001b[39merrors\u001b[38;5;241m.\u001b[39mHttpError \u001b[38;5;28;01mas\u001b[39;00m e:\n",
      "File \u001b[0;32m~/miniconda3/envs/ears33/lib/python3.12/site-packages/googleapiclient/_helpers.py:130\u001b[0m, in \u001b[0;36mpositional.<locals>.positional_decorator.<locals>.positional_wrapper\u001b[0;34m(*args, **kwargs)\u001b[0m\n\u001b[1;32m    129\u001b[0m         logger\u001b[38;5;241m.\u001b[39mwarning(message)\n\u001b[0;32m--> 130\u001b[0m \u001b[38;5;28;01mreturn\u001b[39;00m \u001b[43mwrapped\u001b[49m\u001b[43m(\u001b[49m\u001b[38;5;241;43m*\u001b[39;49m\u001b[43margs\u001b[49m\u001b[43m,\u001b[49m\u001b[43m \u001b[49m\u001b[38;5;241;43m*\u001b[39;49m\u001b[38;5;241;43m*\u001b[39;49m\u001b[43mkwargs\u001b[49m\u001b[43m)\u001b[49m\n",
      "File \u001b[0;32m~/miniconda3/envs/ears33/lib/python3.12/site-packages/googleapiclient/http.py:938\u001b[0m, in \u001b[0;36mHttpRequest.execute\u001b[0;34m(self, http, num_retries)\u001b[0m\n\u001b[1;32m    937\u001b[0m \u001b[38;5;28;01mif\u001b[39;00m resp\u001b[38;5;241m.\u001b[39mstatus \u001b[38;5;241m>\u001b[39m\u001b[38;5;241m=\u001b[39m \u001b[38;5;241m300\u001b[39m:\n\u001b[0;32m--> 938\u001b[0m     \u001b[38;5;28;01mraise\u001b[39;00m HttpError(resp, content, uri\u001b[38;5;241m=\u001b[39m\u001b[38;5;28mself\u001b[39m\u001b[38;5;241m.\u001b[39muri)\n\u001b[1;32m    939\u001b[0m \u001b[38;5;28;01mreturn\u001b[39;00m \u001b[38;5;28mself\u001b[39m\u001b[38;5;241m.\u001b[39mpostproc(resp, content)\n",
      "\u001b[0;31mHttpError\u001b[0m: <HttpError 400 when requesting https://earthengine.googleapis.com/v1/projects/earthengine-legacy/value:compute?prettyPrint=false&alt=json returned \"Image.select: Parameter 'input' is required and may not be null.\". Details: \"Image.select: Parameter 'input' is required and may not be null.\">",
      "\nDuring handling of the above exception, another exception occurred:\n",
      "\u001b[0;31mEEException\u001b[0m                               Traceback (most recent call last)",
      "Cell \u001b[0;32mIn[6], line 3\u001b[0m\n\u001b[1;32m      1\u001b[0m \u001b[38;5;66;03m# Visualize or export\u001b[39;00m\n\u001b[1;32m      2\u001b[0m Map \u001b[38;5;241m=\u001b[39m geemap\u001b[38;5;241m.\u001b[39mMap()\n\u001b[0;32m----> 3\u001b[0m \u001b[43mMap\u001b[49m\u001b[38;5;241;43m.\u001b[39;49m\u001b[43mcenterObject\u001b[49m\u001b[43m(\u001b[49m\u001b[43mndsi_count\u001b[49m\u001b[43m,\u001b[49m\u001b[43m \u001b[49m\u001b[38;5;241;43m8\u001b[39;49m\u001b[43m)\u001b[49m\n\u001b[1;32m      4\u001b[0m Map\u001b[38;5;241m.\u001b[39maddLayer(ndsi_count, {\u001b[38;5;124m'\u001b[39m\u001b[38;5;124mmin\u001b[39m\u001b[38;5;124m'\u001b[39m: \u001b[38;5;241m0\u001b[39m, \u001b[38;5;124m'\u001b[39m\u001b[38;5;124mmax\u001b[39m\u001b[38;5;124m'\u001b[39m: \u001b[38;5;28mlen\u001b[39m(years), \u001b[38;5;124m'\u001b[39m\u001b[38;5;124mpalette\u001b[39m\u001b[38;5;124m'\u001b[39m: [\u001b[38;5;124m'\u001b[39m\u001b[38;5;124mwhite\u001b[39m\u001b[38;5;124m'\u001b[39m, \u001b[38;5;124m'\u001b[39m\u001b[38;5;124mblue\u001b[39m\u001b[38;5;124m'\u001b[39m, \u001b[38;5;124m'\u001b[39m\u001b[38;5;124mgreen\u001b[39m\u001b[38;5;124m'\u001b[39m]}, \u001b[38;5;124m'\u001b[39m\u001b[38;5;124mNDSI Count\u001b[39m\u001b[38;5;124m'\u001b[39m)\n\u001b[1;32m      5\u001b[0m Map\n",
      "File \u001b[0;32m~/miniconda3/envs/ears33/lib/python3.12/site-packages/geemap/geemap.py:387\u001b[0m, in \u001b[0;36mMap.center_object\u001b[0;34m(self, ee_object, zoom)\u001b[0m\n\u001b[1;32m    380\u001b[0m \u001b[38;5;28;01mdef\u001b[39;00m \u001b[38;5;21mcenter_object\u001b[39m(\u001b[38;5;28mself\u001b[39m, ee_object, zoom\u001b[38;5;241m=\u001b[39m\u001b[38;5;28;01mNone\u001b[39;00m):\n\u001b[1;32m    381\u001b[0m \u001b[38;5;250m    \u001b[39m\u001b[38;5;124;03m\"\"\"Centers the map view on a given object.\u001b[39;00m\n\u001b[1;32m    382\u001b[0m \n\u001b[1;32m    383\u001b[0m \u001b[38;5;124;03m    Args:\u001b[39;00m\n\u001b[1;32m    384\u001b[0m \u001b[38;5;124;03m        ee_object (Element|Geometry): An Earth Engine object to center on a geometry, image or feature.\u001b[39;00m\n\u001b[1;32m    385\u001b[0m \u001b[38;5;124;03m        zoom (int, optional): The zoom level, from 1 to 24. Defaults to None.\u001b[39;00m\n\u001b[1;32m    386\u001b[0m \u001b[38;5;124;03m    \"\"\"\u001b[39;00m\n\u001b[0;32m--> 387\u001b[0m     \u001b[38;5;28;43msuper\u001b[39;49m\u001b[43m(\u001b[49m\u001b[43m)\u001b[49m\u001b[38;5;241;43m.\u001b[39;49m\u001b[43mcenter_object\u001b[49m\u001b[43m(\u001b[49m\u001b[43mee_object\u001b[49m\u001b[43m,\u001b[49m\u001b[43m \u001b[49m\u001b[43mzoom\u001b[49m\u001b[43m)\u001b[49m\n\u001b[1;32m    388\u001b[0m     \u001b[38;5;28;01mif\u001b[39;00m is_arcpy():\n\u001b[1;32m    389\u001b[0m         bds \u001b[38;5;241m=\u001b[39m \u001b[38;5;28mself\u001b[39m\u001b[38;5;241m.\u001b[39mbounds\n",
      "File \u001b[0;32m~/miniconda3/envs/ears33/lib/python3.12/site-packages/geemap/core.py:536\u001b[0m, in \u001b[0;36mMap.center_object\u001b[0;34m(self, ee_object, zoom)\u001b[0m\n\u001b[1;32m    534\u001b[0m \u001b[38;5;28;01mif\u001b[39;00m \u001b[38;5;129;01mnot\u001b[39;00m \u001b[38;5;28misinstance\u001b[39m(zoom, \u001b[38;5;28mint\u001b[39m):\n\u001b[1;32m    535\u001b[0m     \u001b[38;5;28;01mraise\u001b[39;00m \u001b[38;5;167;01mValueError\u001b[39;00m(\u001b[38;5;124m\"\u001b[39m\u001b[38;5;124mZoom must be an integer.\u001b[39m\u001b[38;5;124m\"\u001b[39m)\n\u001b[0;32m--> 536\u001b[0m centroid \u001b[38;5;241m=\u001b[39m \u001b[43mgeometry\u001b[49m\u001b[38;5;241;43m.\u001b[39;49m\u001b[43mcentroid\u001b[49m\u001b[43m(\u001b[49m\u001b[43mmaxError\u001b[49m\u001b[38;5;241;43m=\u001b[39;49m\u001b[43mmax_error\u001b[49m\u001b[43m)\u001b[49m\u001b[38;5;241;43m.\u001b[39;49m\u001b[43mgetInfo\u001b[49m\u001b[43m(\u001b[49m\u001b[43m)\u001b[49m[\u001b[38;5;124m\"\u001b[39m\u001b[38;5;124mcoordinates\u001b[39m\u001b[38;5;124m\"\u001b[39m]\n\u001b[1;32m    537\u001b[0m \u001b[38;5;28mself\u001b[39m\u001b[38;5;241m.\u001b[39mset_center(centroid[\u001b[38;5;241m0\u001b[39m], centroid[\u001b[38;5;241m1\u001b[39m], zoom)\n",
      "File \u001b[0;32m~/miniconda3/envs/ears33/lib/python3.12/site-packages/ee/computedobject.py:107\u001b[0m, in \u001b[0;36mComputedObject.getInfo\u001b[0;34m(self)\u001b[0m\n\u001b[1;32m    101\u001b[0m \u001b[38;5;28;01mdef\u001b[39;00m \u001b[38;5;21mgetInfo\u001b[39m(\u001b[38;5;28mself\u001b[39m) \u001b[38;5;241m-\u001b[39m\u001b[38;5;241m>\u001b[39m Optional[Any]:\n\u001b[1;32m    102\u001b[0m \u001b[38;5;250m  \u001b[39m\u001b[38;5;124;03m\"\"\"Fetch and return information about this object.\u001b[39;00m\n\u001b[1;32m    103\u001b[0m \n\u001b[1;32m    104\u001b[0m \u001b[38;5;124;03m  Returns:\u001b[39;00m\n\u001b[1;32m    105\u001b[0m \u001b[38;5;124;03m    The object can evaluate to anything.\u001b[39;00m\n\u001b[1;32m    106\u001b[0m \u001b[38;5;124;03m  \"\"\"\u001b[39;00m\n\u001b[0;32m--> 107\u001b[0m   \u001b[38;5;28;01mreturn\u001b[39;00m \u001b[43mdata\u001b[49m\u001b[38;5;241;43m.\u001b[39;49m\u001b[43mcomputeValue\u001b[49m\u001b[43m(\u001b[49m\u001b[38;5;28;43mself\u001b[39;49m\u001b[43m)\u001b[49m\n",
      "File \u001b[0;32m~/miniconda3/envs/ears33/lib/python3.12/site-packages/ee/data.py:1107\u001b[0m, in \u001b[0;36mcomputeValue\u001b[0;34m(obj)\u001b[0m\n\u001b[1;32m   1104\u001b[0m body \u001b[38;5;241m=\u001b[39m {\u001b[38;5;124m'\u001b[39m\u001b[38;5;124mexpression\u001b[39m\u001b[38;5;124m'\u001b[39m: serializer\u001b[38;5;241m.\u001b[39mencode(obj, for_cloud_api\u001b[38;5;241m=\u001b[39m\u001b[38;5;28;01mTrue\u001b[39;00m)}\n\u001b[1;32m   1105\u001b[0m _maybe_populate_workload_tag(body)\n\u001b[0;32m-> 1107\u001b[0m \u001b[38;5;28;01mreturn\u001b[39;00m \u001b[43m_execute_cloud_call\u001b[49m\u001b[43m(\u001b[49m\n\u001b[1;32m   1108\u001b[0m \u001b[43m    \u001b[49m\u001b[43m_get_cloud_projects\u001b[49m\u001b[43m(\u001b[49m\u001b[43m)\u001b[49m\n\u001b[1;32m   1109\u001b[0m \u001b[43m    \u001b[49m\u001b[38;5;241;43m.\u001b[39;49m\u001b[43mvalue\u001b[49m\u001b[43m(\u001b[49m\u001b[43m)\u001b[49m\n\u001b[1;32m   1110\u001b[0m \u001b[43m    \u001b[49m\u001b[38;5;241;43m.\u001b[39;49m\u001b[43mcompute\u001b[49m\u001b[43m(\u001b[49m\u001b[43mbody\u001b[49m\u001b[38;5;241;43m=\u001b[39;49m\u001b[43mbody\u001b[49m\u001b[43m,\u001b[49m\u001b[43m \u001b[49m\u001b[43mproject\u001b[49m\u001b[38;5;241;43m=\u001b[39;49m\u001b[43m_get_projects_path\u001b[49m\u001b[43m(\u001b[49m\u001b[43m)\u001b[49m\u001b[43m,\u001b[49m\u001b[43m \u001b[49m\u001b[43mprettyPrint\u001b[49m\u001b[38;5;241;43m=\u001b[39;49m\u001b[38;5;28;43;01mFalse\u001b[39;49;00m\u001b[43m)\u001b[49m\n\u001b[1;32m   1111\u001b[0m \u001b[43m\u001b[49m\u001b[43m)\u001b[49m[\u001b[38;5;124m'\u001b[39m\u001b[38;5;124mresult\u001b[39m\u001b[38;5;124m'\u001b[39m]\n",
      "File \u001b[0;32m~/miniconda3/envs/ears33/lib/python3.12/site-packages/ee/data.py:404\u001b[0m, in \u001b[0;36m_execute_cloud_call\u001b[0;34m(call, num_retries)\u001b[0m\n\u001b[1;32m    402\u001b[0m   \u001b[38;5;28;01mreturn\u001b[39;00m call\u001b[38;5;241m.\u001b[39mexecute(num_retries\u001b[38;5;241m=\u001b[39mnum_retries)\n\u001b[1;32m    403\u001b[0m \u001b[38;5;28;01mexcept\u001b[39;00m googleapiclient\u001b[38;5;241m.\u001b[39merrors\u001b[38;5;241m.\u001b[39mHttpError \u001b[38;5;28;01mas\u001b[39;00m e:\n\u001b[0;32m--> 404\u001b[0m   \u001b[38;5;28;01mraise\u001b[39;00m _translate_cloud_exception(e)\n",
      "\u001b[0;31mEEException\u001b[0m: Image.select: Parameter 'input' is required and may not be null."
     ]
    }
   ],
   "source": [
    "# Visualize or export\n",
    "Map = geemap.Map()\n",
    "Map.centerObject(ndsi_count, 8)\n",
    "Map.addLayer(ndsi_count, {'min': 0, 'max': len(years), 'palette': ['white', 'blue', 'green']}, 'NDSI Count')\n",
    "Map"
   ]
  },
  {
   "cell_type": "code",
   "execution_count": null,
   "id": "20e8f4fd-9637-4fec-aa37-924d3260e1b7",
   "metadata": {},
   "outputs": [],
   "source": []
  }
 ],
 "metadata": {
  "kernelspec": {
   "display_name": "Python 3 (ipykernel)",
   "language": "python",
   "name": "python3"
  },
  "language_info": {
   "codemirror_mode": {
    "name": "ipython",
    "version": 3
   },
   "file_extension": ".py",
   "mimetype": "text/x-python",
   "name": "python",
   "nbconvert_exporter": "python",
   "pygments_lexer": "ipython3",
   "version": "3.12.3"
  }
 },
 "nbformat": 4,
 "nbformat_minor": 5
}
