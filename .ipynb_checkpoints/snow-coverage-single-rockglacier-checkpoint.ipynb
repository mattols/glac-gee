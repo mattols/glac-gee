{
 "cells": [
  {
   "cell_type": "markdown",
   "id": "750fd212-9803-4300-ad01-183f44bd17f5",
   "metadata": {},
   "source": [
    "## Wokflow for Utah rock glacier coverage\n",
    "Matt Olson - 02/2025"
   ]
  },
  {
   "cell_type": "code",
   "execution_count": null,
   "id": "443f1b0f-f6f2-4490-8917-f9c155a4b1c5",
   "metadata": {},
   "outputs": [],
   "source": [
    "# import libraries and functions\n",
    "import pandas as pd\n",
    "import geopandas as gpd\n",
    "from geopandas import GeoDataFrame\n",
    "import numpy as np\n",
    "from shapely.geometry import Point\n",
    "from matplotlib import pyplot as plt\n",
    "\n",
    "import ee\n",
    "import geemap \n",
    "\n",
    "# import json\n",
    "import datetime\n",
    "import os"
   ]
  },
  {
   "cell_type": "code",
   "execution_count": null,
   "id": "14d81863-3714-4545-ab53-3dcbeda4f747",
   "metadata": {},
   "outputs": [],
   "source": [
    "# autheniticate\n",
    "ee.Authenticate()\n",
    "ee.Initialize()"
   ]
  },
  {
   "cell_type": "code",
   "execution_count": null,
   "id": "1cccd804-12db-48ef-8744-cdafa8b47e72",
   "metadata": {},
   "outputs": [],
   "source": [
    "# save build functions here for now\n",
    "def s2_ndsi(image):\n",
    "  index= image.normalizedDifference(['B3','B11']).rename('ndsi');\n",
    "  return image.addBands(index)\n",
    "\n",
    "def clip_to_polygon(image):\n",
    "  return(image).clip(rg)\n",
    "\n",
    "def scale_s2(img):\n",
    "    return img.divide(10000)\n",
    "\n",
    "def threshold1_image(image):\n",
    "    # return image.gte(-1).And(image.lte(0.2)).selfMask()\n",
    "    return image.gte(0.2).selfMask()\n",
    "\n",
    "# Function to count pixels in an image\n",
    "def count_pixels(image):\n",
    "    total_pixels = image.select(0).reduceRegion(\n",
    "        reducer=ee.Reducer.count(),\n",
    "        geometry=rg,\n",
    "        scale=20,  # Adjust scale as needed\n",
    "        maxPixels=1e13\n",
    "    ).get(image.bandNames().get(0))\n",
    "    return ee.Feature(None, {'image_id': image.id(), 'pixel_count': total_pixels})\n"
   ]
  },
  {
   "cell_type": "code",
   "execution_count": null,
   "id": "3e824c8c-e884-4084-a509-f0aab1eeafc7",
   "metadata": {},
   "outputs": [],
   "source": [
    "# new combined functions\n"
   ]
  },
  {
   "cell_type": "code",
   "execution_count": null,
   "id": "d2c280ab-6f09-4ca7-a64b-6be8c5c88bc9",
   "metadata": {},
   "outputs": [],
   "source": [
    "# read in boundary\n",
    "rg = geemap.shp_to_ee('shp/timp-rg/timp.shp')"
   ]
  },
  {
   "cell_type": "markdown",
   "id": "eee000b9-a84c-48b0-8ee8-580a68ef0c47",
   "metadata": {},
   "source": [
    "## Sentinel-2"
   ]
  },
  {
   "cell_type": "code",
   "execution_count": null,
   "id": "ba79a1af-f3e2-43bd-843e-eec33074c13e",
   "metadata": {},
   "outputs": [],
   "source": [
    "# filter collection (initial)\n",
    "start_date = '2015-08-01' # Define the date range\n",
    "end_date = '2024-10-15'\n",
    "\n",
    "# Define the \n",
    "s2 = ee.ImageCollection('COPERNICUS/S2_SR_HARMONIZED')\n",
    "\n",
    "# Filter the collection by date range and region\n",
    "s2_filtered = s2.filterDate(start_date, end_date).filterBounds(rg) \\\n",
    "                        .filter(ee.Filter.lt('CLOUDY_PIXEL_PERCENTAGE', 10)) \\\n",
    "                        .filter(ee.Filter.calendarRange(8, 10, 'month'))\n",
    "\n"
   ]
  },
  {
   "cell_type": "code",
   "execution_count": 1,
   "id": "9b53c7f9-60d3-4cf2-9d4a-93d657ae6d1e",
   "metadata": {},
   "outputs": [],
   "source": [
    "# filter for coverage\n",
    "\n",
    "\n",
    "import ee\n",
    "\n",
    "# Initialize Earth Engine\n",
    "ee.Initialize()\n",
    "\n",
    "# Define the tolerance (in meters)\n",
    "tol = 1000  # tolerance, in meters\n",
    "\n",
    "# Define the ROI (Region of Interest) here\n",
    "# For example, let's assume ROI is a point or polygon, replace with your actual ROI\n",
    "ROI = ee.Geometry.Polygon([[[[-122.6, 37.0], [-122.5, 37.0], [-122.5, 37.1], [-122.6, 37.1]]]])\n",
    "\n",
    "# Assume collection is an ImageCollection (replace with your actual collection)\n",
    "collection = ee.ImageCollection('COPERNICUS/S2')  # Example, replace with your collection\n",
    "\n",
    "# Function to compute coverage\n",
    "def compute_coverage(img):\n",
    "    # Get the intersection between the image geometry and the ROI with the given tolerance\n",
    "    overlap = img.geometry().intersection(ROI, tol)\n",
    "    \n",
    "    # Calculate the area of the intersection and the total image area\n",
    "    overlap_area = overlap.area().divide(img.geometry().area())\n",
    "    \n",
    "    # Set the 'coverage' property for the image\n",
    "    img_with_coverage = img.set('coverage', overlap_area)\n",
    "    \n",
    "    return img_with_coverage\n",
    "\n",
    "# Apply the function over the collection and filter based on coverage > 0.8\n",
    "filtered_collection = collection.map(compute_coverage).filter(ee.Filter.gt('coverage', 0.8))\n",
    "\n",
    "# Print the result (just for visualization)\n",
    "print(filtered_collection.getInfo())\n"
   ]
  },
  {
   "cell_type": "markdown",
   "id": "c9a28289-5ed0-4a8d-9f6d-f343ac628234",
   "metadata": {},
   "source": [
    "### NDSI"
   ]
  },
  {
   "cell_type": "code",
   "execution_count": 2,
   "id": "59a5d50f-a4f1-44a6-ac99-6251a67a9898",
   "metadata": {},
   "outputs": [],
   "source": [
    "# map - scale values, clip to roi, and calculate ndsi \n",
    "\n",
    "# scale and clip imagery\n",
    "s2_scale_clip = s2_filtered.map(scale_s2).map(clip_to_polygon)\n",
    "\n",
    "# apply threshold\n",
    "s2_thresh = s2_ndsi.map(threshold1_image)"
   ]
  },
  {
   "cell_type": "code",
   "execution_count": 3,
   "id": "1ae30313-a6d9-4aa4-9e42-1e47a25b7b74",
   "metadata": {},
   "outputs": [],
   "source": [
    "# pixel count\n",
    "# Map the function over the image collection\n",
    "features = s2_thresh.map(count_pixels)\n",
    "\n",
    "# Convert to a FeatureCollection and then to a pandas DataFrame\n",
    "feature_collection = ee.FeatureCollection(features)\n",
    "df = geemap.ee_to_df(feature_collection)\n",
    "\n",
    "# Display the table\n",
    "print(df)\n"
   ]
  },
  {
   "cell_type": "code",
   "execution_count": 6,
   "id": "bde9f55d-2879-4fb8-b097-6fb459c5aa5d",
   "metadata": {},
   "outputs": [],
   "source": [
    "# generate dataframe\n",
    "from datetime import datetime\n",
    "\n",
    "# Function to extract date from image name and convert to datetime\n",
    "def extract_date(image_name):\n",
    "    # Extract the first part of the image name (before the first 'T')\n",
    "    date_str = image_name.split('T')[0]\n",
    "    \n",
    "    # Convert the string into a datetime object\n",
    "    date_obj = datetime.strptime(date_str, '%Y%m%d')\n",
    "    \n",
    "    return date_obj\n",
    "\n",
    "df2 = df\n",
    "\n",
    "# Apply the function to the 'image_name' column\n",
    "df2['date'] = df2['image_id'].apply(extract_date)\n",
    "\n",
    "# Calculate the area in square meters\n",
    "df2['area_m2'] = df2['pixel_count'] * 400  # 400 m^2 per pixel (20m x 20m)\n",
    "df2['area_km2'] = df['pixel_count'] * 400 / 1_000_000 # sq km\n",
    "\n",
    "# Add a column for the day of the year\n",
    "df['day_of_year'] = df['date'].dt.dayofyear\n",
    "\n"
   ]
  },
  {
   "cell_type": "markdown",
   "id": "83262219-ce02-4845-8d03-0ed8483b36cd",
   "metadata": {},
   "source": [
    "#### Plots"
   ]
  },
  {
   "cell_type": "code",
   "execution_count": null,
   "id": "abea5420-f8c3-425d-8003-e25e89a50866",
   "metadata": {},
   "outputs": [],
   "source": [
    "# plot 1\n",
    "# all years \n",
    "\n",
    "# Plotting the area (in km²) over time with color by year\n",
    "plt.figure(figsize=(10, 6))\n",
    "\n",
    "# Get unique years and plot each year with a different color\n",
    "unique_years = df['date'].dt.year.unique()\n",
    "for year in unique_years:\n",
    "    year_data = df[df['date'].dt.year == year]\n",
    "    plt.plot(year_data['day_of_year'], year_data['area_km2'], label=f'Year {year}', marker='o')\n",
    "\n",
    "plt.title('Area (in km²) over Time by Year')\n",
    "plt.xlabel('Day of Year')\n",
    "plt.ylabel('Area (km²)')\n",
    "plt.grid(True)\n",
    "plt.xticks(rotation=45)\n",
    "plt.legend(title=\"Year\", loc=\"upper left\")\n",
    "plt.tight_layout()\n",
    "\n",
    "# Show the plot\n",
    "plt.show()\n",
    "\n"
   ]
  },
  {
   "cell_type": "code",
   "execution_count": null,
   "id": "4745c412-422e-40b8-85b2-76aed6bccc91",
   "metadata": {},
   "outputs": [],
   "source": [
    "# plot 2 \n",
    "# show minimum value from each year"
   ]
  },
  {
   "cell_type": "code",
   "execution_count": null,
   "id": "f7d78a21-e730-4a68-8e69-ce0db5d1c36d",
   "metadata": {},
   "outputs": [],
   "source": [
    "# plot 3 \n",
    "# show value closest to Oct 15?"
   ]
  },
  {
   "cell_type": "code",
   "execution_count": 5,
   "id": "16fdaf88-9e68-424e-bd82-008dd4742406",
   "metadata": {},
   "outputs": [],
   "source": [
    "# Map 1\n",
    "\n",
    "Map = geemap.Map()\n",
    "ndsi_params = {'min': -1, 'max': 1, 'bands':'ndsi','palette': ['000FFF', '00FFFF']}\n",
    "vis_params = {'min': 0, 'max': 0.35, 'bands': ['B4', 'B3', 'B2']}\n",
    "Map.centerObject(rg, 14)\n",
    "Map.addLayer(s2_scale_clip.first(), vis_params, 'RGB')\n",
    "Map.addLayer(s2_ndsi.first().updateMask(s2_ndsi.first().gte(0.2)), ndsi_params, 'NDSI > 0.4')\n",
    "Map\n"
   ]
  },
  {
   "cell_type": "code",
   "execution_count": 7,
   "id": "98bf6341-100b-4fb4-9a43-4f9f8b8dd4bd",
   "metadata": {},
   "outputs": [],
   "source": [
    "# Map 2\n",
    "Map.addLayer(timp_rg, {}, \"Timpanogos rock glacier\", False)\n",
    "Map.centerObject(rg, 15)\n",
    "vis_params = {\n",
    "    'color': '000000', \n",
    "    'pointSize': 3,\n",
    "    'pointShape': 'circle',\n",
    "    'width': 2,\n",
    "    'lineType': 'solid',\n",
    "    'fillColor': '00000000',\n",
    "}\n",
    "\n",
    "Map.addLayer(timp_rg.style(**vis_params), {}, \"Styled vector\")\n",
    "Map\n",
    "\n",
    "\n",
    "Map = geemap.Map()\n",
    "ndsi_params = {'min': -1, 'max': 1, 'bands':'ndsi','palette': ['000FFF', '00FFFF']}\n",
    "Map.centerObject(rg, 14)\n",
    "Map.addLayer(s2_thresh.first(), ndsi_params, 'NDSI > 0.2')\n",
    "Map\n"
   ]
  },
  {
   "cell_type": "code",
   "execution_count": null,
   "id": "4309fbed-c5e2-4a67-9d65-00292cce88b8",
   "metadata": {},
   "outputs": [],
   "source": [
    "# Map 3\n",
    "# different day plot\n",
    "Map = geemap.Map()\n",
    "\n",
    "scene_number = 6\n",
    "\n",
    "image_id = ee.Image(s2_scale_clip.toList(10).get(scene_number)).get('system:index').getInfo()\n",
    "date_part = image_id.split('T')[0]\n",
    "date_obj = datetime.datetime.strptime(date_part, '%Y%m%d')\n",
    "formatted_date = date_obj.strftime('%m-%d-%Y')\n",
    "\n",
    "vis_params = {'min': 0, 'max': 0.35, 'bands': ['B4', 'B3', 'B2']}\n",
    "Map.centerObject(rg, 15)\n",
    "Map.addLayer(ee.Image(s2_scale_clip.toList(10).get(scene_number)), vis_params, formatted_date)\n",
    "\n",
    "Map"
   ]
  },
  {
   "cell_type": "code",
   "execution_count": null,
   "id": "5fe6ecbb-0a13-4069-b558-6ba9b12b3527",
   "metadata": {},
   "outputs": [],
   "source": [
    "# Map 3\n",
    "# reducer - showing the coverage minimum of each year"
   ]
  },
  {
   "cell_type": "code",
   "execution_count": null,
   "id": "608af7cf-091e-4b38-b666-d23ffc12ecc9",
   "metadata": {},
   "outputs": [],
   "source": [
    "# "
   ]
  },
  {
   "cell_type": "code",
   "execution_count": null,
   "id": "ab46e9d3-6fea-491d-bcd3-aed18573e772",
   "metadata": {},
   "outputs": [],
   "source": [
    "# show total summer snow cover days (summed)"
   ]
  },
  {
   "cell_type": "code",
   "execution_count": null,
   "id": "f9d6f51b-8e2f-49cf-bf2e-015ade234e15",
   "metadata": {},
   "outputs": [],
   "source": []
  },
  {
   "cell_type": "code",
   "execution_count": null,
   "id": "680dcd50-fb06-40b5-b9e2-8cc153485cd8",
   "metadata": {},
   "outputs": [],
   "source": []
  },
  {
   "cell_type": "markdown",
   "id": "793b46aa-90a0-4b44-9940-3e8cb46a7666",
   "metadata": {},
   "source": [
    "### Landsat 8"
   ]
  },
  {
   "cell_type": "code",
   "execution_count": null,
   "id": "dc40a6ec-b335-45a4-925b-1c78bc4397a9",
   "metadata": {},
   "outputs": [],
   "source": []
  }
 ],
 "metadata": {
  "kernelspec": {
   "display_name": "Python 3 (ipykernel)",
   "language": "python",
   "name": "python3"
  },
  "language_info": {
   "codemirror_mode": {
    "name": "ipython",
    "version": 3
   },
   "file_extension": ".py",
   "mimetype": "text/x-python",
   "name": "python",
   "nbconvert_exporter": "python",
   "pygments_lexer": "ipython3",
   "version": "3.12.3"
  }
 },
 "nbformat": 4,
 "nbformat_minor": 5
}
