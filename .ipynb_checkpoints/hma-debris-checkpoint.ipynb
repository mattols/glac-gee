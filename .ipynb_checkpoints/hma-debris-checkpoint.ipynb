{
 "cells": [
  {
   "cell_type": "markdown",
   "id": "532174ce-3c39-408f-a5ac-7d05e8270399",
   "metadata": {},
   "source": [
    "# HMA debris cover\n",
    "Debris cover evolution with Landsat imagery workflow"
   ]
  },
  {
   "cell_type": "code",
   "execution_count": 1,
   "id": "4e8c05a8-4eda-4d4b-a9c4-dddf1228f25f",
   "metadata": {},
   "outputs": [],
   "source": [
    "# libraries"
   ]
  },
  {
   "cell_type": "code",
   "execution_count": null,
   "id": "881ee62c-7269-47d4-b1eb-daae98a7cd09",
   "metadata": {},
   "outputs": [],
   "source": []
  },
  {
   "cell_type": "code",
   "execution_count": null,
   "id": "e0e359ea-64c1-496c-986c-f8e6ae96f24a",
   "metadata": {},
   "outputs": [],
   "source": [
    "roi = ..."
   ]
  },
  {
   "cell_type": "markdown",
   "id": "56b95e7e-4f3d-4978-bc14-b6014fc61665",
   "metadata": {},
   "source": [
    "## Landsat imagery\n",
    "Landsat imagery from...\n",
    "\n",
    "See more [here](https://developers.google.com/earth-engine/datasets/catalog/LANDSAT_LC08_C02_T1_L2)"
   ]
  },
  {
   "cell_type": "code",
   "execution_count": null,
   "id": "66d4f520-c6e5-438f-b410-7dca41fc6112",
   "metadata": {},
   "outputs": [],
   "source": [
    "start_date = '2020-08-01'; end_date = '2024-10-31' \n",
    "# Landsat8\n",
    "ls8 = ee.ImageCollection(\"LANDSAT/LC08/C02/T1_L2\") \\\n",
    "    .filterDate(start_date, end_date) \\\n",
    "    .filterBounds(roi) \\\n",
    "    .filter(ee.Filter.lt('system:cloud_coverage', 10)) \\\n",
    "    .filter(ee.Filter.calendarRange(8, 10, 'month'))  "
   ]
  },
  {
   "cell_type": "code",
   "execution_count": null,
   "id": "14e654a3-fc0a-4f94-b272-7e3f313be39c",
   "metadata": {},
   "outputs": [],
   "source": [
    "# dataset = ee.ImageCollection('LANDSAT/LC08/C02/T1_L2').filterDate(\n",
    "#     '2021-05-01', '2021-06-01'\n",
    "# )\n",
    "\n",
    "# Applies scaling factors.\n",
    "def apply_scale_factors(image):\n",
    "  optical_bands = image.select('SR_B.').multiply(0.0000275).add(-0.2)\n",
    "  thermal_bands = image.select('ST_B.*').multiply(0.00341802).add(149.0)\n",
    "  return image.addBands(optical_bands, None, True).addBands(\n",
    "      thermal_bands, None, True\n",
    "  )\n",
    "\n",
    "ls8 = ls8.map(apply_scale_factors)\n",
    "\n",
    "visualization = {\n",
    "    'bands': ['SR_B4', 'SR_B3', 'SR_B2'],\n",
    "    'min': 0.0,\n",
    "    'max': 0.3,\n",
    "}\n",
    "\n",
    "m = geemap.Map()\n",
    "m.set_center(-114.2579, 38.9275, 8)\n",
    "m.add_layer(dataset, visualization, 'True Color (432)')\n",
    "m"
   ]
  },
  {
   "cell_type": "code",
   "execution_count": null,
   "id": "052b872e-dbef-4490-a7b9-c1493475f923",
   "metadata": {},
   "outputs": [],
   "source": []
  },
  {
   "cell_type": "code",
   "execution_count": null,
   "id": "c6e1f8fc-aebd-4199-9a78-f12ba555da2a",
   "metadata": {},
   "outputs": [],
   "source": []
  },
  {
   "cell_type": "code",
   "execution_count": 1,
   "id": "0387e74b-00a6-4e14-9689-373788cf41c2",
   "metadata": {},
   "outputs": [
    {
     "ename": "NameError",
     "evalue": "name 'stop' is not defined",
     "output_type": "error",
     "traceback": [
      "\u001b[0;31m---------------------------------------------------------------------------\u001b[0m",
      "\u001b[0;31mNameError\u001b[0m                                 Traceback (most recent call last)",
      "Cell \u001b[0;32mIn[1], line 1\u001b[0m\n\u001b[0;32m----> 1\u001b[0m \u001b[43mstop\u001b[49m\n",
      "\u001b[0;31mNameError\u001b[0m: name 'stop' is not defined"
     ]
    }
   ],
   "source": [
    "stop"
   ]
  },
  {
   "cell_type": "code",
   "execution_count": null,
   "id": "c446a3b9-fd5a-466e-8c6b-c5301a3824a5",
   "metadata": {},
   "outputs": [],
   "source": [
    "# Download the images in the collection\n",
    "# For simplicity, we will export one image as an example.\n",
    "# You can loop through the collection and export all if necessary.\n",
    "\n",
    "image_to_export = first_image  # Replace with a specific image or loop through the collection\n",
    "\n",
    "# Define export parameters\n",
    "export_task = ee.batch.Export.image.toDrive(\n",
    "    image=image_to_export,\n",
    "    description='landsat8_export',\n",
    "    folder='landsat_images',  # Folder in Google Drive\n",
    "    region=rg,\n",
    "    scale=30,  # The scale in meters\n",
    "    crs='EPSG:4326',  # WGS 84\n",
    "    fileFormat='GeoTIFF'\n",
    ")\n",
    "\n",
    "# Start the export task\n",
    "export_task.start()\n",
    "\n",
    "print(\"Export started. Check your Google Drive for the downloaded image.\")"
   ]
  }
 ],
 "metadata": {
  "kernelspec": {
   "display_name": "Python 3 (ipykernel)",
   "language": "python",
   "name": "python3"
  },
  "language_info": {
   "codemirror_mode": {
    "name": "ipython",
    "version": 3
   },
   "file_extension": ".py",
   "mimetype": "text/x-python",
   "name": "python",
   "nbconvert_exporter": "python",
   "pygments_lexer": "ipython3",
   "version": "3.12.3"
  }
 },
 "nbformat": 4,
 "nbformat_minor": 5
}
