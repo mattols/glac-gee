{
 "cells": [
  {
   "cell_type": "code",
   "execution_count": 2,
   "id": "732f4d0d-6883-46a7-bce6-e5a2830fffd4",
   "metadata": {},
   "outputs": [],
   "source": [
    "import pandas as pd\n",
    "import geopandas as gpd\n",
    "from geopandas import GeoDataFrame\n",
    "import numpy as np\n",
    "from shapely.geometry import Point\n",
    "from matplotlib import pyplot as plt\n",
    "\n",
    "import ee\n",
    "\n",
    "import geemap #bless these people\n",
    "\n",
    "import json\n",
    "\n",
    "import os"
   ]
  },
  {
   "cell_type": "code",
   "execution_count": 3,
   "id": "5561af92-5763-419a-9178-dfb553feb5d2",
   "metadata": {},
   "outputs": [
    {
     "data": {
      "text/html": [
       "\n",
       "            <style>\n",
       "                .geemap-dark {\n",
       "                    --jp-widgets-color: white;\n",
       "                    --jp-widgets-label-color: white;\n",
       "                    --jp-ui-font-color1: white;\n",
       "                    --jp-layout-color2: #454545;\n",
       "                    background-color: #383838;\n",
       "                }\n",
       "\n",
       "                .geemap-dark .jupyter-button {\n",
       "                    --jp-layout-color3: #383838;\n",
       "                }\n",
       "\n",
       "                .geemap-colab {\n",
       "                    background-color: var(--colab-primary-surface-color, white);\n",
       "                }\n",
       "\n",
       "                .geemap-colab .jupyter-button {\n",
       "                    --jp-layout-color3: var(--colab-primary-surface-color, white);\n",
       "                }\n",
       "            </style>\n",
       "            "
      ],
      "text/plain": [
       "<IPython.core.display.HTML object>"
      ]
     },
     "metadata": {},
     "output_type": "display_data"
    }
   ],
   "source": [
    "ee.Authenticate()\n",
    "ee.Initialize()"
   ]
  },
  {
   "cell_type": "markdown",
   "id": "be30a768-a592-4c70-bccb-73bbcd31044f",
   "metadata": {},
   "source": [
    "Mt Baldy"
   ]
  },
  {
   "cell_type": "code",
   "execution_count": 1,
   "id": "3ef157c1-3cbf-42e0-915c-0e84ea99469e",
   "metadata": {},
   "outputs": [
    {
     "data": {
      "text/plain": [
       "(40.567905, -111.638076)"
      ]
     },
     "execution_count": 1,
     "metadata": {},
     "output_type": "execute_result"
    }
   ],
   "source": [
    "40.567905, -111.638076"
   ]
  },
  {
   "cell_type": "code",
   "execution_count": 30,
   "id": "ef21723c-8a9e-44d8-b89f-6dda0d1a1f64",
   "metadata": {},
   "outputs": [
    {
     "data": {
      "text/html": [
       "\n",
       "            <style>\n",
       "                .geemap-dark {\n",
       "                    --jp-widgets-color: white;\n",
       "                    --jp-widgets-label-color: white;\n",
       "                    --jp-ui-font-color1: white;\n",
       "                    --jp-layout-color2: #454545;\n",
       "                    background-color: #383838;\n",
       "                }\n",
       "\n",
       "                .geemap-dark .jupyter-button {\n",
       "                    --jp-layout-color3: #383838;\n",
       "                }\n",
       "\n",
       "                .geemap-colab {\n",
       "                    background-color: var(--colab-primary-surface-color, white);\n",
       "                }\n",
       "\n",
       "                .geemap-colab .jupyter-button {\n",
       "                    --jp-layout-color3: var(--colab-primary-surface-color, white);\n",
       "                }\n",
       "            </style>\n",
       "            "
      ],
      "text/plain": [
       "<IPython.core.display.HTML object>"
      ]
     },
     "metadata": {},
     "output_type": "display_data"
    }
   ],
   "source": [
    "# Define the region of interest (Everest)\n",
    "baldy = ee.Geometry.Rectangle(-111.75, 40.2, -111.6, 40.6)\n",
    "\n",
    "# Define the date range\n",
    "start_date = '2024-02-15'\n",
    "end_date = '2024-05-01'\n",
    "\n",
    "# Define the \n",
    "s2 = ee.ImageCollection('COPERNICUS/S2_SR_HARMONIZED')\n",
    "\n",
    "# Filter the collection by date range and region\n",
    "s2_filtered = s2.filterDate(start_date, end_date).filterBounds(baldy) \\\n",
    "                        .filter(ee.Filter.lt('CLOUDY_PIXEL_PERCENTAGE', 10)) "
   ]
  },
  {
   "cell_type": "code",
   "execution_count": 31,
   "id": "76c1cb35-95cf-45e3-a539-4dde06678b6a",
   "metadata": {},
   "outputs": [
    {
     "data": {
      "text/html": [
       "\n",
       "            <style>\n",
       "                .geemap-dark {\n",
       "                    --jp-widgets-color: white;\n",
       "                    --jp-widgets-label-color: white;\n",
       "                    --jp-ui-font-color1: white;\n",
       "                    --jp-layout-color2: #454545;\n",
       "                    background-color: #383838;\n",
       "                }\n",
       "\n",
       "                .geemap-dark .jupyter-button {\n",
       "                    --jp-layout-color3: #383838;\n",
       "                }\n",
       "\n",
       "                .geemap-colab {\n",
       "                    background-color: var(--colab-primary-surface-color, white);\n",
       "                }\n",
       "\n",
       "                .geemap-colab .jupyter-button {\n",
       "                    --jp-layout-color3: var(--colab-primary-surface-color, white);\n",
       "                }\n",
       "            </style>\n",
       "            "
      ],
      "text/plain": [
       "<IPython.core.display.HTML object>"
      ]
     },
     "metadata": {},
     "output_type": "display_data"
    },
    {
     "name": "stdout",
     "output_type": "stream",
     "text": [
      "Number of images: 12\n"
     ]
    }
   ],
   "source": [
    "print(f\"Number of images: {s2_filtered.size().getInfo()}\")"
   ]
  },
  {
   "cell_type": "code",
   "execution_count": 33,
   "id": "d77abe16-509e-4c51-a32a-3c01d5b5f7b1",
   "metadata": {},
   "outputs": [
    {
     "data": {
      "text/html": [
       "\n",
       "            <style>\n",
       "                .geemap-dark {\n",
       "                    --jp-widgets-color: white;\n",
       "                    --jp-widgets-label-color: white;\n",
       "                    --jp-ui-font-color1: white;\n",
       "                    --jp-layout-color2: #454545;\n",
       "                    background-color: #383838;\n",
       "                }\n",
       "\n",
       "                .geemap-dark .jupyter-button {\n",
       "                    --jp-layout-color3: #383838;\n",
       "                }\n",
       "\n",
       "                .geemap-colab {\n",
       "                    background-color: var(--colab-primary-surface-color, white);\n",
       "                }\n",
       "\n",
       "                .geemap-colab .jupyter-button {\n",
       "                    --jp-layout-color3: var(--colab-primary-surface-color, white);\n",
       "                }\n",
       "            </style>\n",
       "            "
      ],
      "text/plain": [
       "<IPython.core.display.HTML object>"
      ]
     },
     "metadata": {},
     "output_type": "display_data"
    },
    {
     "data": {
      "application/vnd.jupyter.widget-view+json": {
       "model_id": "417af215ccd34408a63e9f766643721a",
       "version_major": 2,
       "version_minor": 0
      },
      "text/plain": [
       "Map(center=[40.567905, -111.638076], controls=(WidgetControl(options=['position', 'transparent_bg'], widget=Se…"
      ]
     },
     "execution_count": 33,
     "metadata": {},
     "output_type": "execute_result"
    }
   ],
   "source": [
    "# Just one\n",
    "# Define the visualization parameters\n",
    "vis_params = {\n",
    "    'min': 0,\n",
    "    'max': 7000, # 65535\n",
    "    'bands': ['B4', 'B3', 'B2']\n",
    "}\n",
    "\n",
    "# Create a map to display the Landsat images\n",
    "Map = geemap.Map()\n",
    "Map.setCenter(-111.638076, 40.567905, 13);\n",
    "\n",
    "# Add the Landsat images to the map (just first image)\n",
    "first_image = s2_filtered.first()\n",
    "# print(\"Band names:\", first_image.bandNames().getInfo())\n",
    "\n",
    "Map.addLayer(first_image, vis_params, 'Setinel 2')\n",
    "# Map.addLayer(wasatch, {}, 'Polygon')\n",
    "Map"
   ]
  },
  {
   "cell_type": "markdown",
   "id": "c63167ab-3c9b-43bf-838b-891b25a76ba8",
   "metadata": {},
   "source": [
    "IMAGE IS SPLIT BETWEEN"
   ]
  },
  {
   "cell_type": "code",
   "execution_count": 37,
   "id": "a7ee7b56-68f7-4521-9b47-af5900dc8242",
   "metadata": {},
   "outputs": [
    {
     "data": {
      "text/html": [
       "\n",
       "            <style>\n",
       "                .geemap-dark {\n",
       "                    --jp-widgets-color: white;\n",
       "                    --jp-widgets-label-color: white;\n",
       "                    --jp-ui-font-color1: white;\n",
       "                    --jp-layout-color2: #454545;\n",
       "                    background-color: #383838;\n",
       "                }\n",
       "\n",
       "                .geemap-dark .jupyter-button {\n",
       "                    --jp-layout-color3: #383838;\n",
       "                }\n",
       "\n",
       "                .geemap-colab {\n",
       "                    background-color: var(--colab-primary-surface-color, white);\n",
       "                }\n",
       "\n",
       "                .geemap-colab .jupyter-button {\n",
       "                    --jp-layout-color3: var(--colab-primary-surface-color, white);\n",
       "                }\n",
       "            </style>\n",
       "            "
      ],
      "text/plain": [
       "<IPython.core.display.HTML object>"
      ]
     },
     "metadata": {},
     "output_type": "display_data"
    },
    {
     "name": "stdout",
     "output_type": "stream",
     "text": [
      "['T12TVL', 'A036718']\n",
      "['T12TVK', 'A036761']\n",
      "['T12TVL', 'A036761']\n",
      "['T12TVK', 'A045698']\n",
      "['T12TVL', 'A045698']\n",
      "['T12TVK', 'A037047']\n",
      "['T12TVK', 'A045984']\n",
      "['T12TVL', 'A045984']\n",
      "['T12TVK', 'A046027']\n",
      "['T12TVL', 'A046027']\n",
      "['T12TVK', 'A046127']\n",
      "['T12TVL', 'A046127']\n"
     ]
    }
   ],
   "source": [
    "listOfImages = s2_filtered.toList(s2_filtered.size())\n",
    "for i in range(s2_filtered.size().getInfo()):\n",
    "    img = listOfImages.get(i)\n",
    "    gran = ee.Image(img).get('GRANULE_ID').getInfo().split(\"_\")[1:3]\n",
    "    print(gran)"
   ]
  },
  {
   "cell_type": "markdown",
   "id": "01fa5e3c-0946-4fc8-b5f2-6bed67dd7f4a",
   "metadata": {},
   "source": [
    "Can filter for granules that only contain:\n",
    "\n",
    "['T12TVK', 'A045698'] (#4)\n",
    "\n",
    "or \n",
    "\n",
    "['T12TVK', 'A036761'] (#2)"
   ]
  },
  {
   "cell_type": "code",
   "execution_count": 38,
   "id": "052a1964-7128-4504-82df-ddf402917c73",
   "metadata": {},
   "outputs": [
    {
     "data": {
      "text/html": [
       "\n",
       "            <style>\n",
       "                .geemap-dark {\n",
       "                    --jp-widgets-color: white;\n",
       "                    --jp-widgets-label-color: white;\n",
       "                    --jp-ui-font-color1: white;\n",
       "                    --jp-layout-color2: #454545;\n",
       "                    background-color: #383838;\n",
       "                }\n",
       "\n",
       "                .geemap-dark .jupyter-button {\n",
       "                    --jp-layout-color3: #383838;\n",
       "                }\n",
       "\n",
       "                .geemap-colab {\n",
       "                    background-color: var(--colab-primary-surface-color, white);\n",
       "                }\n",
       "\n",
       "                .geemap-colab .jupyter-button {\n",
       "                    --jp-layout-color3: var(--colab-primary-surface-color, white);\n",
       "                }\n",
       "            </style>\n",
       "            "
      ],
      "text/plain": [
       "<IPython.core.display.HTML object>"
      ]
     },
     "metadata": {},
     "output_type": "display_data"
    },
    {
     "data": {
      "application/vnd.jupyter.widget-view+json": {
       "model_id": "90f4e41fd6da470490ef74c8473cac82",
       "version_major": 2,
       "version_minor": 0
      },
      "text/plain": [
       "Map(center=[40.567905, -111.638076], controls=(WidgetControl(options=['position', 'transparent_bg'], widget=Se…"
      ]
     },
     "execution_count": 38,
     "metadata": {},
     "output_type": "execute_result"
    }
   ],
   "source": [
    "# dates\n",
    "# Define a function to format dates and create features\n",
    "def format_date(image):\n",
    "    return ee.Feature(None, {'date': ee.Date(image.date()).format('YYYY-MM-dd HH:mm:ss', \"America/Denver\")})\n",
    "\n",
    "# Map over the collection, apply the function, and create features\n",
    "dates = s2_filtered.map(format_date)\n",
    "\n",
    "# Aggregate distinct dates into an array\n",
    "dates_array = dates.aggregate_array('date')\n",
    "\n",
    "# Execute the operation and get the result\n",
    "dates_list = dates_array.getInfo()\n",
    "\n",
    "\n",
    "# loop through and add all layers\n",
    "# https://stackoverflow.com/questions/76994846/loop-over-image-collection-ee-imagecollection-to-plot-in-geemap-map\n",
    "Map = geemap.Map()\n",
    "Map.setCenter(-111.638076, 40.567905, 12);\n",
    "\n",
    "# Visualization\n",
    "visualization = {'min': 0.0,\n",
    "                 'max': 0.8,\n",
    "                 'bands': ['B4', 'B3', 'B2']}\n",
    "\n",
    "listOfImages = s2_filtered.toList(s2_filtered.size())\n",
    "for i in range(s2_filtered.size().getInfo()):\n",
    "    img = listOfImages.get(i)\n",
    "    Image = ee.Image(img).multiply(0.0001)\n",
    "    Map.addLayer(Image, visualization, dates_list[i]) #'RGB' + str(i)\n",
    "\n",
    "Map"
   ]
  },
  {
   "cell_type": "code",
   "execution_count": 20,
   "id": "896a95a6-0e60-495a-bd74-2aa4066e11aa",
   "metadata": {},
   "outputs": [
    {
     "data": {
      "text/html": [
       "\n",
       "            <style>\n",
       "                .geemap-dark {\n",
       "                    --jp-widgets-color: white;\n",
       "                    --jp-widgets-label-color: white;\n",
       "                    --jp-ui-font-color1: white;\n",
       "                    --jp-layout-color2: #454545;\n",
       "                    background-color: #383838;\n",
       "                }\n",
       "\n",
       "                .geemap-dark .jupyter-button {\n",
       "                    --jp-layout-color3: #383838;\n",
       "                }\n",
       "\n",
       "                .geemap-colab {\n",
       "                    background-color: var(--colab-primary-surface-color, white);\n",
       "                }\n",
       "\n",
       "                .geemap-colab .jupyter-button {\n",
       "                    --jp-layout-color3: var(--colab-primary-surface-color, white);\n",
       "                }\n",
       "            </style>\n",
       "            "
      ],
      "text/plain": [
       "<IPython.core.display.HTML object>"
      ]
     },
     "metadata": {},
     "output_type": "display_data"
    }
   ],
   "source": [
    "# still need to find an area with rugged terrain further north? Polar area?"
   ]
  },
  {
   "cell_type": "markdown",
   "id": "e8765bce-87cb-4bed-a3f3-3f64fab645dc",
   "metadata": {},
   "source": [
    "### PLAN"
   ]
  },
  {
   "cell_type": "markdown",
   "id": "0f57bebe-1158-4415-aa86-c66daea59058",
   "metadata": {},
   "source": [
    "Try sawtooths, wind rivers, tetons, wasatch - scaleability is not an issue"
   ]
  },
  {
   "cell_type": "markdown",
   "id": "0f7a036a-33f3-4221-8356-1850ec692c51",
   "metadata": {},
   "source": [
    "Apply to polar areas with Arctic 3m DEM"
   ]
  },
  {
   "cell_type": "markdown",
   "id": "010ba11a-2e75-4557-b04c-6726f40c7f3f",
   "metadata": {},
   "source": [
    "OR planet imagery on a daily timescale"
   ]
  },
  {
   "cell_type": "markdown",
   "id": "72129e15-719f-489a-aac5-9bac7a035c6d",
   "metadata": {},
   "source": [
    "1) See if Harayzon can be easily implimented - test on Timp w/ Sentinel or Landsat\n",
    "2) Include Planet Imagery\n",
    "3) Expand to nearby ranges\n",
    "4) Arctic areas with large shadows"
   ]
  },
  {
   "cell_type": "code",
   "execution_count": null,
   "id": "743abcf5-0df1-45ce-a9ab-0396439b63ef",
   "metadata": {},
   "outputs": [],
   "source": []
  }
 ],
 "metadata": {
  "kernelspec": {
   "display_name": "Python 3 (ipykernel)",
   "language": "python",
   "name": "python3"
  },
  "language_info": {
   "codemirror_mode": {
    "name": "ipython",
    "version": 3
   },
   "file_extension": ".py",
   "mimetype": "text/x-python",
   "name": "python",
   "nbconvert_exporter": "python",
   "pygments_lexer": "ipython3",
   "version": "3.12.3"
  }
 },
 "nbformat": 4,
 "nbformat_minor": 5
}
