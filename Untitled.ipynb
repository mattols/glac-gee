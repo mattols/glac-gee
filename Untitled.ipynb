{
 "cells": [
  {
   "cell_type": "code",
   "execution_count": null,
   "id": "728d4460-d934-4f99-a8a0-3f4a4f3a97fb",
   "metadata": {},
   "outputs": [],
   "source": []
  },
  {
   "cell_type": "code",
   "execution_count": null,
   "id": "4e36d41f-b279-48c1-85ed-3d7375f9c77f",
   "metadata": {},
   "outputs": [],
   "source": []
  },
  {
   "cell_type": "code",
   "execution_count": null,
   "id": "b2fa4222-35e6-4a2c-8603-7e20b2da2c21",
   "metadata": {},
   "outputs": [],
   "source": [
    "def extract_scene_metrics(image):\n",
    "    # Surface temperature scaling\n",
    "    st_kelvin = image.select('ST_B10').multiply(0.00341802).add(149.0)\n",
    "    sterr_kelvin = image.select('ST_QA').multiply(0.01)\n",
    "    st_celsius = st_kelvin.subtract(273.15).rename('LST_C')\n",
    "    threshold_kelvin = sterr_kelvin.add(273.15)\n",
    "    lst_mask_above_0 = st_kelvin.gt(threshold_kelvin).rename('mask_above_0')\n",
    "\n",
    "    # NDSI\n",
    "    ndsi = image.normalizedDifference(['SR_B3', 'SR_B6']).rename('ndsi')\n",
    "    ndsi_thresh = ndsi.gte(0.4).rename('ndsi_thresh')\n",
    "    ndsi_mask = ndsi_thresh.selfMask()\n",
    "\n",
    "    # Cloud mask (bitwise QA_PIXEL)\n",
    "    cloud_mask = image.select('QA_PIXEL').bitwiseAnd(int('11111', 2)).neq(0).rename('cloud')\n",
    "\n",
    "    # LST < 0 mask\n",
    "    lst_below_0 = st_kelvin.lt(273.15).rename('lst_below_0')\n",
    "\n",
    "    # Cloud & LST < 0 mask\n",
    "    cloud_and_cold = cloud_mask.And(lst_below_0).rename('cloud_and_cold')\n",
    "\n",
    "    # Area & pixel counts\n",
    "    pixel_area = ee.Image.pixelArea().clip(rg)\n",
    "    snow_area = pixel_area.updateMask(ndsi_mask)\n",
    "    cloud_area = pixel_area.updateMask(cloud_mask)\n",
    "    lst_above_0_area = pixel_area.updateMask(lst_mask_above_0)\n",
    "    cloud_and_cold_area = pixel_area.updateMask(cloud_and_cold)\n",
    "\n",
    "    stats = ee.Dictionary({\n",
    "        'image_id': image.id(),\n",
    "        'date': ee.Date(image.get('system:time_start')).format('YYYY-MM-dd'),\n",
    "        'doy': ee.Date(image.get('system:time_start')).getRelative('day', 'year'),\n",
    "        'pixel_count_ndsi04': ndsi_mask.reduceRegion(\n",
    "            ee.Reducer.count(), rg, 30, maxPixels=1e8).values().get(0),\n",
    "        'snow_area_m2': snow_area.reduceRegion(\n",
    "            ee.Reducer.sum(), rg, 30, maxPixels=1e8).values().get(0),\n",
    "        'cloud_perc': cloud_area.reduceRegion(\n",
    "            ee.Reducer.sum(), rg, 30, maxPixels=1e8).values().get(0),\n",
    "        'lst_above_0_perc': lst_above_0_area.reduceRegion(\n",
    "            ee.Reducer.sum(), rg, 30, maxPixels=1e8).values().get(0),\n",
    "        'cloud_and_cold_count': cloud_and_cold_area.reduceRegion(\n",
    "            ee.Reducer.count(), rg, 30, maxPixels=1e8).values().get(0),\n",
    "        'avg_LST_C': st_celsius.reduceRegion(\n",
    "            ee.Reducer.mean(), rg, 30, maxPixels=1e8).values().get(0),\n",
    "    })\n",
    "\n",
    "    return ee.Feature(None, stats)\n",
    "\n",
    "def extract_scene_metrics_ls5(image):\n",
    "    # Surface temperature scaling\n",
    "    st_kelvin = image.select('ST_B6').multiply(0.00341802).add(149.0)\n",
    "    sterr_kelvin = image.select('ST_QA').multiply(0.01)\n",
    "    st_celsius = st_kelvin.subtract(273.15).rename('LST_C')\n",
    "    threshold_kelvin = sterr_kelvin.add(273.15)\n",
    "    lst_mask_above_0 = st_kelvin.gt(threshold_kelvin).rename('mask_above_0')\n",
    "\n",
    "    # NDSI\n",
    "    ndsi = image.normalizedDifference(['SR_B2', 'SR_B5']).rename('ndsi')\n",
    "    ndsi_thresh = ndsi.gte(0.4).rename('ndsi_thresh')\n",
    "    ndsi_mask = ndsi_thresh.selfMask()\n",
    "\n",
    "    # Cloud mask (bitwise QA_PIXEL)\n",
    "    cloud_mask = image.select('QA_PIXEL').bitwiseAnd(int('11111', 2)).neq(0).rename('cloud')\n",
    "\n",
    "    # LST < 0 mask\n",
    "    lst_below_0 = st_kelvin.lt(273.15).rename('lst_below_0')\n",
    "\n",
    "    # Cloud & LST < 0 mask\n",
    "    cloud_and_cold = cloud_mask.And(lst_below_0).rename('cloud_and_cold')\n",
    "\n",
    "    # Area & pixel counts\n",
    "    pixel_area = ee.Image.pixelArea().clip(rg)\n",
    "    snow_area = pixel_area.updateMask(ndsi_mask)\n",
    "    cloud_area = pixel_area.updateMask(cloud_mask)\n",
    "    lst_above_0_area = pixel_area.updateMask(lst_mask_above_0)\n",
    "    cloud_and_cold_area = pixel_area.updateMask(cloud_and_cold)\n",
    "\n",
    "    stats = ee.Dictionary({\n",
    "        'image_id': image.id(),\n",
    "        'date': ee.Date(image.get('system:time_start')).format('YYYY-MM-dd'),\n",
    "        'doy': ee.Date(image.get('system:time_start')).getRelative('day', 'year'),\n",
    "        'pixel_count_ndsi04': ndsi_mask.reduceRegion(\n",
    "            ee.Reducer.count(), rg, 30, maxPixels=1e8).values().get(0),\n",
    "        'snow_area_m2': snow_area.reduceRegion(\n",
    "            ee.Reducer.sum(), rg, 30, maxPixels=1e8).values().get(0),\n",
    "        'cloud_perc': cloud_area.reduceRegion(\n",
    "            ee.Reducer.sum(), rg, 30, maxPixels=1e8).values().get(0),\n",
    "        'lst_above_0_perc': lst_above_0_area.reduceRegion(\n",
    "            ee.Reducer.sum(), rg, 30, maxPixels=1e8).values().get(0),\n",
    "        'cloud_and_cold_count': cloud_and_cold_area.reduceRegion(\n",
    "            ee.Reducer.count(), rg, 30, maxPixels=1e8).values().get(0),\n",
    "        'avg_LST_C': st_celsius.reduceRegion(\n",
    "            ee.Reducer.mean(), rg, 30, maxPixels=1e8).values().get(0),\n",
    "    })\n",
    "\n",
    "    return ee.Feature(None, stats)"
   ]
  },
  {
   "cell_type": "code",
   "execution_count": null,
   "id": "5f90000d-3b74-4a95-baab-46d201909fc9",
   "metadata": {},
   "outputs": [],
   "source": [
    "# Binary indicators for points\n",
    "def point_indicators(image, point):\n",
    "    ndsi = image.normalizedDifference(['SR_B3', 'SR_B6']).rename('ndsi')\n",
    "    st_kelvin = image.select('ST_B10').multiply(0.00341802).add(149.0)\n",
    "    sterr_kelvin = image.select('ST_QA').multiply(0.01)\n",
    "    lst_threshold = sterr_kelvin.add(273.15)\n",
    "    cloud = image.select('QA_PIXEL').bitwiseAnd(int('11111', 2)).neq(0)\n",
    "\n",
    "    ndsi_check = ndsi.gte(0.4)\n",
    "    lst_check = st_kelvin.gte(lst_threshold)\n",
    "\n",
    "    value = ndsi_check.And(cloud).And(lst_check)\n",
    "\n",
    "    val = value.reduceRegion(ee.Reducer.first(), point.geometry(), 30).getInfo()\n",
    "    return int(val['ndsi'] if 'ndsi' in val else 0)\n"
   ]
  },
  {
   "cell_type": "code",
   "execution_count": null,
   "id": "e69ec7bc-e755-4ee4-8c3a-f894d3139dca",
   "metadata": {},
   "outputs": [],
   "source": [
    "# Build dataframe\n",
    "def build_landsat_df(collection, band_names):\n",
    "    processed = collection.map(extract_scene_metrics)\n",
    "    features = processed.getInfo()['features']\n",
    "    df = pd.DataFrame([f['properties'] for f in features])\n",
    "    df['date'] = pd.to_datetime(df['date'])\n",
    "    df['cloud_perc'] = df['cloud_perc'].astype(float) / (df['snow_area_m2'] + 1e-6) * 100\n",
    "    df['lst_above_0_perc'] = df['lst_above_0_perc'].astype(float) / (df['snow_area_m2'] + 1e-6) * 100\n",
    "    df['area_km2'] = df['snow_area_m2'].astype(float) / 1e6\n",
    "    return df\n"
   ]
  },
  {
   "cell_type": "code",
   "execution_count": null,
   "id": "4c4d17c6-1096-47a1-8dbc-5030c4185789",
   "metadata": {},
   "outputs": [],
   "source": [
    "ls8_metrics = ls8.map(extract_scene_metrics)\n",
    "df_ls8 = build_landsat_df(ls8_metrics, ['SR_B3', 'SR_B6'])\n",
    "\n",
    "ls5_metrics = ls5.map(extract_scene_metrics_ls5)\n",
    "df_ls5 = build_landsat_df(ls5_metrics, ['SR_B2', 'SR_B5'])\n"
   ]
  },
  {
   "cell_type": "code",
   "execution_count": null,
   "id": "daba1e5a-6c1c-4de8-96f6-0cadbd57bd6f",
   "metadata": {},
   "outputs": [],
   "source": [
    "# For each image\n",
    "df_ls8['pt1_indicator'] = [point_indicators(ee.Image(img_id), rg_pt1) for img_id in df_ls8['image_id']]\n",
    "df_ls8['pt2_indicator'] = [point_indicators(ee.Image(img_id), rg_pt2) for img_id in df_ls8['image_id']]\n"
   ]
  },
  {
   "cell_type": "code",
   "execution_count": null,
   "id": "acfb4f91-5dfe-4c28-8ea5-115e296f03d5",
   "metadata": {},
   "outputs": [],
   "source": [
    "df_all = pd.concat([df_ls5.assign(sensor='LS5'), df_ls8.assign(sensor='LS8')])\n"
   ]
  },
  {
   "cell_type": "code",
   "execution_count": null,
   "id": "85cb3d33-a3e9-4012-962f-15e2eee74c41",
   "metadata": {},
   "outputs": [],
   "source": []
  },
  {
   "cell_type": "code",
   "execution_count": null,
   "id": "f152077f-6cdf-4ac5-8b77-2b041b69d1f2",
   "metadata": {},
   "outputs": [],
   "source": []
  },
  {
   "cell_type": "code",
   "execution_count": null,
   "id": "4742dd47-1d59-4cb9-beab-7375c6041416",
   "metadata": {},
   "outputs": [],
   "source": []
  },
  {
   "cell_type": "code",
   "execution_count": null,
   "id": "bbf4f2e4-6747-460f-b21e-500387b73f06",
   "metadata": {},
   "outputs": [],
   "source": []
  },
  {
   "cell_type": "code",
   "execution_count": null,
   "id": "53bd5670-cde9-4f4a-8b49-f36761440621",
   "metadata": {},
   "outputs": [],
   "source": []
  },
  {
   "cell_type": "code",
   "execution_count": null,
   "id": "880c7dd3-ce70-47a4-a5dc-feadc25e23b4",
   "metadata": {},
   "outputs": [],
   "source": []
  },
  {
   "cell_type": "code",
   "execution_count": null,
   "id": "901e109e-6f4a-47a3-b548-efe0eae7c8e8",
   "metadata": {},
   "outputs": [],
   "source": []
  },
  {
   "cell_type": "code",
   "execution_count": null,
   "id": "4503cf96-35b3-4ed9-894b-4f748e19b525",
   "metadata": {},
   "outputs": [],
   "source": []
  },
  {
   "cell_type": "code",
   "execution_count": null,
   "id": "11757c8e-b5be-4f9e-8366-88694f2d36a5",
   "metadata": {},
   "outputs": [],
   "source": []
  },
  {
   "cell_type": "code",
   "execution_count": null,
   "id": "596ac7ee-87da-4ba0-b5e7-5975bd2e5960",
   "metadata": {},
   "outputs": [],
   "source": []
  },
  {
   "cell_type": "code",
   "execution_count": null,
   "id": "a2b0581a-886d-4887-afeb-b1577a803ddb",
   "metadata": {},
   "outputs": [],
   "source": []
  },
  {
   "cell_type": "code",
   "execution_count": null,
   "id": "1e209110-8e8e-4a32-a0e6-94f20aef432b",
   "metadata": {},
   "outputs": [],
   "source": []
  },
  {
   "cell_type": "code",
   "execution_count": null,
   "id": "bfac7278-9191-4eae-b049-8e0357756b07",
   "metadata": {},
   "outputs": [],
   "source": []
  },
  {
   "cell_type": "code",
   "execution_count": null,
   "id": "c1564501-1d19-4610-9708-87eb1e17f30d",
   "metadata": {},
   "outputs": [],
   "source": []
  }
 ],
 "metadata": {
  "kernelspec": {
   "display_name": "Python 3 (ipykernel)",
   "language": "python",
   "name": "python3"
  },
  "language_info": {
   "codemirror_mode": {
    "name": "ipython",
    "version": 3
   },
   "file_extension": ".py",
   "mimetype": "text/x-python",
   "name": "python",
   "nbconvert_exporter": "python",
   "pygments_lexer": "ipython3",
   "version": "3.13.5"
  }
 },
 "nbformat": 4,
 "nbformat_minor": 5
}
