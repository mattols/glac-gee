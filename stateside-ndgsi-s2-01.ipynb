{
 "cells": [
  {
   "cell_type": "code",
   "execution_count": 2,
   "id": "ae33c9db-2e7f-4612-b3bd-674c2e65b9b4",
   "metadata": {},
   "outputs": [
    {
     "data": {
      "text/html": [
       "\n",
       "            <style>\n",
       "                .geemap-dark {\n",
       "                    --jp-widgets-color: white;\n",
       "                    --jp-widgets-label-color: white;\n",
       "                    --jp-ui-font-color1: white;\n",
       "                    --jp-layout-color2: #454545;\n",
       "                    background-color: #383838;\n",
       "                }\n",
       "\n",
       "                .geemap-dark .jupyter-button {\n",
       "                    --jp-layout-color3: #383838;\n",
       "                }\n",
       "\n",
       "                .geemap-colab {\n",
       "                    background-color: var(--colab-primary-surface-color, white);\n",
       "                }\n",
       "\n",
       "                .geemap-colab .jupyter-button {\n",
       "                    --jp-layout-color3: var(--colab-primary-surface-color, white);\n",
       "                }\n",
       "            </style>\n",
       "            "
      ],
      "text/plain": [
       "<IPython.core.display.HTML object>"
      ]
     },
     "metadata": {},
     "output_type": "display_data"
    }
   ],
   "source": [
    "# import libraries and functions\n",
    "import pandas as pd\n",
    "import geopandas as gpd\n",
    "from geopandas import GeoDataFrame\n",
    "import numpy as np\n",
    "from shapely.geometry import Point\n",
    "from matplotlib import pyplot as plt\n",
    "\n",
    "import ee\n",
    "import geemap \n",
    "\n",
    "# import json\n",
    "from datetime import datetime\n",
    "import os"
   ]
  },
  {
   "cell_type": "code",
   "execution_count": 3,
   "id": "49b5c51f-6070-403a-b8c7-5362d3322dc1",
   "metadata": {},
   "outputs": [
    {
     "data": {
      "text/html": [
       "\n",
       "            <style>\n",
       "                .geemap-dark {\n",
       "                    --jp-widgets-color: white;\n",
       "                    --jp-widgets-label-color: white;\n",
       "                    --jp-ui-font-color1: white;\n",
       "                    --jp-layout-color2: #454545;\n",
       "                    background-color: #383838;\n",
       "                }\n",
       "\n",
       "                .geemap-dark .jupyter-button {\n",
       "                    --jp-layout-color3: #383838;\n",
       "                }\n",
       "\n",
       "                .geemap-colab {\n",
       "                    background-color: var(--colab-primary-surface-color, white);\n",
       "                }\n",
       "\n",
       "                .geemap-colab .jupyter-button {\n",
       "                    --jp-layout-color3: var(--colab-primary-surface-color, white);\n",
       "                }\n",
       "            </style>\n",
       "            "
      ],
      "text/plain": [
       "<IPython.core.display.HTML object>"
      ]
     },
     "metadata": {},
     "output_type": "display_data"
    },
    {
     "data": {
      "text/html": [
       "<p>To authorize access needed by Earth Engine, open the following\n",
       "        URL in a web browser and follow the instructions:</p>\n",
       "        <p><a href=https://code.earthengine.google.com/client-auth?scopes=https%3A//www.googleapis.com/auth/earthengine%20https%3A//www.googleapis.com/auth/cloud-platform%20https%3A//www.googleapis.com/auth/devstorage.full_control&request_id=LDZgbCBYbuf5EHdYt_MbD1AmAx2xDLcOJ-MFcayLNE0&tc=mcYxHZ828GBMNf_p_jSbBAhF6zC6TmLzH_ik9ZPpGDQ&cc=eRNEjNK1te-e23ajcuRemWYL9HTUR7vGaML3KVRbqsQ>https://code.earthengine.google.com/client-auth?scopes=https%3A//www.googleapis.com/auth/earthengine%20https%3A//www.googleapis.com/auth/cloud-platform%20https%3A//www.googleapis.com/auth/devstorage.full_control&request_id=LDZgbCBYbuf5EHdYt_MbD1AmAx2xDLcOJ-MFcayLNE0&tc=mcYxHZ828GBMNf_p_jSbBAhF6zC6TmLzH_ik9ZPpGDQ&cc=eRNEjNK1te-e23ajcuRemWYL9HTUR7vGaML3KVRbqsQ</a></p>\n",
       "        <p>The authorization workflow will generate a code, which you should paste in the box below.</p>\n",
       "        "
      ],
      "text/plain": [
       "<IPython.core.display.HTML object>"
      ]
     },
     "metadata": {},
     "output_type": "display_data"
    },
    {
     "name": "stdin",
     "output_type": "stream",
     "text": [
      "Enter verification code:  4/1Ab_5qlkao17g3wgXTHSIHOslF-a5ooUOMZ2z4IeFzs6zLnB-jAEx8oDYFUs\n"
     ]
    },
    {
     "name": "stdout",
     "output_type": "stream",
     "text": [
      "\n",
      "Successfully saved authorization token.\n"
     ]
    }
   ],
   "source": [
    "# autheniticate\n",
    "ee.Authenticate()\n",
    "ee.Initialize()"
   ]
  },
  {
   "cell_type": "code",
   "execution_count": null,
   "id": "c22fcebf-ed0f-4519-8163-b6d48dd90348",
   "metadata": {},
   "outputs": [],
   "source": [
    "\n",
    "\n",
    "# Load shapefile using geopandas\n",
    "shapefile_path = \"rg_glaciers.shp\"\n",
    "gdf = gpd.read_file(shapefile_path)\n",
    "\n",
    "# Convert to Earth Engine FeatureCollection\n",
    "fc = geemap.geopandas_to_ee(gdf)\n",
    "\n",
    "# Define months of interest\n",
    "months = [6, 7, 9, 10]  # June, July, September, October\n",
    "\n",
    "# Sentinel-2 image collection and date range\n",
    "s2_collection = \"COPERNICUS/S2_SR\"  # Surface Reflectance\n",
    "start_date = '2015-06-23'  # Start of Sentinel-2A\n",
    "end_date = datetime.datetime.now().strftime('%Y-%m-%d')\n",
    "\n",
    "# Function to calculate NDSI\n",
    "def add_ndsi(img):\n",
    "    ndsi = img.normalizedDifference(['B3', 'B11']).rename('NDSI')\n",
    "    return img.addBands(ndsi)\n",
    "\n",
    "# Dictionary to hold results\n",
    "monthly_results = {}\n",
    "\n",
    "# Loop through months and extract mean NDSI per polygon\n",
    "for month in months:\n",
    "    # Filter by month and valid dates\n",
    "    collection = (\n",
    "        ee.ImageCollection(s2_collection)\n",
    "        .filterDate(start_date, end_date)\n",
    "        .filter(ee.Filter.calendarRange(month, month, 'month'))\n",
    "        .filter(ee.Filter.lt('CLOUDY_PIXEL_PERCENTAGE', 30))\n",
    "        .map(add_ndsi)\n",
    "        .select('NDSI')\n",
    "    )\n",
    "\n",
    "    # Calculate mean NDSI for the month\n",
    "    mean_image = collection.mean()\n",
    "\n",
    "    # Reduce over regions (polygons)\n",
    "    reduced = mean_image.reduceRegions(\n",
    "        collection=fc,\n",
    "        reducer=ee.Reducer.mean(),\n",
    "        scale=30\n",
    "    )\n",
    "\n",
    "    # Get results as a list\n",
    "    reduced_list = reduced.getInfo()\n",
    "\n",
    "    # Store in dictionary\n",
    "    monthly_results[month] = reduced_list\n",
    "\n",
    "# Print sample output\n",
    "for month, data in monthly_results.items():\n",
    "    print(f\"\\nMonth: {month}\")\n",
    "    for feature in data[:3]:  # print first 3 polygons as sample\n",
    "        print(f\"ID: {feature['properties'].get('id', 'n/a')}, Mean NDSI: {feature['properties'].get('mean')}\")\n"
   ]
  },
  {
   "cell_type": "code",
   "execution_count": null,
   "id": "0f8ef73c-959f-4133-b75e-a0700c496bc6",
   "metadata": {},
   "outputs": [],
   "source": []
  },
  {
   "cell_type": "code",
   "execution_count": null,
   "id": "e9e20419-9bca-4754-9e08-0ff6d4d29c47",
   "metadata": {},
   "outputs": [],
   "source": []
  },
  {
   "cell_type": "code",
   "execution_count": null,
   "id": "1e88d450-8427-4057-b67c-e1961d0206b4",
   "metadata": {},
   "outputs": [],
   "source": []
  },
  {
   "cell_type": "code",
   "execution_count": null,
   "id": "9a6a24ef-415b-43b5-8726-3af3caf7bbd9",
   "metadata": {},
   "outputs": [],
   "source": []
  },
  {
   "cell_type": "code",
   "execution_count": null,
   "id": "70c37f62-adb5-44ad-bfd2-7c736f3a8e0c",
   "metadata": {},
   "outputs": [],
   "source": []
  },
  {
   "cell_type": "code",
   "execution_count": null,
   "id": "ced93975-f86c-4d35-8043-bfdfe006f09e",
   "metadata": {},
   "outputs": [],
   "source": []
  },
  {
   "cell_type": "code",
   "execution_count": null,
   "id": "2e80d23a-1dd5-41f5-a7a5-2ac70d2006e8",
   "metadata": {},
   "outputs": [],
   "source": []
  },
  {
   "cell_type": "code",
   "execution_count": null,
   "id": "6262db91-0e73-4023-b393-643ac77e15dc",
   "metadata": {},
   "outputs": [],
   "source": []
  }
 ],
 "metadata": {
  "kernelspec": {
   "display_name": "Python 3 (ipykernel)",
   "language": "python",
   "name": "python3"
  },
  "language_info": {
   "codemirror_mode": {
    "name": "ipython",
    "version": 3
   },
   "file_extension": ".py",
   "mimetype": "text/x-python",
   "name": "python",
   "nbconvert_exporter": "python",
   "pygments_lexer": "ipython3",
   "version": "3.12.3"
  }
 },
 "nbformat": 4,
 "nbformat_minor": 5
}
