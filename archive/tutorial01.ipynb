{
 "cells": [
  {
   "cell_type": "markdown",
   "id": "689e8d61-906d-4914-bc3b-45571a842eae",
   "metadata": {},
   "source": [
    "# GEE tutorial"
   ]
  },
  {
   "cell_type": "code",
   "execution_count": 2,
   "id": "48bfe147-8709-44cc-8d79-87cb82064ef8",
   "metadata": {},
   "outputs": [],
   "source": [
    "# https://tutorials.geemap.org/Image/image_visualization/\n",
    "# https://book.geemap.org/chapters/03_gee_data.html\n",
    "# https://github.com/csaybar/EEwPython\n",
    "# https://github.com/opengeos/Awesome-GEE\n",
    "# https://blog.gishub.org/earth-engine"
   ]
  },
  {
   "cell_type": "code",
   "execution_count": 1,
   "id": "c1621719-369d-44a4-9369-d4a8cc9a714d",
   "metadata": {},
   "outputs": [],
   "source": []
  },
  {
   "cell_type": "code",
   "execution_count": 2,
   "id": "7ca2bf67-45e8-4ab9-b227-dc3d638caeaf",
   "metadata": {},
   "outputs": [],
   "source": []
  },
  {
   "cell_type": "code",
   "execution_count": 3,
   "id": "df9cfc97-aeb5-4e57-9258-bf87087d0d8b",
   "metadata": {},
   "outputs": [],
   "source": []
  },
  {
   "cell_type": "code",
   "execution_count": null,
   "id": "878b565f-2b66-4f35-b069-63d930ffa854",
   "metadata": {},
   "outputs": [],
   "source": []
  }
 ],
 "metadata": {
  "kernelspec": {
   "display_name": "Python 3 (ipykernel)",
   "language": "python",
   "name": "python3"
  },
  "language_info": {
   "codemirror_mode": {
    "name": "ipython",
    "version": 3
   },
   "file_extension": ".py",
   "mimetype": "text/x-python",
   "name": "python",
   "nbconvert_exporter": "python",
   "pygments_lexer": "ipython3",
   "version": "3.12.3"
  }
 },
 "nbformat": 4,
 "nbformat_minor": 5
}
